{
  "cells": [
    {
      "cell_type": "markdown",
      "metadata": {
        "id": "view-in-github",
        "colab_type": "text"
      },
      "source": [
        "<a href=\"https://colab.research.google.com/github/zakonreal/etc./blob/main/project_users_behavior_13.ipynb\" target=\"_parent\"><img src=\"https://colab.research.google.com/assets/colab-badge.svg\" alt=\"Open In Colab\"/></a>"
      ]
    },
    {
      "cell_type": "markdown",
      "metadata": {
        "id": "9ScbGK_H--sn"
      },
      "source": [
        "# Описание проекта"
      ]
    },
    {
      "cell_type": "markdown",
      "metadata": {
        "id": "-a2RJfJx--sp"
      },
      "source": [
        "Оператор мобильной связи «Мегалайн» выяснил: многие клиенты пользуются архивными тарифами. Они хотят построить систему, способную проанализировать поведение клиентов и предложить пользователям новый тариф: «Смарт» или «Ультра».\n",
        "В вашем распоряжении данные о поведении клиентов, которые уже перешли на эти тарифы (из проекта курса «Статистический анализ данных»). Нужно построить модель для задачи классификации, которая выберет подходящий тариф. Предобработка данных не понадобится — вы её уже сделали.\n",
        "Постройте модель с максимально большим значением accuracy. Чтобы сдать проект успешно, нужно довести долю правильных ответов по крайней мере до 0.75. Проверьте accuracy на тестовой выборке самостоятельно."
      ]
    },
    {
      "cell_type": "markdown",
      "metadata": {
        "id": "-eYE99Ke--sq"
      },
      "source": [
        "# Рекомендация тарифов"
      ]
    },
    {
      "cell_type": "markdown",
      "metadata": {
        "id": "9OCUq8ZX--sq"
      },
      "source": [
        "В вашем распоряжении данные о поведении клиентов, которые уже перешли на эти тарифы (из проекта курса «Статистический анализ данных»). Нужно построить модель для задачи классификации, которая выберет подходящий тариф. Предобработка данных не понадобится — вы её уже сделали.\n",
        "\n",
        "Постройте модель с максимально большим значением *accuracy*. Чтобы сдать проект успешно, нужно довести долю правильных ответов по крайней мере до 0.75. Проверьте *accuracy* на тестовой выборке самостоятельно."
      ]
    },
    {
      "cell_type": "markdown",
      "metadata": {
        "id": "kvefpbfu--sq"
      },
      "source": [
        "## Описание данных"
      ]
    },
    {
      "cell_type": "markdown",
      "metadata": {
        "id": "QGTq3G1q--sq"
      },
      "source": [
        "сalls — количество звонков\n",
        "\n",
        "minutes — суммарная длительность звонков в минутах\n",
        "\n",
        "messages — количество sms-сообщений\n",
        "\n",
        "mb_used — израсходованный интернет-трафик в Мб\n",
        "\n",
        "is_ultra — каким тарифом пользовался в течение месяца («Ультра» — 1, «Смарт» — 0)"
      ]
    },
    {
      "cell_type": "markdown",
      "metadata": {
        "id": "8GLtJj8_--sr"
      },
      "source": [
        "## Изучим данные"
      ]
    },
    {
      "cell_type": "code",
      "execution_count": 1,
      "metadata": {
        "scrolled": true,
        "colab": {
          "base_uri": "https://localhost:8080/",
          "height": 414
        },
        "id": "SFelTFul--sr",
        "outputId": "aa1811c7-dc68-4384-d016-eeccb7194824"
      },
      "outputs": [
        {
          "output_type": "display_data",
          "data": {
            "text/plain": [
              "   calls  minutes  messages   mb_used  is_ultra\n",
              "0   40.0   311.90      83.0  19915.42         0\n",
              "1   85.0   516.75      56.0  22696.96         0\n",
              "2   77.0   467.66      86.0  21060.45         0\n",
              "3  106.0   745.53      81.0   8437.39         1\n",
              "4   66.0   418.74       1.0  14502.75         0"
            ],
            "text/html": [
              "\n",
              "  <div id=\"df-13057d90-00e4-41ad-a658-3c6e543f0c60\" class=\"colab-df-container\">\n",
              "    <div>\n",
              "<style scoped>\n",
              "    .dataframe tbody tr th:only-of-type {\n",
              "        vertical-align: middle;\n",
              "    }\n",
              "\n",
              "    .dataframe tbody tr th {\n",
              "        vertical-align: top;\n",
              "    }\n",
              "\n",
              "    .dataframe thead th {\n",
              "        text-align: right;\n",
              "    }\n",
              "</style>\n",
              "<table border=\"1\" class=\"dataframe\">\n",
              "  <thead>\n",
              "    <tr style=\"text-align: right;\">\n",
              "      <th></th>\n",
              "      <th>calls</th>\n",
              "      <th>minutes</th>\n",
              "      <th>messages</th>\n",
              "      <th>mb_used</th>\n",
              "      <th>is_ultra</th>\n",
              "    </tr>\n",
              "  </thead>\n",
              "  <tbody>\n",
              "    <tr>\n",
              "      <th>0</th>\n",
              "      <td>40.0</td>\n",
              "      <td>311.90</td>\n",
              "      <td>83.0</td>\n",
              "      <td>19915.42</td>\n",
              "      <td>0</td>\n",
              "    </tr>\n",
              "    <tr>\n",
              "      <th>1</th>\n",
              "      <td>85.0</td>\n",
              "      <td>516.75</td>\n",
              "      <td>56.0</td>\n",
              "      <td>22696.96</td>\n",
              "      <td>0</td>\n",
              "    </tr>\n",
              "    <tr>\n",
              "      <th>2</th>\n",
              "      <td>77.0</td>\n",
              "      <td>467.66</td>\n",
              "      <td>86.0</td>\n",
              "      <td>21060.45</td>\n",
              "      <td>0</td>\n",
              "    </tr>\n",
              "    <tr>\n",
              "      <th>3</th>\n",
              "      <td>106.0</td>\n",
              "      <td>745.53</td>\n",
              "      <td>81.0</td>\n",
              "      <td>8437.39</td>\n",
              "      <td>1</td>\n",
              "    </tr>\n",
              "    <tr>\n",
              "      <th>4</th>\n",
              "      <td>66.0</td>\n",
              "      <td>418.74</td>\n",
              "      <td>1.0</td>\n",
              "      <td>14502.75</td>\n",
              "      <td>0</td>\n",
              "    </tr>\n",
              "  </tbody>\n",
              "</table>\n",
              "</div>\n",
              "    <div class=\"colab-df-buttons\">\n",
              "\n",
              "  <div class=\"colab-df-container\">\n",
              "    <button class=\"colab-df-convert\" onclick=\"convertToInteractive('df-13057d90-00e4-41ad-a658-3c6e543f0c60')\"\n",
              "            title=\"Convert this dataframe to an interactive table.\"\n",
              "            style=\"display:none;\">\n",
              "\n",
              "  <svg xmlns=\"http://www.w3.org/2000/svg\" height=\"24px\" viewBox=\"0 -960 960 960\">\n",
              "    <path d=\"M120-120v-720h720v720H120Zm60-500h600v-160H180v160Zm220 220h160v-160H400v160Zm0 220h160v-160H400v160ZM180-400h160v-160H180v160Zm440 0h160v-160H620v160ZM180-180h160v-160H180v160Zm440 0h160v-160H620v160Z\"/>\n",
              "  </svg>\n",
              "    </button>\n",
              "\n",
              "  <style>\n",
              "    .colab-df-container {\n",
              "      display:flex;\n",
              "      gap: 12px;\n",
              "    }\n",
              "\n",
              "    .colab-df-convert {\n",
              "      background-color: #E8F0FE;\n",
              "      border: none;\n",
              "      border-radius: 50%;\n",
              "      cursor: pointer;\n",
              "      display: none;\n",
              "      fill: #1967D2;\n",
              "      height: 32px;\n",
              "      padding: 0 0 0 0;\n",
              "      width: 32px;\n",
              "    }\n",
              "\n",
              "    .colab-df-convert:hover {\n",
              "      background-color: #E2EBFA;\n",
              "      box-shadow: 0px 1px 2px rgba(60, 64, 67, 0.3), 0px 1px 3px 1px rgba(60, 64, 67, 0.15);\n",
              "      fill: #174EA6;\n",
              "    }\n",
              "\n",
              "    .colab-df-buttons div {\n",
              "      margin-bottom: 4px;\n",
              "    }\n",
              "\n",
              "    [theme=dark] .colab-df-convert {\n",
              "      background-color: #3B4455;\n",
              "      fill: #D2E3FC;\n",
              "    }\n",
              "\n",
              "    [theme=dark] .colab-df-convert:hover {\n",
              "      background-color: #434B5C;\n",
              "      box-shadow: 0px 1px 3px 1px rgba(0, 0, 0, 0.15);\n",
              "      filter: drop-shadow(0px 1px 2px rgba(0, 0, 0, 0.3));\n",
              "      fill: #FFFFFF;\n",
              "    }\n",
              "  </style>\n",
              "\n",
              "    <script>\n",
              "      const buttonEl =\n",
              "        document.querySelector('#df-13057d90-00e4-41ad-a658-3c6e543f0c60 button.colab-df-convert');\n",
              "      buttonEl.style.display =\n",
              "        google.colab.kernel.accessAllowed ? 'block' : 'none';\n",
              "\n",
              "      async function convertToInteractive(key) {\n",
              "        const element = document.querySelector('#df-13057d90-00e4-41ad-a658-3c6e543f0c60');\n",
              "        const dataTable =\n",
              "          await google.colab.kernel.invokeFunction('convertToInteractive',\n",
              "                                                    [key], {});\n",
              "        if (!dataTable) return;\n",
              "\n",
              "        const docLinkHtml = 'Like what you see? Visit the ' +\n",
              "          '<a target=\"_blank\" href=https://colab.research.google.com/notebooks/data_table.ipynb>data table notebook</a>'\n",
              "          + ' to learn more about interactive tables.';\n",
              "        element.innerHTML = '';\n",
              "        dataTable['output_type'] = 'display_data';\n",
              "        await google.colab.output.renderOutput(dataTable, element);\n",
              "        const docLink = document.createElement('div');\n",
              "        docLink.innerHTML = docLinkHtml;\n",
              "        element.appendChild(docLink);\n",
              "      }\n",
              "    </script>\n",
              "  </div>\n",
              "\n",
              "\n",
              "<div id=\"df-b202e0d1-f7d1-4408-bdb4-8616450a9ad5\">\n",
              "  <button class=\"colab-df-quickchart\" onclick=\"quickchart('df-b202e0d1-f7d1-4408-bdb4-8616450a9ad5')\"\n",
              "            title=\"Suggest charts\"\n",
              "            style=\"display:none;\">\n",
              "\n",
              "<svg xmlns=\"http://www.w3.org/2000/svg\" height=\"24px\"viewBox=\"0 0 24 24\"\n",
              "     width=\"24px\">\n",
              "    <g>\n",
              "        <path d=\"M19 3H5c-1.1 0-2 .9-2 2v14c0 1.1.9 2 2 2h14c1.1 0 2-.9 2-2V5c0-1.1-.9-2-2-2zM9 17H7v-7h2v7zm4 0h-2V7h2v10zm4 0h-2v-4h2v4z\"/>\n",
              "    </g>\n",
              "</svg>\n",
              "  </button>\n",
              "\n",
              "<style>\n",
              "  .colab-df-quickchart {\n",
              "      --bg-color: #E8F0FE;\n",
              "      --fill-color: #1967D2;\n",
              "      --hover-bg-color: #E2EBFA;\n",
              "      --hover-fill-color: #174EA6;\n",
              "      --disabled-fill-color: #AAA;\n",
              "      --disabled-bg-color: #DDD;\n",
              "  }\n",
              "\n",
              "  [theme=dark] .colab-df-quickchart {\n",
              "      --bg-color: #3B4455;\n",
              "      --fill-color: #D2E3FC;\n",
              "      --hover-bg-color: #434B5C;\n",
              "      --hover-fill-color: #FFFFFF;\n",
              "      --disabled-bg-color: #3B4455;\n",
              "      --disabled-fill-color: #666;\n",
              "  }\n",
              "\n",
              "  .colab-df-quickchart {\n",
              "    background-color: var(--bg-color);\n",
              "    border: none;\n",
              "    border-radius: 50%;\n",
              "    cursor: pointer;\n",
              "    display: none;\n",
              "    fill: var(--fill-color);\n",
              "    height: 32px;\n",
              "    padding: 0;\n",
              "    width: 32px;\n",
              "  }\n",
              "\n",
              "  .colab-df-quickchart:hover {\n",
              "    background-color: var(--hover-bg-color);\n",
              "    box-shadow: 0 1px 2px rgba(60, 64, 67, 0.3), 0 1px 3px 1px rgba(60, 64, 67, 0.15);\n",
              "    fill: var(--button-hover-fill-color);\n",
              "  }\n",
              "\n",
              "  .colab-df-quickchart-complete:disabled,\n",
              "  .colab-df-quickchart-complete:disabled:hover {\n",
              "    background-color: var(--disabled-bg-color);\n",
              "    fill: var(--disabled-fill-color);\n",
              "    box-shadow: none;\n",
              "  }\n",
              "\n",
              "  .colab-df-spinner {\n",
              "    border: 2px solid var(--fill-color);\n",
              "    border-color: transparent;\n",
              "    border-bottom-color: var(--fill-color);\n",
              "    animation:\n",
              "      spin 1s steps(1) infinite;\n",
              "  }\n",
              "\n",
              "  @keyframes spin {\n",
              "    0% {\n",
              "      border-color: transparent;\n",
              "      border-bottom-color: var(--fill-color);\n",
              "      border-left-color: var(--fill-color);\n",
              "    }\n",
              "    20% {\n",
              "      border-color: transparent;\n",
              "      border-left-color: var(--fill-color);\n",
              "      border-top-color: var(--fill-color);\n",
              "    }\n",
              "    30% {\n",
              "      border-color: transparent;\n",
              "      border-left-color: var(--fill-color);\n",
              "      border-top-color: var(--fill-color);\n",
              "      border-right-color: var(--fill-color);\n",
              "    }\n",
              "    40% {\n",
              "      border-color: transparent;\n",
              "      border-right-color: var(--fill-color);\n",
              "      border-top-color: var(--fill-color);\n",
              "    }\n",
              "    60% {\n",
              "      border-color: transparent;\n",
              "      border-right-color: var(--fill-color);\n",
              "    }\n",
              "    80% {\n",
              "      border-color: transparent;\n",
              "      border-right-color: var(--fill-color);\n",
              "      border-bottom-color: var(--fill-color);\n",
              "    }\n",
              "    90% {\n",
              "      border-color: transparent;\n",
              "      border-bottom-color: var(--fill-color);\n",
              "    }\n",
              "  }\n",
              "</style>\n",
              "\n",
              "  <script>\n",
              "    async function quickchart(key) {\n",
              "      const quickchartButtonEl =\n",
              "        document.querySelector('#' + key + ' button');\n",
              "      quickchartButtonEl.disabled = true;  // To prevent multiple clicks.\n",
              "      quickchartButtonEl.classList.add('colab-df-spinner');\n",
              "      try {\n",
              "        const charts = await google.colab.kernel.invokeFunction(\n",
              "            'suggestCharts', [key], {});\n",
              "      } catch (error) {\n",
              "        console.error('Error during call to suggestCharts:', error);\n",
              "      }\n",
              "      quickchartButtonEl.classList.remove('colab-df-spinner');\n",
              "      quickchartButtonEl.classList.add('colab-df-quickchart-complete');\n",
              "    }\n",
              "    (() => {\n",
              "      let quickchartButtonEl =\n",
              "        document.querySelector('#df-b202e0d1-f7d1-4408-bdb4-8616450a9ad5 button');\n",
              "      quickchartButtonEl.style.display =\n",
              "        google.colab.kernel.accessAllowed ? 'block' : 'none';\n",
              "    })();\n",
              "  </script>\n",
              "</div>\n",
              "    </div>\n",
              "  </div>\n"
            ],
            "application/vnd.google.colaboratory.intrinsic+json": {
              "type": "dataframe",
              "summary": "{\n  \"name\": \"df\",\n  \"rows\": 5,\n  \"fields\": [\n    {\n      \"column\": \"calls\",\n      \"properties\": {\n        \"dtype\": \"number\",\n        \"std\": 24.345430782797827,\n        \"min\": 40.0,\n        \"max\": 106.0,\n        \"num_unique_values\": 5,\n        \"samples\": [\n          85.0,\n          66.0,\n          77.0\n        ],\n        \"semantic_type\": \"\",\n        \"description\": \"\"\n      }\n    },\n    {\n      \"column\": \"minutes\",\n      \"properties\": {\n        \"dtype\": \"number\",\n        \"std\": 160.69025275355068,\n        \"min\": 311.89999999999986,\n        \"max\": 745.53,\n        \"num_unique_values\": 5,\n        \"samples\": [\n          516.75,\n          418.74,\n          467.66000000000014\n        ],\n        \"semantic_type\": \"\",\n        \"description\": \"\"\n      }\n    },\n    {\n      \"column\": \"messages\",\n      \"properties\": {\n        \"dtype\": \"number\",\n        \"std\": 35.82317685521484,\n        \"min\": 1.0,\n        \"max\": 86.0,\n        \"num_unique_values\": 5,\n        \"samples\": [\n          56.0,\n          1.0,\n          86.0\n        ],\n        \"semantic_type\": \"\",\n        \"description\": \"\"\n      }\n    },\n    {\n      \"column\": \"mb_used\",\n      \"properties\": {\n        \"dtype\": \"number\",\n        \"std\": 5841.157726660871,\n        \"min\": 8437.39,\n        \"max\": 22696.96,\n        \"num_unique_values\": 5,\n        \"samples\": [\n          22696.96,\n          14502.750000000002,\n          21060.45\n        ],\n        \"semantic_type\": \"\",\n        \"description\": \"\"\n      }\n    },\n    {\n      \"column\": \"is_ultra\",\n      \"properties\": {\n        \"dtype\": \"number\",\n        \"std\": 0,\n        \"min\": 0,\n        \"max\": 1,\n        \"num_unique_values\": 2,\n        \"samples\": [\n          1,\n          0\n        ],\n        \"semantic_type\": \"\",\n        \"description\": \"\"\n      }\n    }\n  ]\n}"
            }
          },
          "metadata": {}
        },
        {
          "output_type": "stream",
          "name": "stdout",
          "text": [
            "<class 'pandas.core.frame.DataFrame'>\n",
            "Int64Index: 3214 entries, 0 to 3213\n",
            "Data columns (total 5 columns):\n",
            " #   Column    Non-Null Count  Dtype  \n",
            "---  ------    --------------  -----  \n",
            " 0   calls     3214 non-null   float64\n",
            " 1   minutes   3214 non-null   float64\n",
            " 2   messages  3214 non-null   float64\n",
            " 3   mb_used   3214 non-null   float64\n",
            " 4   is_ultra  3214 non-null   int64  \n",
            "dtypes: float64(4), int64(1)\n",
            "memory usage: 150.7 KB\n"
          ]
        }
      ],
      "source": [
        "#Подключим библиотеки\n",
        "import pandas as pd\n",
        "from sklearn.tree import DecisionTreeClassifier\n",
        "from sklearn.metrics import accuracy_score\n",
        "from sklearn.model_selection import train_test_split\n",
        "from sklearn.ensemble import RandomForestClassifier\n",
        "from sklearn.linear_model import LogisticRegression\n",
        "from sklearn.metrics import roc_auc_score\n",
        "from sklearn.metrics import roc_curve\n",
        "import matplotlib.pyplot as plt\n",
        "\n",
        "#Откроем файл\n",
        "df = pd.read_csv('users_behavior.csv', index_col=0)\n",
        "\n",
        "#Отобразим первые 5 строк таблицы\n",
        "display(df.head(5))\n",
        "\n",
        "##Просмотрим общую информации о таблице\n",
        "df.info()"
      ]
    },
    {
      "cell_type": "markdown",
      "metadata": {
        "id": "qTnGZBJo--ss"
      },
      "source": [
        "## Вывод:"
      ]
    },
    {
      "cell_type": "markdown",
      "metadata": {
        "id": "Qwvf3v3D--st"
      },
      "source": [
        "Таблица содержит 3214 строк и не имеет нулевых значений. В таблице 5 столбцов со следующим наименованием: calls, minutes, messages, mb_used, is_ultra. Столбец is_ultra в формате int64, все остальные столбцы в формате float64."
      ]
    },
    {
      "cell_type": "code",
      "execution_count": 2,
      "metadata": {
        "colab": {
          "base_uri": "https://localhost:8080/"
        },
        "id": "vj4vE3t_--st",
        "outputId": "39abc212-6c95-4a5d-d789-f34105bf2853"
      },
      "outputs": [
        {
          "output_type": "execute_result",
          "data": {
            "text/plain": [
              "0    2229\n",
              "1     985\n",
              "Name: is_ultra, dtype: int64"
            ]
          },
          "metadata": {},
          "execution_count": 2
        }
      ],
      "source": [
        "df.is_ultra.value_counts()"
      ]
    },
    {
      "cell_type": "markdown",
      "metadata": {
        "id": "uFEuDu32--su"
      },
      "source": [
        "# Разделим данные на выборки"
      ]
    },
    {
      "cell_type": "code",
      "execution_count": 3,
      "metadata": {
        "id": "sG9vBDxU--su"
      },
      "outputs": [],
      "source": [
        "#Выделим признаки из общих данных. Это все столбцы за исключением столбца 'is_ultra'\n",
        "features = df.drop(['is_ultra'], axis=1)\n",
        "\n",
        "#Выделим целевой признак из общих данных. Это исключительно столбец 'is_ultra'.\n",
        "target = df['is_ultra']\n",
        "\n",
        "#Выделим 20% тестовых данных из всего объема данных\n",
        "features_df1, features_test, target_df1, target_test = train_test_split(features, target, test_size=0.20, random_state=12345)\n",
        "\n",
        "#Разделим отавшиеся 80% данных на тренировочные и валидационные(проверечное). Данные делим в пропорции: 75% от общего числа\n",
        "#данных - это тренировочные, 25% от общего числа - это валидационные.\n",
        "features_train, features_valid, target_train, target_valid = train_test_split(features_df1, target_df1, test_size=0.25, random_state=12345)"
      ]
    },
    {
      "cell_type": "markdown",
      "metadata": {
        "id": "qUhNP2Mr--su"
      },
      "source": [
        "## Вывод:"
      ]
    },
    {
      "cell_type": "markdown",
      "metadata": {
        "id": "RPgObikW--su"
      },
      "source": [
        "Выделили признаки из общих данных, это все столбцы за исключением столбца 'is_ultra' и назвали их features.\n",
        "Выделили целевой признак из общих данных - это столбец 'is_ultra' и назвали его target.\n",
        "Далее от общего массива данных отделили 20% тестовых данных. Оставшийся массив разделили на тренировочне данные - это 75% данных и валидационные - это 25% данных. В итоге данные разделились в пропорции 60/20/20."
      ]
    },
    {
      "cell_type": "code",
      "execution_count": 4,
      "metadata": {
        "colab": {
          "base_uri": "https://localhost:8080/"
        },
        "id": "J45GAOsy--sv",
        "outputId": "4d8d12f3-6915-4bf4-8916-5e4110aca265"
      },
      "outputs": [
        {
          "output_type": "stream",
          "name": "stdout",
          "text": [
            "Соотношение:\n",
            "--> тренировка 0.6\n",
            "--> валидация 0.2\n",
            "--> тест 0.2\n"
          ]
        }
      ],
      "source": [
        "print('Соотношение:')\n",
        "print('--> тренировка', round(features_train.shape[0] / df.shape[0], 2))\n",
        "print('--> валидация', round(features_valid.shape[0] / df.shape[0], 2))\n",
        "print('--> тест', round(features_test.shape[0] / df.shape[0], 2))"
      ]
    },
    {
      "cell_type": "markdown",
      "metadata": {
        "id": "cNy0oWcO--sv"
      },
      "source": [
        "# Исследуем модели"
      ]
    },
    {
      "cell_type": "markdown",
      "metadata": {
        "id": "QR2EyVF_--sv"
      },
      "source": [
        "## Модель 'дерево решений'"
      ]
    },
    {
      "cell_type": "code",
      "execution_count": 5,
      "metadata": {
        "colab": {
          "base_uri": "https://localhost:8080/"
        },
        "id": "DaS67Aq4--sv",
        "outputId": "8359c12a-7d61-40f3-b98a-133442ff5ab6"
      },
      "outputs": [
        {
          "output_type": "stream",
          "name": "stdout",
          "text": [
            "Accuracy_score модели дерево решений на тестовой выборке:\n",
            "max_depth = 1 : 0.7247278382581649\n",
            "max_depth = 2 : 0.7325038880248833\n",
            "max_depth = 3 : 0.7620528771384136\n",
            "max_depth = 4 : 0.7542768273716952\n",
            "max_depth = 5 : 0.7682737169517885\n"
          ]
        },
        {
          "output_type": "stream",
          "name": "stderr",
          "text": [
            "/usr/local/lib/python3.10/dist-packages/sklearn/tree/_classes.py:269: FutureWarning: `max_features='auto'` has been deprecated in 1.1 and will be removed in 1.3. To keep the past behaviour, explicitly set `max_features='sqrt'`.\n",
            "  warnings.warn(\n",
            "/usr/local/lib/python3.10/dist-packages/sklearn/tree/_classes.py:269: FutureWarning: `max_features='auto'` has been deprecated in 1.1 and will be removed in 1.3. To keep the past behaviour, explicitly set `max_features='sqrt'`.\n",
            "  warnings.warn(\n",
            "/usr/local/lib/python3.10/dist-packages/sklearn/tree/_classes.py:269: FutureWarning: `max_features='auto'` has been deprecated in 1.1 and will be removed in 1.3. To keep the past behaviour, explicitly set `max_features='sqrt'`.\n",
            "  warnings.warn(\n",
            "/usr/local/lib/python3.10/dist-packages/sklearn/tree/_classes.py:269: FutureWarning: `max_features='auto'` has been deprecated in 1.1 and will be removed in 1.3. To keep the past behaviour, explicitly set `max_features='sqrt'`.\n",
            "  warnings.warn(\n",
            "/usr/local/lib/python3.10/dist-packages/sklearn/tree/_classes.py:269: FutureWarning: `max_features='auto'` has been deprecated in 1.1 and will be removed in 1.3. To keep the past behaviour, explicitly set `max_features='sqrt'`.\n",
            "  warnings.warn(\n",
            "/usr/local/lib/python3.10/dist-packages/sklearn/tree/_classes.py:269: FutureWarning: `max_features='auto'` has been deprecated in 1.1 and will be removed in 1.3. To keep the past behaviour, explicitly set `max_features='sqrt'`.\n",
            "  warnings.warn(\n"
          ]
        },
        {
          "output_type": "stream",
          "name": "stdout",
          "text": [
            "max_depth = 6 : 0.7807153965785381\n",
            "max_depth = 7 : 0.7636080870917574\n",
            "max_depth = 8 : 0.776049766718507\n",
            "max_depth = 9 : 0.7698289269051322\n"
          ]
        },
        {
          "output_type": "stream",
          "name": "stderr",
          "text": [
            "/usr/local/lib/python3.10/dist-packages/sklearn/tree/_classes.py:269: FutureWarning: `max_features='auto'` has been deprecated in 1.1 and will be removed in 1.3. To keep the past behaviour, explicitly set `max_features='sqrt'`.\n",
            "  warnings.warn(\n",
            "/usr/local/lib/python3.10/dist-packages/sklearn/tree/_classes.py:269: FutureWarning: `max_features='auto'` has been deprecated in 1.1 and will be removed in 1.3. To keep the past behaviour, explicitly set `max_features='sqrt'`.\n",
            "  warnings.warn(\n",
            "/usr/local/lib/python3.10/dist-packages/sklearn/tree/_classes.py:269: FutureWarning: `max_features='auto'` has been deprecated in 1.1 and will be removed in 1.3. To keep the past behaviour, explicitly set `max_features='sqrt'`.\n",
            "  warnings.warn(\n"
          ]
        }
      ],
      "source": [
        "#Напишем цикл для глубины дерева решиня равное 9 (depth от 1 до 10)\n",
        "#Установим энтропию, вместо критерия Джини и random_state равное 12345, число признаков для выбора расщепления auto (max_features='auto')\n",
        "print('Accuracy_score модели дерево решений на тестовой выборке:')\n",
        "for depth in range(1,10):\n",
        "    model = DecisionTreeClassifier(random_state=12345, max_depth=depth, max_features='auto', criterion = 'entropy')#установим гиперпараметры\n",
        "    model.fit(features_train, target_train) #обучим модель на тренировочной выборке\n",
        "    predictions_valid = model.predict(features_valid) #предскажем результат на валидационной выборке\n",
        "    print(\"max_depth =\", depth, \": \", end='')\n",
        "    print(accuracy_score(target_valid, predictions_valid)) #оценим качество модели"
      ]
    },
    {
      "cell_type": "markdown",
      "metadata": {
        "id": "Dx6jPgN6--sw"
      },
      "source": [
        "## Вывод:"
      ]
    },
    {
      "cell_type": "markdown",
      "metadata": {
        "id": "3RgS69OC--sw"
      },
      "source": [
        "Для модели 'дерево решений' написали цикл с переборкой глубины от 1 до 9 и вывели список результатов. Для улучшения качества модели установили следующие гиперпараметры:\n",
        "random_state=12345\n",
        "max_depth=depth (глубина дерева решений будет изменяться в диапозоне от 1 до 9)\n",
        "max_features='auto' - число признаков для выбора расщепления\n",
        "criterion = 'entropy' - изменен критерий Джини, который установлен по умолчания, на энтропию.\n",
        "По полученным результатам можно сделать вывод, что максимальная доля правильных ответов модели наблюдается при глубине дерева равное 6 (max_depth = 6) и составляет 0.7807153965785381."
      ]
    },
    {
      "cell_type": "markdown",
      "metadata": {
        "id": "drUpQu9q--sw"
      },
      "source": [
        "## Модель 'случайный лес'"
      ]
    },
    {
      "cell_type": "code",
      "execution_count": 6,
      "metadata": {
        "colab": {
          "base_uri": "https://localhost:8080/"
        },
        "id": "3LgjuVJx--sw",
        "outputId": "20bfbd3a-a3ad-4d9f-9781-70bcd08f6bd3"
      },
      "outputs": [
        {
          "output_type": "stream",
          "name": "stdout",
          "text": [
            "Accuracy наилучшей модели 'случайный лес' на валидационной выборке: 0.8087091757387247\n"
          ]
        }
      ],
      "source": [
        "# Напишем функцию для модели 'случайный лес', чтобы выбрать лучшую модель в зависимости от количества деревьев.\n",
        "best_model = None\n",
        "best_result = 0\n",
        "for est in range(1, 50):\n",
        "    for depth in range(1,30):\n",
        "        model = RandomForestClassifier(random_state=12345, max_depth=depth, n_estimators=est, criterion = 'entropy', min_samples_split=3, min_samples_leaf=1) #установим гиперпараметры\n",
        "        model.fit(features_train, target_train) # обучим модель на тренировочной выборке\n",
        "        result = model.score(features_valid, target_valid) # посчитаем качество модели на валидационной выборке\n",
        "        if result > best_result:\n",
        "            best_model = model\n",
        "            best_result = result\n",
        "\n",
        "print(\"Accuracy наилучшей модели 'случайный лес' на валидационной выборке:\", best_result)"
      ]
    },
    {
      "cell_type": "markdown",
      "metadata": {
        "id": "tdTBZvg---sw"
      },
      "source": [
        "## Вывод:"
      ]
    },
    {
      "cell_type": "markdown",
      "metadata": {
        "id": "jCJnZF5V--sw"
      },
      "source": [
        "Для модели 'случайный лес' был написан двойной цикл с перебором количеством деревьев. Методом подбора максимального количества деревьев и глубины, пришли к выводу, что лучший результат наблюдается при количестве деревьев 30(n_estimators=30) и глубины 50(max_depth=50)  и составляет 0.8087091757387247. Для улучшения качества модели установили следующие гиперпараметры:\n",
        "random_state=12345\n",
        "max_depth=depth - глубина дерева (от 1 до 50)\n",
        "n_estimators=est - количество деревьев в модели (от 1 до 30)\n",
        "criterion = 'entropy' - изменен критерий Джини, который установлен по умолчания, на энтропию.\n",
        "min_samples_split=3 - минимальное количество выборок, необходимое для разделения внутреннего узла.\n",
        "min_samples_leaf=1 - минимальное количество образцов, которое должно быть в листовом узле.\n"
      ]
    },
    {
      "cell_type": "markdown",
      "metadata": {
        "id": "eL-s9FAT--sw"
      },
      "source": [
        "## Модель 'логистическая регрессия'"
      ]
    },
    {
      "cell_type": "code",
      "execution_count": 7,
      "metadata": {
        "colab": {
          "base_uri": "https://localhost:8080/"
        },
        "id": "36fxLYJ9--sx",
        "outputId": "d9a944d8-571d-4373-9630-72dc5f37028b"
      },
      "outputs": [
        {
          "output_type": "stream",
          "name": "stdout",
          "text": [
            "Accuracy модели логистической регрессии на валидационной выборке: 0.7262830482115086\n"
          ]
        }
      ],
      "source": [
        "model = LogisticRegression(random_state=12345)#создадим модель и установим гиперпараметры\n",
        "model.fit(features_train, target_train) #обучим модель на тренировочной выборке\n",
        "result = model.score(features_valid, target_valid) #посчитаем качество модели\n",
        "print(\"Accuracy модели логистической регрессии на валидационной выборке:\", result)"
      ]
    },
    {
      "cell_type": "markdown",
      "metadata": {
        "id": "VxA1R8za--sx"
      },
      "source": [
        "## Вывод:"
      ]
    },
    {
      "cell_type": "markdown",
      "metadata": {
        "id": "acBs8fBw--sx"
      },
      "source": [
        "Для модели 'логистическая регрессия' установили гиперпараметр random_state=12345 и получили долю правильных ответов модели равное accuracy =  0.6967340590979783"
      ]
    },
    {
      "cell_type": "markdown",
      "metadata": {
        "id": "X_Lb4pXR--sx"
      },
      "source": [
        "## Общий вывод:"
      ]
    },
    {
      "cell_type": "markdown",
      "metadata": {
        "id": "vZvCP8df--sx"
      },
      "source": [
        "Было обучено на тренировочной выборке и проверено 3 модели ('дерево решений', 'случайный лес', 'логистическая регрессия') на валидационной выборки. Лучший качество было достигнуто на модели 'случайный лес', здесь accuracy = 0.8087091757387247 при количестве деревьев равной 30 и глубине равной 50.\n",
        "На втором месте это 'дерево решений', здесь accuracy = 0.7807153965785381 при глубине дерева равное 6.\n",
        "На последнем месте 'логистическая регрессия', здесь accuracy = 0.6967340590979783"
      ]
    },
    {
      "cell_type": "markdown",
      "metadata": {
        "id": "VkisnKHA--sx"
      },
      "source": [
        "# Проверим модели на тестовой выборке"
      ]
    },
    {
      "cell_type": "markdown",
      "metadata": {
        "id": "q972yq53--sx"
      },
      "source": [
        "## Проверка модели 'дерево решений' на тестовой выборке"
      ]
    },
    {
      "cell_type": "code",
      "execution_count": 8,
      "metadata": {
        "colab": {
          "base_uri": "https://localhost:8080/"
        },
        "id": "r8haBnCQ--sy",
        "outputId": "8caf0897-384f-44c3-d632-9bca27bcf5c7"
      },
      "outputs": [
        {
          "output_type": "stream",
          "name": "stdout",
          "text": [
            "Accuracy_score модели дерево решений на тестовой выборке: 0.7916018662519441\n"
          ]
        },
        {
          "output_type": "stream",
          "name": "stderr",
          "text": [
            "/usr/local/lib/python3.10/dist-packages/sklearn/tree/_classes.py:269: FutureWarning: `max_features='auto'` has been deprecated in 1.1 and will be removed in 1.3. To keep the past behaviour, explicitly set `max_features='sqrt'`.\n",
            "  warnings.warn(\n"
          ]
        }
      ],
      "source": [
        "model = DecisionTreeClassifier(random_state=12345, max_depth=6, max_features='auto', criterion = 'entropy') #установим гиперпараметры\n",
        "model.fit(features_train, target_train)#обучим модель на тренировочной выборке\n",
        "predictions_test = model.predict(features_test)#предскажем результат на тестовой выборке\n",
        "print('Accuracy_score модели дерево решений на тестовой выборке:', accuracy_score(target_test, predictions_test))#оценим качество модели"
      ]
    },
    {
      "cell_type": "markdown",
      "metadata": {
        "id": "VW5B41mn--sy"
      },
      "source": [
        "## Проверка модели 'случайный лес' на тестовой выборке"
      ]
    },
    {
      "cell_type": "code",
      "execution_count": 9,
      "metadata": {
        "colab": {
          "base_uri": "https://localhost:8080/"
        },
        "id": "AhJnLYll--sy",
        "outputId": "e80cbff6-a29a-46b9-e0d2-9858380de52e"
      },
      "outputs": [
        {
          "output_type": "stream",
          "name": "stdout",
          "text": [
            "Accuracy наилучшей модели 'случайный лес' на тестовой выборке: 0.7916018662519441\n"
          ]
        }
      ],
      "source": [
        "model = RandomForestClassifier(random_state=12345, n_estimators=50, max_depth=30, criterion = 'entropy', min_samples_split=3,min_samples_leaf=1)#установим гиперпараметры\n",
        "model.fit(features_train, target_train) #обучим модель на тренировочной выборке\n",
        "result = model.score(features_test, target_test) #посчитаем качество модели на тестовой выборке\n",
        "print(\"Accuracy наилучшей модели 'случайный лес' на тестовой выборке:\", result)"
      ]
    },
    {
      "cell_type": "markdown",
      "metadata": {
        "id": "fv-qVGyH--sy"
      },
      "source": [
        "## Проверка модели 'логистическая регрессия' на тестовой выборке"
      ]
    },
    {
      "cell_type": "code",
      "execution_count": 10,
      "metadata": {
        "colab": {
          "base_uri": "https://localhost:8080/"
        },
        "id": "CeLHKFqf--sy",
        "outputId": "4826afc5-79c1-4474-d292-4dfad295a62e"
      },
      "outputs": [
        {
          "output_type": "stream",
          "name": "stdout",
          "text": [
            "Accuracy модели логистической регрессии на тестовой выборке: 0.7589424572317263\n"
          ]
        }
      ],
      "source": [
        "model = LogisticRegression(random_state=12345, penalty='l2') #создадим модель и установим гиперпараметры\n",
        "model.fit(features_train, target_train) #обучим модель на тренировочной выборке\n",
        "result = model.score(features_test, target_test) #посчитаем качество модели\n",
        "print(\"Accuracy модели логистической регрессии на тестовой выборке:\", result)"
      ]
    },
    {
      "cell_type": "markdown",
      "metadata": {
        "id": "MSH8LpMT--sz"
      },
      "source": [
        "## Вывод:"
      ]
    },
    {
      "cell_type": "markdown",
      "metadata": {
        "id": "76KqKZFG--s3"
      },
      "source": [
        "При проверке 3-х моделей на тестовой выборке доля правильных ответов у моделей 'дерево решений' и 'логистической регрессии' возросло, а у 'модели' случайный лес чуть уменьшилось. Самый высокая доля правильных ответов получилась у двух моделей - это \"дерево решений\" и \"случайный лес\", здесь доля правильных ответов одинаковая и составляет 0.7916018662519441, а у модели \"логистическая регрессия\" accuracy = 0.702954898911353."
      ]
    },
    {
      "cell_type": "markdown",
      "metadata": {
        "id": "gAWPswOa--s3"
      },
      "source": [
        "# Проверка модели на адекватность"
      ]
    },
    {
      "cell_type": "markdown",
      "metadata": {
        "id": "ysylNcHy--s3"
      },
      "source": [
        "## Выделим из общего массива данных только строки с тарифом ultra."
      ]
    },
    {
      "cell_type": "code",
      "execution_count": 11,
      "metadata": {
        "colab": {
          "base_uri": "https://localhost:8080/",
          "height": 414
        },
        "id": "yaK1Xz3U--s3",
        "outputId": "c1c30b76-69c8-402f-d9c0-541af7ad7c00"
      },
      "outputs": [
        {
          "output_type": "display_data",
          "data": {
            "text/plain": [
              "    calls  minutes  messages   mb_used  is_ultra\n",
              "3   106.0   745.53      81.0   8437.39         1\n",
              "6    57.0   431.64      20.0   3738.90         1\n",
              "8     7.0    43.39       3.0   2538.67         1\n",
              "10   82.0   560.51      20.0   9619.53         1\n",
              "14  108.0   587.90       0.0  14406.50         1"
            ],
            "text/html": [
              "\n",
              "  <div id=\"df-d4a7abe2-b76f-44af-9e5f-b128884b7434\" class=\"colab-df-container\">\n",
              "    <div>\n",
              "<style scoped>\n",
              "    .dataframe tbody tr th:only-of-type {\n",
              "        vertical-align: middle;\n",
              "    }\n",
              "\n",
              "    .dataframe tbody tr th {\n",
              "        vertical-align: top;\n",
              "    }\n",
              "\n",
              "    .dataframe thead th {\n",
              "        text-align: right;\n",
              "    }\n",
              "</style>\n",
              "<table border=\"1\" class=\"dataframe\">\n",
              "  <thead>\n",
              "    <tr style=\"text-align: right;\">\n",
              "      <th></th>\n",
              "      <th>calls</th>\n",
              "      <th>minutes</th>\n",
              "      <th>messages</th>\n",
              "      <th>mb_used</th>\n",
              "      <th>is_ultra</th>\n",
              "    </tr>\n",
              "  </thead>\n",
              "  <tbody>\n",
              "    <tr>\n",
              "      <th>3</th>\n",
              "      <td>106.0</td>\n",
              "      <td>745.53</td>\n",
              "      <td>81.0</td>\n",
              "      <td>8437.39</td>\n",
              "      <td>1</td>\n",
              "    </tr>\n",
              "    <tr>\n",
              "      <th>6</th>\n",
              "      <td>57.0</td>\n",
              "      <td>431.64</td>\n",
              "      <td>20.0</td>\n",
              "      <td>3738.90</td>\n",
              "      <td>1</td>\n",
              "    </tr>\n",
              "    <tr>\n",
              "      <th>8</th>\n",
              "      <td>7.0</td>\n",
              "      <td>43.39</td>\n",
              "      <td>3.0</td>\n",
              "      <td>2538.67</td>\n",
              "      <td>1</td>\n",
              "    </tr>\n",
              "    <tr>\n",
              "      <th>10</th>\n",
              "      <td>82.0</td>\n",
              "      <td>560.51</td>\n",
              "      <td>20.0</td>\n",
              "      <td>9619.53</td>\n",
              "      <td>1</td>\n",
              "    </tr>\n",
              "    <tr>\n",
              "      <th>14</th>\n",
              "      <td>108.0</td>\n",
              "      <td>587.90</td>\n",
              "      <td>0.0</td>\n",
              "      <td>14406.50</td>\n",
              "      <td>1</td>\n",
              "    </tr>\n",
              "  </tbody>\n",
              "</table>\n",
              "</div>\n",
              "    <div class=\"colab-df-buttons\">\n",
              "\n",
              "  <div class=\"colab-df-container\">\n",
              "    <button class=\"colab-df-convert\" onclick=\"convertToInteractive('df-d4a7abe2-b76f-44af-9e5f-b128884b7434')\"\n",
              "            title=\"Convert this dataframe to an interactive table.\"\n",
              "            style=\"display:none;\">\n",
              "\n",
              "  <svg xmlns=\"http://www.w3.org/2000/svg\" height=\"24px\" viewBox=\"0 -960 960 960\">\n",
              "    <path d=\"M120-120v-720h720v720H120Zm60-500h600v-160H180v160Zm220 220h160v-160H400v160Zm0 220h160v-160H400v160ZM180-400h160v-160H180v160Zm440 0h160v-160H620v160ZM180-180h160v-160H180v160Zm440 0h160v-160H620v160Z\"/>\n",
              "  </svg>\n",
              "    </button>\n",
              "\n",
              "  <style>\n",
              "    .colab-df-container {\n",
              "      display:flex;\n",
              "      gap: 12px;\n",
              "    }\n",
              "\n",
              "    .colab-df-convert {\n",
              "      background-color: #E8F0FE;\n",
              "      border: none;\n",
              "      border-radius: 50%;\n",
              "      cursor: pointer;\n",
              "      display: none;\n",
              "      fill: #1967D2;\n",
              "      height: 32px;\n",
              "      padding: 0 0 0 0;\n",
              "      width: 32px;\n",
              "    }\n",
              "\n",
              "    .colab-df-convert:hover {\n",
              "      background-color: #E2EBFA;\n",
              "      box-shadow: 0px 1px 2px rgba(60, 64, 67, 0.3), 0px 1px 3px 1px rgba(60, 64, 67, 0.15);\n",
              "      fill: #174EA6;\n",
              "    }\n",
              "\n",
              "    .colab-df-buttons div {\n",
              "      margin-bottom: 4px;\n",
              "    }\n",
              "\n",
              "    [theme=dark] .colab-df-convert {\n",
              "      background-color: #3B4455;\n",
              "      fill: #D2E3FC;\n",
              "    }\n",
              "\n",
              "    [theme=dark] .colab-df-convert:hover {\n",
              "      background-color: #434B5C;\n",
              "      box-shadow: 0px 1px 3px 1px rgba(0, 0, 0, 0.15);\n",
              "      filter: drop-shadow(0px 1px 2px rgba(0, 0, 0, 0.3));\n",
              "      fill: #FFFFFF;\n",
              "    }\n",
              "  </style>\n",
              "\n",
              "    <script>\n",
              "      const buttonEl =\n",
              "        document.querySelector('#df-d4a7abe2-b76f-44af-9e5f-b128884b7434 button.colab-df-convert');\n",
              "      buttonEl.style.display =\n",
              "        google.colab.kernel.accessAllowed ? 'block' : 'none';\n",
              "\n",
              "      async function convertToInteractive(key) {\n",
              "        const element = document.querySelector('#df-d4a7abe2-b76f-44af-9e5f-b128884b7434');\n",
              "        const dataTable =\n",
              "          await google.colab.kernel.invokeFunction('convertToInteractive',\n",
              "                                                    [key], {});\n",
              "        if (!dataTable) return;\n",
              "\n",
              "        const docLinkHtml = 'Like what you see? Visit the ' +\n",
              "          '<a target=\"_blank\" href=https://colab.research.google.com/notebooks/data_table.ipynb>data table notebook</a>'\n",
              "          + ' to learn more about interactive tables.';\n",
              "        element.innerHTML = '';\n",
              "        dataTable['output_type'] = 'display_data';\n",
              "        await google.colab.output.renderOutput(dataTable, element);\n",
              "        const docLink = document.createElement('div');\n",
              "        docLink.innerHTML = docLinkHtml;\n",
              "        element.appendChild(docLink);\n",
              "      }\n",
              "    </script>\n",
              "  </div>\n",
              "\n",
              "\n",
              "<div id=\"df-ccb2e693-c8d2-494d-9b6b-8fb18b213f49\">\n",
              "  <button class=\"colab-df-quickchart\" onclick=\"quickchart('df-ccb2e693-c8d2-494d-9b6b-8fb18b213f49')\"\n",
              "            title=\"Suggest charts\"\n",
              "            style=\"display:none;\">\n",
              "\n",
              "<svg xmlns=\"http://www.w3.org/2000/svg\" height=\"24px\"viewBox=\"0 0 24 24\"\n",
              "     width=\"24px\">\n",
              "    <g>\n",
              "        <path d=\"M19 3H5c-1.1 0-2 .9-2 2v14c0 1.1.9 2 2 2h14c1.1 0 2-.9 2-2V5c0-1.1-.9-2-2-2zM9 17H7v-7h2v7zm4 0h-2V7h2v10zm4 0h-2v-4h2v4z\"/>\n",
              "    </g>\n",
              "</svg>\n",
              "  </button>\n",
              "\n",
              "<style>\n",
              "  .colab-df-quickchart {\n",
              "      --bg-color: #E8F0FE;\n",
              "      --fill-color: #1967D2;\n",
              "      --hover-bg-color: #E2EBFA;\n",
              "      --hover-fill-color: #174EA6;\n",
              "      --disabled-fill-color: #AAA;\n",
              "      --disabled-bg-color: #DDD;\n",
              "  }\n",
              "\n",
              "  [theme=dark] .colab-df-quickchart {\n",
              "      --bg-color: #3B4455;\n",
              "      --fill-color: #D2E3FC;\n",
              "      --hover-bg-color: #434B5C;\n",
              "      --hover-fill-color: #FFFFFF;\n",
              "      --disabled-bg-color: #3B4455;\n",
              "      --disabled-fill-color: #666;\n",
              "  }\n",
              "\n",
              "  .colab-df-quickchart {\n",
              "    background-color: var(--bg-color);\n",
              "    border: none;\n",
              "    border-radius: 50%;\n",
              "    cursor: pointer;\n",
              "    display: none;\n",
              "    fill: var(--fill-color);\n",
              "    height: 32px;\n",
              "    padding: 0;\n",
              "    width: 32px;\n",
              "  }\n",
              "\n",
              "  .colab-df-quickchart:hover {\n",
              "    background-color: var(--hover-bg-color);\n",
              "    box-shadow: 0 1px 2px rgba(60, 64, 67, 0.3), 0 1px 3px 1px rgba(60, 64, 67, 0.15);\n",
              "    fill: var(--button-hover-fill-color);\n",
              "  }\n",
              "\n",
              "  .colab-df-quickchart-complete:disabled,\n",
              "  .colab-df-quickchart-complete:disabled:hover {\n",
              "    background-color: var(--disabled-bg-color);\n",
              "    fill: var(--disabled-fill-color);\n",
              "    box-shadow: none;\n",
              "  }\n",
              "\n",
              "  .colab-df-spinner {\n",
              "    border: 2px solid var(--fill-color);\n",
              "    border-color: transparent;\n",
              "    border-bottom-color: var(--fill-color);\n",
              "    animation:\n",
              "      spin 1s steps(1) infinite;\n",
              "  }\n",
              "\n",
              "  @keyframes spin {\n",
              "    0% {\n",
              "      border-color: transparent;\n",
              "      border-bottom-color: var(--fill-color);\n",
              "      border-left-color: var(--fill-color);\n",
              "    }\n",
              "    20% {\n",
              "      border-color: transparent;\n",
              "      border-left-color: var(--fill-color);\n",
              "      border-top-color: var(--fill-color);\n",
              "    }\n",
              "    30% {\n",
              "      border-color: transparent;\n",
              "      border-left-color: var(--fill-color);\n",
              "      border-top-color: var(--fill-color);\n",
              "      border-right-color: var(--fill-color);\n",
              "    }\n",
              "    40% {\n",
              "      border-color: transparent;\n",
              "      border-right-color: var(--fill-color);\n",
              "      border-top-color: var(--fill-color);\n",
              "    }\n",
              "    60% {\n",
              "      border-color: transparent;\n",
              "      border-right-color: var(--fill-color);\n",
              "    }\n",
              "    80% {\n",
              "      border-color: transparent;\n",
              "      border-right-color: var(--fill-color);\n",
              "      border-bottom-color: var(--fill-color);\n",
              "    }\n",
              "    90% {\n",
              "      border-color: transparent;\n",
              "      border-bottom-color: var(--fill-color);\n",
              "    }\n",
              "  }\n",
              "</style>\n",
              "\n",
              "  <script>\n",
              "    async function quickchart(key) {\n",
              "      const quickchartButtonEl =\n",
              "        document.querySelector('#' + key + ' button');\n",
              "      quickchartButtonEl.disabled = true;  // To prevent multiple clicks.\n",
              "      quickchartButtonEl.classList.add('colab-df-spinner');\n",
              "      try {\n",
              "        const charts = await google.colab.kernel.invokeFunction(\n",
              "            'suggestCharts', [key], {});\n",
              "      } catch (error) {\n",
              "        console.error('Error during call to suggestCharts:', error);\n",
              "      }\n",
              "      quickchartButtonEl.classList.remove('colab-df-spinner');\n",
              "      quickchartButtonEl.classList.add('colab-df-quickchart-complete');\n",
              "    }\n",
              "    (() => {\n",
              "      let quickchartButtonEl =\n",
              "        document.querySelector('#df-ccb2e693-c8d2-494d-9b6b-8fb18b213f49 button');\n",
              "      quickchartButtonEl.style.display =\n",
              "        google.colab.kernel.accessAllowed ? 'block' : 'none';\n",
              "    })();\n",
              "  </script>\n",
              "</div>\n",
              "    </div>\n",
              "  </div>\n"
            ],
            "application/vnd.google.colaboratory.intrinsic+json": {
              "type": "dataframe",
              "summary": "{\n  \"name\": \"df_test2\",\n  \"rows\": 5,\n  \"fields\": [\n    {\n      \"column\": \"calls\",\n      \"properties\": {\n        \"dtype\": \"number\",\n        \"std\": 41.83897704294406,\n        \"min\": 7.0,\n        \"max\": 108.0,\n        \"num_unique_values\": 5,\n        \"samples\": [\n          57.0,\n          108.0,\n          7.0\n        ],\n        \"semantic_type\": \"\",\n        \"description\": \"\"\n      }\n    },\n    {\n      \"column\": \"minutes\",\n      \"properties\": {\n        \"dtype\": \"number\",\n        \"std\": 265.2380348479456,\n        \"min\": 43.39,\n        \"max\": 745.53,\n        \"num_unique_values\": 5,\n        \"samples\": [\n          431.64000000000016,\n          587.9000000000002,\n          43.39\n        ],\n        \"semantic_type\": \"\",\n        \"description\": \"\"\n      }\n    },\n    {\n      \"column\": \"messages\",\n      \"properties\": {\n        \"dtype\": \"number\",\n        \"std\": 32.76736181019156,\n        \"min\": 0.0,\n        \"max\": 81.0,\n        \"num_unique_values\": 4,\n        \"samples\": [\n          20.0,\n          0.0,\n          81.0\n        ],\n        \"semantic_type\": \"\",\n        \"description\": \"\"\n      }\n    },\n    {\n      \"column\": \"mb_used\",\n      \"properties\": {\n        \"dtype\": \"number\",\n        \"std\": 4783.395943936693,\n        \"min\": 2538.67,\n        \"max\": 14406.500000000002,\n        \"num_unique_values\": 5,\n        \"samples\": [\n          3738.900000000001,\n          14406.500000000002,\n          2538.67\n        ],\n        \"semantic_type\": \"\",\n        \"description\": \"\"\n      }\n    },\n    {\n      \"column\": \"is_ultra\",\n      \"properties\": {\n        \"dtype\": \"number\",\n        \"std\": 0,\n        \"min\": 1,\n        \"max\": 1,\n        \"num_unique_values\": 1,\n        \"samples\": [\n          1\n        ],\n        \"semantic_type\": \"\",\n        \"description\": \"\"\n      }\n    }\n  ]\n}"
            }
          },
          "metadata": {}
        },
        {
          "output_type": "stream",
          "name": "stdout",
          "text": [
            "<class 'pandas.core.frame.DataFrame'>\n",
            "Int64Index: 985 entries, 3 to 3213\n",
            "Data columns (total 5 columns):\n",
            " #   Column    Non-Null Count  Dtype  \n",
            "---  ------    --------------  -----  \n",
            " 0   calls     985 non-null    float64\n",
            " 1   minutes   985 non-null    float64\n",
            " 2   messages  985 non-null    float64\n",
            " 3   mb_used   985 non-null    float64\n",
            " 4   is_ultra  985 non-null    int64  \n",
            "dtypes: float64(4), int64(1)\n",
            "memory usage: 46.2 KB\n"
          ]
        }
      ],
      "source": [
        "#Выделим из общего массива данных только строки с тарифом ultra и поместим эти данные в таблицу df_test2\n",
        "df_test2 = df.query('is_ultra == 1')\n",
        "\n",
        "#Отобразим первые 5 строк таблицы df_test2\n",
        "display(df_test2.head(5))\n",
        "\n",
        "#Отобразим информацию о таблице df_test2\n",
        "df_test2.info()"
      ]
    },
    {
      "cell_type": "markdown",
      "metadata": {
        "id": "Pe0GmL64--s4"
      },
      "source": [
        "## Создадим заведомо некорректную таблицу. В столбце 'is_ultra' заменим 1 на 0."
      ]
    },
    {
      "cell_type": "code",
      "execution_count": 12,
      "metadata": {
        "colab": {
          "base_uri": "https://localhost:8080/",
          "height": 206
        },
        "id": "2ZhUhN5O--s4",
        "outputId": "b80e7b41-ee28-4f5d-e7d0-2521f65c2f92"
      },
      "outputs": [
        {
          "output_type": "display_data",
          "data": {
            "text/plain": [
              "    calls  minutes  messages   mb_used  is_ultra\n",
              "3   106.0   745.53      81.0   8437.39         0\n",
              "6    57.0   431.64      20.0   3738.90         0\n",
              "8     7.0    43.39       3.0   2538.67         0\n",
              "10   82.0   560.51      20.0   9619.53         0\n",
              "14  108.0   587.90       0.0  14406.50         0"
            ],
            "text/html": [
              "\n",
              "  <div id=\"df-29ec714d-b197-4e1a-a3b5-f2e1d46853b5\" class=\"colab-df-container\">\n",
              "    <div>\n",
              "<style scoped>\n",
              "    .dataframe tbody tr th:only-of-type {\n",
              "        vertical-align: middle;\n",
              "    }\n",
              "\n",
              "    .dataframe tbody tr th {\n",
              "        vertical-align: top;\n",
              "    }\n",
              "\n",
              "    .dataframe thead th {\n",
              "        text-align: right;\n",
              "    }\n",
              "</style>\n",
              "<table border=\"1\" class=\"dataframe\">\n",
              "  <thead>\n",
              "    <tr style=\"text-align: right;\">\n",
              "      <th></th>\n",
              "      <th>calls</th>\n",
              "      <th>minutes</th>\n",
              "      <th>messages</th>\n",
              "      <th>mb_used</th>\n",
              "      <th>is_ultra</th>\n",
              "    </tr>\n",
              "  </thead>\n",
              "  <tbody>\n",
              "    <tr>\n",
              "      <th>3</th>\n",
              "      <td>106.0</td>\n",
              "      <td>745.53</td>\n",
              "      <td>81.0</td>\n",
              "      <td>8437.39</td>\n",
              "      <td>0</td>\n",
              "    </tr>\n",
              "    <tr>\n",
              "      <th>6</th>\n",
              "      <td>57.0</td>\n",
              "      <td>431.64</td>\n",
              "      <td>20.0</td>\n",
              "      <td>3738.90</td>\n",
              "      <td>0</td>\n",
              "    </tr>\n",
              "    <tr>\n",
              "      <th>8</th>\n",
              "      <td>7.0</td>\n",
              "      <td>43.39</td>\n",
              "      <td>3.0</td>\n",
              "      <td>2538.67</td>\n",
              "      <td>0</td>\n",
              "    </tr>\n",
              "    <tr>\n",
              "      <th>10</th>\n",
              "      <td>82.0</td>\n",
              "      <td>560.51</td>\n",
              "      <td>20.0</td>\n",
              "      <td>9619.53</td>\n",
              "      <td>0</td>\n",
              "    </tr>\n",
              "    <tr>\n",
              "      <th>14</th>\n",
              "      <td>108.0</td>\n",
              "      <td>587.90</td>\n",
              "      <td>0.0</td>\n",
              "      <td>14406.50</td>\n",
              "      <td>0</td>\n",
              "    </tr>\n",
              "  </tbody>\n",
              "</table>\n",
              "</div>\n",
              "    <div class=\"colab-df-buttons\">\n",
              "\n",
              "  <div class=\"colab-df-container\">\n",
              "    <button class=\"colab-df-convert\" onclick=\"convertToInteractive('df-29ec714d-b197-4e1a-a3b5-f2e1d46853b5')\"\n",
              "            title=\"Convert this dataframe to an interactive table.\"\n",
              "            style=\"display:none;\">\n",
              "\n",
              "  <svg xmlns=\"http://www.w3.org/2000/svg\" height=\"24px\" viewBox=\"0 -960 960 960\">\n",
              "    <path d=\"M120-120v-720h720v720H120Zm60-500h600v-160H180v160Zm220 220h160v-160H400v160Zm0 220h160v-160H400v160ZM180-400h160v-160H180v160Zm440 0h160v-160H620v160ZM180-180h160v-160H180v160Zm440 0h160v-160H620v160Z\"/>\n",
              "  </svg>\n",
              "    </button>\n",
              "\n",
              "  <style>\n",
              "    .colab-df-container {\n",
              "      display:flex;\n",
              "      gap: 12px;\n",
              "    }\n",
              "\n",
              "    .colab-df-convert {\n",
              "      background-color: #E8F0FE;\n",
              "      border: none;\n",
              "      border-radius: 50%;\n",
              "      cursor: pointer;\n",
              "      display: none;\n",
              "      fill: #1967D2;\n",
              "      height: 32px;\n",
              "      padding: 0 0 0 0;\n",
              "      width: 32px;\n",
              "    }\n",
              "\n",
              "    .colab-df-convert:hover {\n",
              "      background-color: #E2EBFA;\n",
              "      box-shadow: 0px 1px 2px rgba(60, 64, 67, 0.3), 0px 1px 3px 1px rgba(60, 64, 67, 0.15);\n",
              "      fill: #174EA6;\n",
              "    }\n",
              "\n",
              "    .colab-df-buttons div {\n",
              "      margin-bottom: 4px;\n",
              "    }\n",
              "\n",
              "    [theme=dark] .colab-df-convert {\n",
              "      background-color: #3B4455;\n",
              "      fill: #D2E3FC;\n",
              "    }\n",
              "\n",
              "    [theme=dark] .colab-df-convert:hover {\n",
              "      background-color: #434B5C;\n",
              "      box-shadow: 0px 1px 3px 1px rgba(0, 0, 0, 0.15);\n",
              "      filter: drop-shadow(0px 1px 2px rgba(0, 0, 0, 0.3));\n",
              "      fill: #FFFFFF;\n",
              "    }\n",
              "  </style>\n",
              "\n",
              "    <script>\n",
              "      const buttonEl =\n",
              "        document.querySelector('#df-29ec714d-b197-4e1a-a3b5-f2e1d46853b5 button.colab-df-convert');\n",
              "      buttonEl.style.display =\n",
              "        google.colab.kernel.accessAllowed ? 'block' : 'none';\n",
              "\n",
              "      async function convertToInteractive(key) {\n",
              "        const element = document.querySelector('#df-29ec714d-b197-4e1a-a3b5-f2e1d46853b5');\n",
              "        const dataTable =\n",
              "          await google.colab.kernel.invokeFunction('convertToInteractive',\n",
              "                                                    [key], {});\n",
              "        if (!dataTable) return;\n",
              "\n",
              "        const docLinkHtml = 'Like what you see? Visit the ' +\n",
              "          '<a target=\"_blank\" href=https://colab.research.google.com/notebooks/data_table.ipynb>data table notebook</a>'\n",
              "          + ' to learn more about interactive tables.';\n",
              "        element.innerHTML = '';\n",
              "        dataTable['output_type'] = 'display_data';\n",
              "        await google.colab.output.renderOutput(dataTable, element);\n",
              "        const docLink = document.createElement('div');\n",
              "        docLink.innerHTML = docLinkHtml;\n",
              "        element.appendChild(docLink);\n",
              "      }\n",
              "    </script>\n",
              "  </div>\n",
              "\n",
              "\n",
              "<div id=\"df-a6d835c5-1d4c-4831-8ddb-327d5d64eb28\">\n",
              "  <button class=\"colab-df-quickchart\" onclick=\"quickchart('df-a6d835c5-1d4c-4831-8ddb-327d5d64eb28')\"\n",
              "            title=\"Suggest charts\"\n",
              "            style=\"display:none;\">\n",
              "\n",
              "<svg xmlns=\"http://www.w3.org/2000/svg\" height=\"24px\"viewBox=\"0 0 24 24\"\n",
              "     width=\"24px\">\n",
              "    <g>\n",
              "        <path d=\"M19 3H5c-1.1 0-2 .9-2 2v14c0 1.1.9 2 2 2h14c1.1 0 2-.9 2-2V5c0-1.1-.9-2-2-2zM9 17H7v-7h2v7zm4 0h-2V7h2v10zm4 0h-2v-4h2v4z\"/>\n",
              "    </g>\n",
              "</svg>\n",
              "  </button>\n",
              "\n",
              "<style>\n",
              "  .colab-df-quickchart {\n",
              "      --bg-color: #E8F0FE;\n",
              "      --fill-color: #1967D2;\n",
              "      --hover-bg-color: #E2EBFA;\n",
              "      --hover-fill-color: #174EA6;\n",
              "      --disabled-fill-color: #AAA;\n",
              "      --disabled-bg-color: #DDD;\n",
              "  }\n",
              "\n",
              "  [theme=dark] .colab-df-quickchart {\n",
              "      --bg-color: #3B4455;\n",
              "      --fill-color: #D2E3FC;\n",
              "      --hover-bg-color: #434B5C;\n",
              "      --hover-fill-color: #FFFFFF;\n",
              "      --disabled-bg-color: #3B4455;\n",
              "      --disabled-fill-color: #666;\n",
              "  }\n",
              "\n",
              "  .colab-df-quickchart {\n",
              "    background-color: var(--bg-color);\n",
              "    border: none;\n",
              "    border-radius: 50%;\n",
              "    cursor: pointer;\n",
              "    display: none;\n",
              "    fill: var(--fill-color);\n",
              "    height: 32px;\n",
              "    padding: 0;\n",
              "    width: 32px;\n",
              "  }\n",
              "\n",
              "  .colab-df-quickchart:hover {\n",
              "    background-color: var(--hover-bg-color);\n",
              "    box-shadow: 0 1px 2px rgba(60, 64, 67, 0.3), 0 1px 3px 1px rgba(60, 64, 67, 0.15);\n",
              "    fill: var(--button-hover-fill-color);\n",
              "  }\n",
              "\n",
              "  .colab-df-quickchart-complete:disabled,\n",
              "  .colab-df-quickchart-complete:disabled:hover {\n",
              "    background-color: var(--disabled-bg-color);\n",
              "    fill: var(--disabled-fill-color);\n",
              "    box-shadow: none;\n",
              "  }\n",
              "\n",
              "  .colab-df-spinner {\n",
              "    border: 2px solid var(--fill-color);\n",
              "    border-color: transparent;\n",
              "    border-bottom-color: var(--fill-color);\n",
              "    animation:\n",
              "      spin 1s steps(1) infinite;\n",
              "  }\n",
              "\n",
              "  @keyframes spin {\n",
              "    0% {\n",
              "      border-color: transparent;\n",
              "      border-bottom-color: var(--fill-color);\n",
              "      border-left-color: var(--fill-color);\n",
              "    }\n",
              "    20% {\n",
              "      border-color: transparent;\n",
              "      border-left-color: var(--fill-color);\n",
              "      border-top-color: var(--fill-color);\n",
              "    }\n",
              "    30% {\n",
              "      border-color: transparent;\n",
              "      border-left-color: var(--fill-color);\n",
              "      border-top-color: var(--fill-color);\n",
              "      border-right-color: var(--fill-color);\n",
              "    }\n",
              "    40% {\n",
              "      border-color: transparent;\n",
              "      border-right-color: var(--fill-color);\n",
              "      border-top-color: var(--fill-color);\n",
              "    }\n",
              "    60% {\n",
              "      border-color: transparent;\n",
              "      border-right-color: var(--fill-color);\n",
              "    }\n",
              "    80% {\n",
              "      border-color: transparent;\n",
              "      border-right-color: var(--fill-color);\n",
              "      border-bottom-color: var(--fill-color);\n",
              "    }\n",
              "    90% {\n",
              "      border-color: transparent;\n",
              "      border-bottom-color: var(--fill-color);\n",
              "    }\n",
              "  }\n",
              "</style>\n",
              "\n",
              "  <script>\n",
              "    async function quickchart(key) {\n",
              "      const quickchartButtonEl =\n",
              "        document.querySelector('#' + key + ' button');\n",
              "      quickchartButtonEl.disabled = true;  // To prevent multiple clicks.\n",
              "      quickchartButtonEl.classList.add('colab-df-spinner');\n",
              "      try {\n",
              "        const charts = await google.colab.kernel.invokeFunction(\n",
              "            'suggestCharts', [key], {});\n",
              "      } catch (error) {\n",
              "        console.error('Error during call to suggestCharts:', error);\n",
              "      }\n",
              "      quickchartButtonEl.classList.remove('colab-df-spinner');\n",
              "      quickchartButtonEl.classList.add('colab-df-quickchart-complete');\n",
              "    }\n",
              "    (() => {\n",
              "      let quickchartButtonEl =\n",
              "        document.querySelector('#df-a6d835c5-1d4c-4831-8ddb-327d5d64eb28 button');\n",
              "      quickchartButtonEl.style.display =\n",
              "        google.colab.kernel.accessAllowed ? 'block' : 'none';\n",
              "    })();\n",
              "  </script>\n",
              "</div>\n",
              "    </div>\n",
              "  </div>\n"
            ],
            "application/vnd.google.colaboratory.intrinsic+json": {
              "type": "dataframe",
              "summary": "{\n  \"name\": \"display(df_zero\",\n  \"rows\": 5,\n  \"fields\": [\n    {\n      \"column\": \"calls\",\n      \"properties\": {\n        \"dtype\": \"number\",\n        \"std\": 41.83897704294406,\n        \"min\": 7.0,\n        \"max\": 108.0,\n        \"num_unique_values\": 5,\n        \"samples\": [\n          57.0,\n          108.0,\n          7.0\n        ],\n        \"semantic_type\": \"\",\n        \"description\": \"\"\n      }\n    },\n    {\n      \"column\": \"minutes\",\n      \"properties\": {\n        \"dtype\": \"number\",\n        \"std\": 265.2380348479456,\n        \"min\": 43.39,\n        \"max\": 745.53,\n        \"num_unique_values\": 5,\n        \"samples\": [\n          431.64000000000016,\n          587.9000000000002,\n          43.39\n        ],\n        \"semantic_type\": \"\",\n        \"description\": \"\"\n      }\n    },\n    {\n      \"column\": \"messages\",\n      \"properties\": {\n        \"dtype\": \"number\",\n        \"std\": 32.76736181019156,\n        \"min\": 0.0,\n        \"max\": 81.0,\n        \"num_unique_values\": 4,\n        \"samples\": [\n          20.0,\n          0.0,\n          81.0\n        ],\n        \"semantic_type\": \"\",\n        \"description\": \"\"\n      }\n    },\n    {\n      \"column\": \"mb_used\",\n      \"properties\": {\n        \"dtype\": \"number\",\n        \"std\": 4783.395943936693,\n        \"min\": 2538.67,\n        \"max\": 14406.500000000002,\n        \"num_unique_values\": 5,\n        \"samples\": [\n          3738.900000000001,\n          14406.500000000002,\n          2538.67\n        ],\n        \"semantic_type\": \"\",\n        \"description\": \"\"\n      }\n    },\n    {\n      \"column\": \"is_ultra\",\n      \"properties\": {\n        \"dtype\": \"number\",\n        \"std\": 0,\n        \"min\": 0,\n        \"max\": 0,\n        \"num_unique_values\": 1,\n        \"samples\": [\n          0\n        ],\n        \"semantic_type\": \"\",\n        \"description\": \"\"\n      }\n    }\n  ]\n}"
            }
          },
          "metadata": {}
        }
      ],
      "source": [
        "df_zero = df_test2.replace(1,0)\n",
        "display(df_zero.head(5))"
      ]
    },
    {
      "cell_type": "markdown",
      "metadata": {
        "id": "-otgHSQ6--s4"
      },
      "source": [
        "## Выделим признаки и целевой признак из некорректных данных таблицы df_zero"
      ]
    },
    {
      "cell_type": "code",
      "execution_count": 13,
      "metadata": {
        "id": "nMf-AgyJ--s4"
      },
      "outputs": [],
      "source": [
        "features_test_zero = df_zero.drop(['is_ultra'], axis=1)\n",
        "target_test_zero = df_zero['is_ultra']"
      ]
    },
    {
      "cell_type": "markdown",
      "metadata": {
        "id": "uyegWgvE--s4"
      },
      "source": [
        "## Проверим 3 модели на адекватность на некорректных данных"
      ]
    },
    {
      "cell_type": "markdown",
      "metadata": {
        "id": "3yum_o1I--s4"
      },
      "source": [
        "### Проверка модели 'дерево решений' на адекватность"
      ]
    },
    {
      "cell_type": "code",
      "execution_count": 14,
      "metadata": {
        "colab": {
          "base_uri": "https://localhost:8080/"
        },
        "id": "M_0YN9h2--s5",
        "outputId": "8dbc4d03-872e-4218-b9d5-1d588be00d33"
      },
      "outputs": [
        {
          "output_type": "stream",
          "name": "stdout",
          "text": [
            "Accuracy_score модели дерево решений на некорректной выборке: 0.1918781725888325\n"
          ]
        },
        {
          "output_type": "stream",
          "name": "stderr",
          "text": [
            "/usr/local/lib/python3.10/dist-packages/sklearn/tree/_classes.py:269: FutureWarning: `max_features='auto'` has been deprecated in 1.1 and will be removed in 1.3. To keep the past behaviour, explicitly set `max_features='sqrt'`.\n",
            "  warnings.warn(\n"
          ]
        }
      ],
      "source": [
        "model = DecisionTreeClassifier(random_state=12345, max_depth=depth, max_features='auto', criterion = 'entropy')\n",
        "model.fit(features_train, target_train)\n",
        "predictions_test = model.predict(features_test_zero) #предскажем результат на некорректной выборке\n",
        "print('Accuracy_score модели дерево решений на некорректной выборке:', accuracy_score(target_test_zero, predictions_test))"
      ]
    },
    {
      "cell_type": "markdown",
      "metadata": {
        "id": "1B9DNDFd--s5"
      },
      "source": [
        "###  Проверка модели 'случайный лес' на адекватность"
      ]
    },
    {
      "cell_type": "code",
      "execution_count": 15,
      "metadata": {
        "colab": {
          "base_uri": "https://localhost:8080/"
        },
        "id": "TPGwehLQ--s5",
        "outputId": "dfe9d4dc-ffa2-461f-9025-eccca0cd78c9"
      },
      "outputs": [
        {
          "output_type": "stream",
          "name": "stdout",
          "text": [
            "Accuracy наилучшей модели на некорректной выборке: 0.19289340101522842\n"
          ]
        }
      ],
      "source": [
        "model = RandomForestClassifier(random_state=12345, n_estimators=50, max_depth=30, criterion = 'entropy', min_samples_split=3,min_samples_leaf=1)\n",
        "model.fit(features_train, target_train)\n",
        "result = model.score(features_test_zero, target_test_zero) # посчитаем качество модели на некорректной выборке\n",
        "print(\"Accuracy наилучшей модели на некорректной выборке:\", result)"
      ]
    },
    {
      "cell_type": "markdown",
      "metadata": {
        "id": "OIFm_eK_--s5"
      },
      "source": [
        "###  Проверка модели 'логистическая регрессия' на адекватность"
      ]
    },
    {
      "cell_type": "code",
      "execution_count": 16,
      "metadata": {
        "scrolled": true,
        "colab": {
          "base_uri": "https://localhost:8080/"
        },
        "id": "m_psSNuj--s5",
        "outputId": "8609818d-9a97-4d68-e735-9cefd323628b"
      },
      "outputs": [
        {
          "output_type": "stream",
          "name": "stdout",
          "text": [
            "Accuracy модели логистической регрессии на некорректной выборке: 0.7705583756345178\n"
          ]
        }
      ],
      "source": [
        "model = LogisticRegression(random_state=12345)\n",
        "model.fit(features_train, target_train)\n",
        "result = model.score(features_test_zero, target_test_zero)\n",
        "print(\"Accuracy модели логистической регрессии на некорректной выборке:\", result)"
      ]
    },
    {
      "cell_type": "markdown",
      "metadata": {
        "id": "Du4Vf7kK--s6"
      },
      "source": [
        "## Вывод:"
      ]
    },
    {
      "cell_type": "markdown",
      "metadata": {
        "id": "LMT24rp1--s6"
      },
      "source": [
        "Для проберки адекватности моделей, был сделан срез данных только по тарифу ultra, т.е. в столбце is_ultra все значения равнялись еденице. Для того чтобы проверить адекватность моделей еденицы были заменены на нули, таким образом мы создали срез не корректных данных. Далее протестировали все три модели на некоректной выборке. Т.е. указали вместо тестовой выборки, выборку некорректную.\n",
        "Модель 'дерево решений' при глубине max_dept=6 ведет себя адекватно, т.е. количество правильных ответов становится равной 0.4436548223350254.  \n",
        "Модель 'случайны лес' ведет себя адекватно и показывает accuracy = 0.19289340101522842.\n",
        "Модель 'логистическая регрессия' ведет себя не адекватно и показывает высокий accuracy = 0.9532994923857868"
      ]
    },
    {
      "cell_type": "code",
      "execution_count": 17,
      "metadata": {
        "colab": {
          "base_uri": "https://localhost:8080/"
        },
        "id": "TloIFJpY--s6",
        "outputId": "5329049e-89e2-4b76-bec7-2bc7ef27bc09"
      },
      "outputs": [
        {
          "output_type": "execute_result",
          "data": {
            "text/plain": [
              "0    0.695179\n",
              "1    0.304821\n",
              "Name: is_ultra, dtype: float64"
            ]
          },
          "metadata": {},
          "execution_count": 17
        }
      ],
      "source": [
        "target_test.value_counts() / features_test.shape[0]"
      ]
    },
    {
      "cell_type": "code",
      "execution_count": 18,
      "metadata": {
        "colab": {
          "base_uri": "https://localhost:8080/"
        },
        "id": "m9LeNUH_--s6",
        "outputId": "4de69c73-d769-4fb7-bce5-20cb6ab32861"
      },
      "outputs": [
        {
          "output_type": "stream",
          "name": "stdout",
          "text": [
            "AUC best_tree test 0.728147970597635\n",
            "Гиперпараметры forest_rev DecisionTreeClassifier(max_depth=7, random_state=500)\n"
          ]
        }
      ],
      "source": [
        "best_model_tree = DecisionTreeClassifier(random_state = 500, max_depth = 7)\n",
        "best_model_tree.fit(features_train, target_train) # обучаем на тренировке\n",
        "\n",
        "# сформируем предсказания на тесте\n",
        "prob = best_model_tree.predict_proba(features_test)[:, 1]\n",
        "\n",
        "print('AUC best_tree test', roc_auc_score(target_test, prob))\n",
        "print('Гиперпараметры forest_rev', best_model_tree)"
      ]
    },
    {
      "cell_type": "markdown",
      "metadata": {
        "id": "sZHp7Tmj--s6"
      },
      "source": [
        "# Чек-лист готовности проекта"
      ]
    },
    {
      "cell_type": "markdown",
      "metadata": {
        "id": "Y8Y-jdgP--s7"
      },
      "source": [
        "- [x] Jupyter Notebook открыт\n",
        "- [x] Весь код исполняется без ошибок\n",
        "- [x] Ячейки с кодом расположены в порядке исполнения\n",
        "- [x] Выполнено задание 1: данные загружены и изучены\n",
        "- [x] Выполнено задание 2: данные разбиты на три выборки\n",
        "- [x] Выполнено задание 3: проведено исследование моделей\n",
        "    - [x] Рассмотрено больше одной модели\n",
        "    - [x] Рассмотрено хотя бы 3 значения гипепараметров для какой-нибудь модели\n",
        "    - [x] Написаны выводы по результатам исследования\n",
        "- [x] Выполнено задание 3: Проведено тестирование\n",
        "- [x] Удалось достичь accuracy не меньше 0.75\n"
      ]
    }
  ],
  "metadata": {
    "ExecuteTimeLog": [
      {
        "duration": 1542,
        "start_time": "2021-07-30T12:08:42.818Z"
      }
    ],
    "kernelspec": {
      "display_name": "Python 3 (ipykernel)",
      "language": "python",
      "name": "python3"
    },
    "language_info": {
      "codemirror_mode": {
        "name": "ipython",
        "version": 3
      },
      "file_extension": ".py",
      "mimetype": "text/x-python",
      "name": "python",
      "nbconvert_exporter": "python",
      "pygments_lexer": "ipython3",
      "version": "3.9.18"
    },
    "toc": {
      "base_numbering": 1,
      "nav_menu": {},
      "number_sections": true,
      "sideBar": true,
      "skip_h1_title": false,
      "title_cell": "Table of Contents",
      "title_sidebar": "Contents",
      "toc_cell": false,
      "toc_position": {},
      "toc_section_display": true,
      "toc_window_display": false
    },
    "colab": {
      "provenance": [],
      "include_colab_link": true
    }
  },
  "nbformat": 4,
  "nbformat_minor": 0
}