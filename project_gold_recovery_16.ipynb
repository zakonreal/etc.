{
 "cells": [
  {
   "cell_type": "markdown",
   "metadata": {},
   "source": [
    "# Восстановление золота из руды"
   ]
  },
  {
   "cell_type": "markdown",
   "metadata": {},
   "source": [
    "Подготовьте прототип модели машинного обучения для «Цифры». Компания разрабатывает решения для эффективной работы промышленных предприятий.\n",
    "\n",
    "Данные находятся в трёх файлах:\n",
    "* `gold_recovery_train_new.csv` — обучающая выборка;\n",
    "* `gold_recovery_test_new.csv` — тестовая выборка;\n",
    "* `gold_recovery_full_new.csv` — исходные данные.\n",
    "\n",
    "Данные индексируются датой и временем получения информации (признак `date`). Соседние по времени параметры часто похожи.\n",
    "Некоторые параметры недоступны, потому что замеряются и/или рассчитываются значительно позже. Из-за этого в тестовой выборке отсутствуют некоторые признаки, которые могут быть в обучающей. Также в тестовом наборе нет целевых признаков.\n",
    "Исходный датасет содержит обучающую и тестовую выборки со всеми признаками.\n",
    "\n",
    "**Цель исследования:** — модель должна предсказать коэффициент восстановления золота из золотосодержащей руды.\n",
    "\n",
    "Модель поможет оптимизировать производство, чтобы не запускать предприятие с убыточными характеристиками.\n",
    "\n",
    "**Ход исследования:**\n",
    "1. Изучить общую информацию датафреймов\n",
    "2. Подготовить данные для дальнейшей работы\n",
    "3. Проанализировать данные\n",
    "4. Провести обучение моделей с помощью кросс-валидации и выбрать лучшую, а затем проверить ее на тестовых данных"
   ]
  },
  {
   "cell_type": "markdown",
   "metadata": {},
   "source": [
    "## Изучение общей информации"
   ]
  },
  {
   "cell_type": "markdown",
   "metadata": {},
   "source": [
    "### Импорт необходимых библиотек"
   ]
  },
  {
   "cell_type": "code",
   "execution_count": 1,
   "metadata": {},
   "outputs": [],
   "source": [
    "import pandas as pd\n",
    "import numpy as np\n",
    "\n",
    "import matplotlib.pyplot as plt\n",
    "\n",
    "from sklearn.ensemble import RandomForestRegressor\n",
    "from sklearn.linear_model import LinearRegression\n",
    "\n",
    "from sklearn.model_selection import cross_val_score\n",
    "from sklearn.model_selection import GridSearchCV\n",
    "\n",
    "from sklearn.metrics import mean_absolute_error\n",
    "from sklearn.metrics import make_scorer\n",
    "\n",
    "from sklearn.preprocessing import StandardScaler\n",
    "\n",
    "from sklearn.dummy import DummyRegressor"
   ]
  },
  {
   "cell_type": "markdown",
   "metadata": {},
   "source": [
    "### Открытие файлов"
   ]
  },
  {
   "cell_type": "code",
   "execution_count": 2,
   "metadata": {},
   "outputs": [],
   "source": [
    "train_data = pd.read_csv('gold_recovery_train_new.csv', engine='python')\n",
    "test_data = pd.read_csv('gold_recovery_test_new.csv', engine='python')\n",
    "full_data = pd.read_csv('gold_recovery_full_new.csv', engine='python')"
   ]
  },
  {
   "cell_type": "markdown",
   "metadata": {},
   "source": [
    "### Вывод первых десяти строк таблиц"
   ]
  },
  {
   "cell_type": "code",
   "execution_count": 3,
   "metadata": {},
   "outputs": [
    {
     "data": {
      "text/html": [
       "<div>\n",
       "<style scoped>\n",
       "    .dataframe tbody tr th:only-of-type {\n",
       "        vertical-align: middle;\n",
       "    }\n",
       "\n",
       "    .dataframe tbody tr th {\n",
       "        vertical-align: top;\n",
       "    }\n",
       "\n",
       "    .dataframe thead th {\n",
       "        text-align: right;\n",
       "    }\n",
       "</style>\n",
       "<table border=\"1\" class=\"dataframe\">\n",
       "  <thead>\n",
       "    <tr style=\"text-align: right;\">\n",
       "      <th></th>\n",
       "      <th>date</th>\n",
       "      <th>final.output.concentrate_ag</th>\n",
       "      <th>final.output.concentrate_pb</th>\n",
       "      <th>final.output.concentrate_sol</th>\n",
       "      <th>final.output.concentrate_au</th>\n",
       "      <th>final.output.recovery</th>\n",
       "      <th>final.output.tail_ag</th>\n",
       "      <th>final.output.tail_pb</th>\n",
       "      <th>final.output.tail_sol</th>\n",
       "      <th>final.output.tail_au</th>\n",
       "      <th>...</th>\n",
       "      <th>secondary_cleaner.state.floatbank4_a_air</th>\n",
       "      <th>secondary_cleaner.state.floatbank4_a_level</th>\n",
       "      <th>secondary_cleaner.state.floatbank4_b_air</th>\n",
       "      <th>secondary_cleaner.state.floatbank4_b_level</th>\n",
       "      <th>secondary_cleaner.state.floatbank5_a_air</th>\n",
       "      <th>secondary_cleaner.state.floatbank5_a_level</th>\n",
       "      <th>secondary_cleaner.state.floatbank5_b_air</th>\n",
       "      <th>secondary_cleaner.state.floatbank5_b_level</th>\n",
       "      <th>secondary_cleaner.state.floatbank6_a_air</th>\n",
       "      <th>secondary_cleaner.state.floatbank6_a_level</th>\n",
       "    </tr>\n",
       "  </thead>\n",
       "  <tbody>\n",
       "    <tr>\n",
       "      <th>0</th>\n",
       "      <td>2016-01-15 00:00:00</td>\n",
       "      <td>6.055403</td>\n",
       "      <td>9.889648</td>\n",
       "      <td>5.507324</td>\n",
       "      <td>42.192020</td>\n",
       "      <td>70.541216</td>\n",
       "      <td>10.411962</td>\n",
       "      <td>0.895447</td>\n",
       "      <td>16.904297</td>\n",
       "      <td>2.143149</td>\n",
       "      <td>...</td>\n",
       "      <td>14.016835</td>\n",
       "      <td>-502.488007</td>\n",
       "      <td>12.099931</td>\n",
       "      <td>-504.715942</td>\n",
       "      <td>9.925633</td>\n",
       "      <td>-498.310211</td>\n",
       "      <td>8.079666</td>\n",
       "      <td>-500.470978</td>\n",
       "      <td>14.151341</td>\n",
       "      <td>-605.841980</td>\n",
       "    </tr>\n",
       "    <tr>\n",
       "      <th>1</th>\n",
       "      <td>2016-01-15 01:00:00</td>\n",
       "      <td>6.029369</td>\n",
       "      <td>9.968944</td>\n",
       "      <td>5.257781</td>\n",
       "      <td>42.701629</td>\n",
       "      <td>69.266198</td>\n",
       "      <td>10.462676</td>\n",
       "      <td>0.927452</td>\n",
       "      <td>16.634514</td>\n",
       "      <td>2.224930</td>\n",
       "      <td>...</td>\n",
       "      <td>13.992281</td>\n",
       "      <td>-505.503262</td>\n",
       "      <td>11.950531</td>\n",
       "      <td>-501.331529</td>\n",
       "      <td>10.039245</td>\n",
       "      <td>-500.169983</td>\n",
       "      <td>7.984757</td>\n",
       "      <td>-500.582168</td>\n",
       "      <td>13.998353</td>\n",
       "      <td>-599.787184</td>\n",
       "    </tr>\n",
       "    <tr>\n",
       "      <th>2</th>\n",
       "      <td>2016-01-15 02:00:00</td>\n",
       "      <td>6.055926</td>\n",
       "      <td>10.213995</td>\n",
       "      <td>5.383759</td>\n",
       "      <td>42.657501</td>\n",
       "      <td>68.116445</td>\n",
       "      <td>10.507046</td>\n",
       "      <td>0.953716</td>\n",
       "      <td>16.208849</td>\n",
       "      <td>2.257889</td>\n",
       "      <td>...</td>\n",
       "      <td>14.015015</td>\n",
       "      <td>-502.520901</td>\n",
       "      <td>11.912783</td>\n",
       "      <td>-501.133383</td>\n",
       "      <td>10.070913</td>\n",
       "      <td>-500.129135</td>\n",
       "      <td>8.013877</td>\n",
       "      <td>-500.517572</td>\n",
       "      <td>14.028663</td>\n",
       "      <td>-601.427363</td>\n",
       "    </tr>\n",
       "    <tr>\n",
       "      <th>3</th>\n",
       "      <td>2016-01-15 03:00:00</td>\n",
       "      <td>6.047977</td>\n",
       "      <td>9.977019</td>\n",
       "      <td>4.858634</td>\n",
       "      <td>42.689819</td>\n",
       "      <td>68.347543</td>\n",
       "      <td>10.422762</td>\n",
       "      <td>0.883763</td>\n",
       "      <td>16.532835</td>\n",
       "      <td>2.146849</td>\n",
       "      <td>...</td>\n",
       "      <td>14.036510</td>\n",
       "      <td>-500.857308</td>\n",
       "      <td>11.999550</td>\n",
       "      <td>-501.193686</td>\n",
       "      <td>9.970366</td>\n",
       "      <td>-499.201640</td>\n",
       "      <td>7.977324</td>\n",
       "      <td>-500.255908</td>\n",
       "      <td>14.005551</td>\n",
       "      <td>-599.996129</td>\n",
       "    </tr>\n",
       "    <tr>\n",
       "      <th>4</th>\n",
       "      <td>2016-01-15 04:00:00</td>\n",
       "      <td>6.148599</td>\n",
       "      <td>10.142511</td>\n",
       "      <td>4.939416</td>\n",
       "      <td>42.774141</td>\n",
       "      <td>66.927016</td>\n",
       "      <td>10.360302</td>\n",
       "      <td>0.792826</td>\n",
       "      <td>16.525686</td>\n",
       "      <td>2.055292</td>\n",
       "      <td>...</td>\n",
       "      <td>14.027298</td>\n",
       "      <td>-499.838632</td>\n",
       "      <td>11.953070</td>\n",
       "      <td>-501.053894</td>\n",
       "      <td>9.925709</td>\n",
       "      <td>-501.686727</td>\n",
       "      <td>7.894242</td>\n",
       "      <td>-500.356035</td>\n",
       "      <td>13.996647</td>\n",
       "      <td>-601.496691</td>\n",
       "    </tr>\n",
       "  </tbody>\n",
       "</table>\n",
       "<p>5 rows × 87 columns</p>\n",
       "</div>"
      ],
      "text/plain": [
       "                  date  final.output.concentrate_ag  \\\n",
       "0  2016-01-15 00:00:00                     6.055403   \n",
       "1  2016-01-15 01:00:00                     6.029369   \n",
       "2  2016-01-15 02:00:00                     6.055926   \n",
       "3  2016-01-15 03:00:00                     6.047977   \n",
       "4  2016-01-15 04:00:00                     6.148599   \n",
       "\n",
       "   final.output.concentrate_pb  final.output.concentrate_sol  \\\n",
       "0                     9.889648                      5.507324   \n",
       "1                     9.968944                      5.257781   \n",
       "2                    10.213995                      5.383759   \n",
       "3                     9.977019                      4.858634   \n",
       "4                    10.142511                      4.939416   \n",
       "\n",
       "   final.output.concentrate_au  final.output.recovery  final.output.tail_ag  \\\n",
       "0                    42.192020              70.541216             10.411962   \n",
       "1                    42.701629              69.266198             10.462676   \n",
       "2                    42.657501              68.116445             10.507046   \n",
       "3                    42.689819              68.347543             10.422762   \n",
       "4                    42.774141              66.927016             10.360302   \n",
       "\n",
       "   final.output.tail_pb  final.output.tail_sol  final.output.tail_au  ...  \\\n",
       "0              0.895447              16.904297              2.143149  ...   \n",
       "1              0.927452              16.634514              2.224930  ...   \n",
       "2              0.953716              16.208849              2.257889  ...   \n",
       "3              0.883763              16.532835              2.146849  ...   \n",
       "4              0.792826              16.525686              2.055292  ...   \n",
       "\n",
       "   secondary_cleaner.state.floatbank4_a_air  \\\n",
       "0                                 14.016835   \n",
       "1                                 13.992281   \n",
       "2                                 14.015015   \n",
       "3                                 14.036510   \n",
       "4                                 14.027298   \n",
       "\n",
       "   secondary_cleaner.state.floatbank4_a_level  \\\n",
       "0                                 -502.488007   \n",
       "1                                 -505.503262   \n",
       "2                                 -502.520901   \n",
       "3                                 -500.857308   \n",
       "4                                 -499.838632   \n",
       "\n",
       "   secondary_cleaner.state.floatbank4_b_air  \\\n",
       "0                                 12.099931   \n",
       "1                                 11.950531   \n",
       "2                                 11.912783   \n",
       "3                                 11.999550   \n",
       "4                                 11.953070   \n",
       "\n",
       "   secondary_cleaner.state.floatbank4_b_level  \\\n",
       "0                                 -504.715942   \n",
       "1                                 -501.331529   \n",
       "2                                 -501.133383   \n",
       "3                                 -501.193686   \n",
       "4                                 -501.053894   \n",
       "\n",
       "   secondary_cleaner.state.floatbank5_a_air  \\\n",
       "0                                  9.925633   \n",
       "1                                 10.039245   \n",
       "2                                 10.070913   \n",
       "3                                  9.970366   \n",
       "4                                  9.925709   \n",
       "\n",
       "   secondary_cleaner.state.floatbank5_a_level  \\\n",
       "0                                 -498.310211   \n",
       "1                                 -500.169983   \n",
       "2                                 -500.129135   \n",
       "3                                 -499.201640   \n",
       "4                                 -501.686727   \n",
       "\n",
       "   secondary_cleaner.state.floatbank5_b_air  \\\n",
       "0                                  8.079666   \n",
       "1                                  7.984757   \n",
       "2                                  8.013877   \n",
       "3                                  7.977324   \n",
       "4                                  7.894242   \n",
       "\n",
       "   secondary_cleaner.state.floatbank5_b_level  \\\n",
       "0                                 -500.470978   \n",
       "1                                 -500.582168   \n",
       "2                                 -500.517572   \n",
       "3                                 -500.255908   \n",
       "4                                 -500.356035   \n",
       "\n",
       "   secondary_cleaner.state.floatbank6_a_air  \\\n",
       "0                                 14.151341   \n",
       "1                                 13.998353   \n",
       "2                                 14.028663   \n",
       "3                                 14.005551   \n",
       "4                                 13.996647   \n",
       "\n",
       "   secondary_cleaner.state.floatbank6_a_level  \n",
       "0                                 -605.841980  \n",
       "1                                 -599.787184  \n",
       "2                                 -601.427363  \n",
       "3                                 -599.996129  \n",
       "4                                 -601.496691  \n",
       "\n",
       "[5 rows x 87 columns]"
      ]
     },
     "execution_count": 3,
     "metadata": {},
     "output_type": "execute_result"
    }
   ],
   "source": [
    "train_data.head()"
   ]
  },
  {
   "cell_type": "code",
   "execution_count": 4,
   "metadata": {},
   "outputs": [
    {
     "data": {
      "text/html": [
       "<div>\n",
       "<style scoped>\n",
       "    .dataframe tbody tr th:only-of-type {\n",
       "        vertical-align: middle;\n",
       "    }\n",
       "\n",
       "    .dataframe tbody tr th {\n",
       "        vertical-align: top;\n",
       "    }\n",
       "\n",
       "    .dataframe thead th {\n",
       "        text-align: right;\n",
       "    }\n",
       "</style>\n",
       "<table border=\"1\" class=\"dataframe\">\n",
       "  <thead>\n",
       "    <tr style=\"text-align: right;\">\n",
       "      <th></th>\n",
       "      <th>date</th>\n",
       "      <th>primary_cleaner.input.sulfate</th>\n",
       "      <th>primary_cleaner.input.depressant</th>\n",
       "      <th>primary_cleaner.input.feed_size</th>\n",
       "      <th>primary_cleaner.input.xanthate</th>\n",
       "      <th>primary_cleaner.state.floatbank8_a_air</th>\n",
       "      <th>primary_cleaner.state.floatbank8_a_level</th>\n",
       "      <th>primary_cleaner.state.floatbank8_b_air</th>\n",
       "      <th>primary_cleaner.state.floatbank8_b_level</th>\n",
       "      <th>primary_cleaner.state.floatbank8_c_air</th>\n",
       "      <th>...</th>\n",
       "      <th>secondary_cleaner.state.floatbank4_a_air</th>\n",
       "      <th>secondary_cleaner.state.floatbank4_a_level</th>\n",
       "      <th>secondary_cleaner.state.floatbank4_b_air</th>\n",
       "      <th>secondary_cleaner.state.floatbank4_b_level</th>\n",
       "      <th>secondary_cleaner.state.floatbank5_a_air</th>\n",
       "      <th>secondary_cleaner.state.floatbank5_a_level</th>\n",
       "      <th>secondary_cleaner.state.floatbank5_b_air</th>\n",
       "      <th>secondary_cleaner.state.floatbank5_b_level</th>\n",
       "      <th>secondary_cleaner.state.floatbank6_a_air</th>\n",
       "      <th>secondary_cleaner.state.floatbank6_a_level</th>\n",
       "    </tr>\n",
       "  </thead>\n",
       "  <tbody>\n",
       "    <tr>\n",
       "      <th>0</th>\n",
       "      <td>2016-09-01 00:59:59</td>\n",
       "      <td>210.800909</td>\n",
       "      <td>14.993118</td>\n",
       "      <td>8.080000</td>\n",
       "      <td>1.005021</td>\n",
       "      <td>1398.981301</td>\n",
       "      <td>-500.225577</td>\n",
       "      <td>1399.144926</td>\n",
       "      <td>-499.919735</td>\n",
       "      <td>1400.102998</td>\n",
       "      <td>...</td>\n",
       "      <td>12.023554</td>\n",
       "      <td>-497.795834</td>\n",
       "      <td>8.016656</td>\n",
       "      <td>-501.289139</td>\n",
       "      <td>7.946562</td>\n",
       "      <td>-432.317850</td>\n",
       "      <td>4.872511</td>\n",
       "      <td>-500.037437</td>\n",
       "      <td>26.705889</td>\n",
       "      <td>-499.709414</td>\n",
       "    </tr>\n",
       "    <tr>\n",
       "      <th>1</th>\n",
       "      <td>2016-09-01 01:59:59</td>\n",
       "      <td>215.392455</td>\n",
       "      <td>14.987471</td>\n",
       "      <td>8.080000</td>\n",
       "      <td>0.990469</td>\n",
       "      <td>1398.777912</td>\n",
       "      <td>-500.057435</td>\n",
       "      <td>1398.055362</td>\n",
       "      <td>-499.778182</td>\n",
       "      <td>1396.151033</td>\n",
       "      <td>...</td>\n",
       "      <td>12.058140</td>\n",
       "      <td>-498.695773</td>\n",
       "      <td>8.130979</td>\n",
       "      <td>-499.634209</td>\n",
       "      <td>7.958270</td>\n",
       "      <td>-525.839648</td>\n",
       "      <td>4.878850</td>\n",
       "      <td>-500.162375</td>\n",
       "      <td>25.019940</td>\n",
       "      <td>-499.819438</td>\n",
       "    </tr>\n",
       "    <tr>\n",
       "      <th>2</th>\n",
       "      <td>2016-09-01 02:59:59</td>\n",
       "      <td>215.259946</td>\n",
       "      <td>12.884934</td>\n",
       "      <td>7.786667</td>\n",
       "      <td>0.996043</td>\n",
       "      <td>1398.493666</td>\n",
       "      <td>-500.868360</td>\n",
       "      <td>1398.860436</td>\n",
       "      <td>-499.764529</td>\n",
       "      <td>1398.075709</td>\n",
       "      <td>...</td>\n",
       "      <td>11.962366</td>\n",
       "      <td>-498.767484</td>\n",
       "      <td>8.096893</td>\n",
       "      <td>-500.827423</td>\n",
       "      <td>8.071056</td>\n",
       "      <td>-500.801673</td>\n",
       "      <td>4.905125</td>\n",
       "      <td>-499.828510</td>\n",
       "      <td>24.994862</td>\n",
       "      <td>-500.622559</td>\n",
       "    </tr>\n",
       "    <tr>\n",
       "      <th>3</th>\n",
       "      <td>2016-09-01 03:59:59</td>\n",
       "      <td>215.336236</td>\n",
       "      <td>12.006805</td>\n",
       "      <td>7.640000</td>\n",
       "      <td>0.863514</td>\n",
       "      <td>1399.618111</td>\n",
       "      <td>-498.863574</td>\n",
       "      <td>1397.440120</td>\n",
       "      <td>-499.211024</td>\n",
       "      <td>1400.129303</td>\n",
       "      <td>...</td>\n",
       "      <td>12.033091</td>\n",
       "      <td>-498.350935</td>\n",
       "      <td>8.074946</td>\n",
       "      <td>-499.474407</td>\n",
       "      <td>7.897085</td>\n",
       "      <td>-500.868509</td>\n",
       "      <td>4.931400</td>\n",
       "      <td>-499.963623</td>\n",
       "      <td>24.948919</td>\n",
       "      <td>-498.709987</td>\n",
       "    </tr>\n",
       "    <tr>\n",
       "      <th>4</th>\n",
       "      <td>2016-09-01 04:59:59</td>\n",
       "      <td>199.099327</td>\n",
       "      <td>10.682530</td>\n",
       "      <td>7.530000</td>\n",
       "      <td>0.805575</td>\n",
       "      <td>1401.268123</td>\n",
       "      <td>-500.808305</td>\n",
       "      <td>1398.128818</td>\n",
       "      <td>-499.504543</td>\n",
       "      <td>1402.172226</td>\n",
       "      <td>...</td>\n",
       "      <td>12.025367</td>\n",
       "      <td>-500.786497</td>\n",
       "      <td>8.054678</td>\n",
       "      <td>-500.397500</td>\n",
       "      <td>8.107890</td>\n",
       "      <td>-509.526725</td>\n",
       "      <td>4.957674</td>\n",
       "      <td>-500.360026</td>\n",
       "      <td>25.003331</td>\n",
       "      <td>-500.856333</td>\n",
       "    </tr>\n",
       "  </tbody>\n",
       "</table>\n",
       "<p>5 rows × 53 columns</p>\n",
       "</div>"
      ],
      "text/plain": [
       "                  date  primary_cleaner.input.sulfate  \\\n",
       "0  2016-09-01 00:59:59                     210.800909   \n",
       "1  2016-09-01 01:59:59                     215.392455   \n",
       "2  2016-09-01 02:59:59                     215.259946   \n",
       "3  2016-09-01 03:59:59                     215.336236   \n",
       "4  2016-09-01 04:59:59                     199.099327   \n",
       "\n",
       "   primary_cleaner.input.depressant  primary_cleaner.input.feed_size  \\\n",
       "0                         14.993118                         8.080000   \n",
       "1                         14.987471                         8.080000   \n",
       "2                         12.884934                         7.786667   \n",
       "3                         12.006805                         7.640000   \n",
       "4                         10.682530                         7.530000   \n",
       "\n",
       "   primary_cleaner.input.xanthate  primary_cleaner.state.floatbank8_a_air  \\\n",
       "0                        1.005021                             1398.981301   \n",
       "1                        0.990469                             1398.777912   \n",
       "2                        0.996043                             1398.493666   \n",
       "3                        0.863514                             1399.618111   \n",
       "4                        0.805575                             1401.268123   \n",
       "\n",
       "   primary_cleaner.state.floatbank8_a_level  \\\n",
       "0                               -500.225577   \n",
       "1                               -500.057435   \n",
       "2                               -500.868360   \n",
       "3                               -498.863574   \n",
       "4                               -500.808305   \n",
       "\n",
       "   primary_cleaner.state.floatbank8_b_air  \\\n",
       "0                             1399.144926   \n",
       "1                             1398.055362   \n",
       "2                             1398.860436   \n",
       "3                             1397.440120   \n",
       "4                             1398.128818   \n",
       "\n",
       "   primary_cleaner.state.floatbank8_b_level  \\\n",
       "0                               -499.919735   \n",
       "1                               -499.778182   \n",
       "2                               -499.764529   \n",
       "3                               -499.211024   \n",
       "4                               -499.504543   \n",
       "\n",
       "   primary_cleaner.state.floatbank8_c_air  ...  \\\n",
       "0                             1400.102998  ...   \n",
       "1                             1396.151033  ...   \n",
       "2                             1398.075709  ...   \n",
       "3                             1400.129303  ...   \n",
       "4                             1402.172226  ...   \n",
       "\n",
       "   secondary_cleaner.state.floatbank4_a_air  \\\n",
       "0                                 12.023554   \n",
       "1                                 12.058140   \n",
       "2                                 11.962366   \n",
       "3                                 12.033091   \n",
       "4                                 12.025367   \n",
       "\n",
       "   secondary_cleaner.state.floatbank4_a_level  \\\n",
       "0                                 -497.795834   \n",
       "1                                 -498.695773   \n",
       "2                                 -498.767484   \n",
       "3                                 -498.350935   \n",
       "4                                 -500.786497   \n",
       "\n",
       "   secondary_cleaner.state.floatbank4_b_air  \\\n",
       "0                                  8.016656   \n",
       "1                                  8.130979   \n",
       "2                                  8.096893   \n",
       "3                                  8.074946   \n",
       "4                                  8.054678   \n",
       "\n",
       "   secondary_cleaner.state.floatbank4_b_level  \\\n",
       "0                                 -501.289139   \n",
       "1                                 -499.634209   \n",
       "2                                 -500.827423   \n",
       "3                                 -499.474407   \n",
       "4                                 -500.397500   \n",
       "\n",
       "   secondary_cleaner.state.floatbank5_a_air  \\\n",
       "0                                  7.946562   \n",
       "1                                  7.958270   \n",
       "2                                  8.071056   \n",
       "3                                  7.897085   \n",
       "4                                  8.107890   \n",
       "\n",
       "   secondary_cleaner.state.floatbank5_a_level  \\\n",
       "0                                 -432.317850   \n",
       "1                                 -525.839648   \n",
       "2                                 -500.801673   \n",
       "3                                 -500.868509   \n",
       "4                                 -509.526725   \n",
       "\n",
       "   secondary_cleaner.state.floatbank5_b_air  \\\n",
       "0                                  4.872511   \n",
       "1                                  4.878850   \n",
       "2                                  4.905125   \n",
       "3                                  4.931400   \n",
       "4                                  4.957674   \n",
       "\n",
       "   secondary_cleaner.state.floatbank5_b_level  \\\n",
       "0                                 -500.037437   \n",
       "1                                 -500.162375   \n",
       "2                                 -499.828510   \n",
       "3                                 -499.963623   \n",
       "4                                 -500.360026   \n",
       "\n",
       "   secondary_cleaner.state.floatbank6_a_air  \\\n",
       "0                                 26.705889   \n",
       "1                                 25.019940   \n",
       "2                                 24.994862   \n",
       "3                                 24.948919   \n",
       "4                                 25.003331   \n",
       "\n",
       "   secondary_cleaner.state.floatbank6_a_level  \n",
       "0                                 -499.709414  \n",
       "1                                 -499.819438  \n",
       "2                                 -500.622559  \n",
       "3                                 -498.709987  \n",
       "4                                 -500.856333  \n",
       "\n",
       "[5 rows x 53 columns]"
      ]
     },
     "execution_count": 4,
     "metadata": {},
     "output_type": "execute_result"
    }
   ],
   "source": [
    "test_data.head()"
   ]
  },
  {
   "cell_type": "code",
   "execution_count": 5,
   "metadata": {},
   "outputs": [
    {
     "data": {
      "text/html": [
       "<div>\n",
       "<style scoped>\n",
       "    .dataframe tbody tr th:only-of-type {\n",
       "        vertical-align: middle;\n",
       "    }\n",
       "\n",
       "    .dataframe tbody tr th {\n",
       "        vertical-align: top;\n",
       "    }\n",
       "\n",
       "    .dataframe thead th {\n",
       "        text-align: right;\n",
       "    }\n",
       "</style>\n",
       "<table border=\"1\" class=\"dataframe\">\n",
       "  <thead>\n",
       "    <tr style=\"text-align: right;\">\n",
       "      <th></th>\n",
       "      <th>date</th>\n",
       "      <th>final.output.concentrate_ag</th>\n",
       "      <th>final.output.concentrate_pb</th>\n",
       "      <th>final.output.concentrate_sol</th>\n",
       "      <th>final.output.concentrate_au</th>\n",
       "      <th>final.output.recovery</th>\n",
       "      <th>final.output.tail_ag</th>\n",
       "      <th>final.output.tail_pb</th>\n",
       "      <th>final.output.tail_sol</th>\n",
       "      <th>final.output.tail_au</th>\n",
       "      <th>...</th>\n",
       "      <th>secondary_cleaner.state.floatbank4_a_air</th>\n",
       "      <th>secondary_cleaner.state.floatbank4_a_level</th>\n",
       "      <th>secondary_cleaner.state.floatbank4_b_air</th>\n",
       "      <th>secondary_cleaner.state.floatbank4_b_level</th>\n",
       "      <th>secondary_cleaner.state.floatbank5_a_air</th>\n",
       "      <th>secondary_cleaner.state.floatbank5_a_level</th>\n",
       "      <th>secondary_cleaner.state.floatbank5_b_air</th>\n",
       "      <th>secondary_cleaner.state.floatbank5_b_level</th>\n",
       "      <th>secondary_cleaner.state.floatbank6_a_air</th>\n",
       "      <th>secondary_cleaner.state.floatbank6_a_level</th>\n",
       "    </tr>\n",
       "  </thead>\n",
       "  <tbody>\n",
       "    <tr>\n",
       "      <th>0</th>\n",
       "      <td>2016-01-15 00:00:00</td>\n",
       "      <td>6.055403</td>\n",
       "      <td>9.889648</td>\n",
       "      <td>5.507324</td>\n",
       "      <td>42.192020</td>\n",
       "      <td>70.541216</td>\n",
       "      <td>10.411962</td>\n",
       "      <td>0.895447</td>\n",
       "      <td>16.904297</td>\n",
       "      <td>2.143149</td>\n",
       "      <td>...</td>\n",
       "      <td>14.016835</td>\n",
       "      <td>-502.488007</td>\n",
       "      <td>12.099931</td>\n",
       "      <td>-504.715942</td>\n",
       "      <td>9.925633</td>\n",
       "      <td>-498.310211</td>\n",
       "      <td>8.079666</td>\n",
       "      <td>-500.470978</td>\n",
       "      <td>14.151341</td>\n",
       "      <td>-605.841980</td>\n",
       "    </tr>\n",
       "    <tr>\n",
       "      <th>1</th>\n",
       "      <td>2016-01-15 01:00:00</td>\n",
       "      <td>6.029369</td>\n",
       "      <td>9.968944</td>\n",
       "      <td>5.257781</td>\n",
       "      <td>42.701629</td>\n",
       "      <td>69.266198</td>\n",
       "      <td>10.462676</td>\n",
       "      <td>0.927452</td>\n",
       "      <td>16.634514</td>\n",
       "      <td>2.224930</td>\n",
       "      <td>...</td>\n",
       "      <td>13.992281</td>\n",
       "      <td>-505.503262</td>\n",
       "      <td>11.950531</td>\n",
       "      <td>-501.331529</td>\n",
       "      <td>10.039245</td>\n",
       "      <td>-500.169983</td>\n",
       "      <td>7.984757</td>\n",
       "      <td>-500.582168</td>\n",
       "      <td>13.998353</td>\n",
       "      <td>-599.787184</td>\n",
       "    </tr>\n",
       "    <tr>\n",
       "      <th>2</th>\n",
       "      <td>2016-01-15 02:00:00</td>\n",
       "      <td>6.055926</td>\n",
       "      <td>10.213995</td>\n",
       "      <td>5.383759</td>\n",
       "      <td>42.657501</td>\n",
       "      <td>68.116445</td>\n",
       "      <td>10.507046</td>\n",
       "      <td>0.953716</td>\n",
       "      <td>16.208849</td>\n",
       "      <td>2.257889</td>\n",
       "      <td>...</td>\n",
       "      <td>14.015015</td>\n",
       "      <td>-502.520901</td>\n",
       "      <td>11.912783</td>\n",
       "      <td>-501.133383</td>\n",
       "      <td>10.070913</td>\n",
       "      <td>-500.129135</td>\n",
       "      <td>8.013877</td>\n",
       "      <td>-500.517572</td>\n",
       "      <td>14.028663</td>\n",
       "      <td>-601.427363</td>\n",
       "    </tr>\n",
       "    <tr>\n",
       "      <th>3</th>\n",
       "      <td>2016-01-15 03:00:00</td>\n",
       "      <td>6.047977</td>\n",
       "      <td>9.977019</td>\n",
       "      <td>4.858634</td>\n",
       "      <td>42.689819</td>\n",
       "      <td>68.347543</td>\n",
       "      <td>10.422762</td>\n",
       "      <td>0.883763</td>\n",
       "      <td>16.532835</td>\n",
       "      <td>2.146849</td>\n",
       "      <td>...</td>\n",
       "      <td>14.036510</td>\n",
       "      <td>-500.857308</td>\n",
       "      <td>11.999550</td>\n",
       "      <td>-501.193686</td>\n",
       "      <td>9.970366</td>\n",
       "      <td>-499.201640</td>\n",
       "      <td>7.977324</td>\n",
       "      <td>-500.255908</td>\n",
       "      <td>14.005551</td>\n",
       "      <td>-599.996129</td>\n",
       "    </tr>\n",
       "    <tr>\n",
       "      <th>4</th>\n",
       "      <td>2016-01-15 04:00:00</td>\n",
       "      <td>6.148599</td>\n",
       "      <td>10.142511</td>\n",
       "      <td>4.939416</td>\n",
       "      <td>42.774141</td>\n",
       "      <td>66.927016</td>\n",
       "      <td>10.360302</td>\n",
       "      <td>0.792826</td>\n",
       "      <td>16.525686</td>\n",
       "      <td>2.055292</td>\n",
       "      <td>...</td>\n",
       "      <td>14.027298</td>\n",
       "      <td>-499.838632</td>\n",
       "      <td>11.953070</td>\n",
       "      <td>-501.053894</td>\n",
       "      <td>9.925709</td>\n",
       "      <td>-501.686727</td>\n",
       "      <td>7.894242</td>\n",
       "      <td>-500.356035</td>\n",
       "      <td>13.996647</td>\n",
       "      <td>-601.496691</td>\n",
       "    </tr>\n",
       "  </tbody>\n",
       "</table>\n",
       "<p>5 rows × 87 columns</p>\n",
       "</div>"
      ],
      "text/plain": [
       "                  date  final.output.concentrate_ag  \\\n",
       "0  2016-01-15 00:00:00                     6.055403   \n",
       "1  2016-01-15 01:00:00                     6.029369   \n",
       "2  2016-01-15 02:00:00                     6.055926   \n",
       "3  2016-01-15 03:00:00                     6.047977   \n",
       "4  2016-01-15 04:00:00                     6.148599   \n",
       "\n",
       "   final.output.concentrate_pb  final.output.concentrate_sol  \\\n",
       "0                     9.889648                      5.507324   \n",
       "1                     9.968944                      5.257781   \n",
       "2                    10.213995                      5.383759   \n",
       "3                     9.977019                      4.858634   \n",
       "4                    10.142511                      4.939416   \n",
       "\n",
       "   final.output.concentrate_au  final.output.recovery  final.output.tail_ag  \\\n",
       "0                    42.192020              70.541216             10.411962   \n",
       "1                    42.701629              69.266198             10.462676   \n",
       "2                    42.657501              68.116445             10.507046   \n",
       "3                    42.689819              68.347543             10.422762   \n",
       "4                    42.774141              66.927016             10.360302   \n",
       "\n",
       "   final.output.tail_pb  final.output.tail_sol  final.output.tail_au  ...  \\\n",
       "0              0.895447              16.904297              2.143149  ...   \n",
       "1              0.927452              16.634514              2.224930  ...   \n",
       "2              0.953716              16.208849              2.257889  ...   \n",
       "3              0.883763              16.532835              2.146849  ...   \n",
       "4              0.792826              16.525686              2.055292  ...   \n",
       "\n",
       "   secondary_cleaner.state.floatbank4_a_air  \\\n",
       "0                                 14.016835   \n",
       "1                                 13.992281   \n",
       "2                                 14.015015   \n",
       "3                                 14.036510   \n",
       "4                                 14.027298   \n",
       "\n",
       "   secondary_cleaner.state.floatbank4_a_level  \\\n",
       "0                                 -502.488007   \n",
       "1                                 -505.503262   \n",
       "2                                 -502.520901   \n",
       "3                                 -500.857308   \n",
       "4                                 -499.838632   \n",
       "\n",
       "   secondary_cleaner.state.floatbank4_b_air  \\\n",
       "0                                 12.099931   \n",
       "1                                 11.950531   \n",
       "2                                 11.912783   \n",
       "3                                 11.999550   \n",
       "4                                 11.953070   \n",
       "\n",
       "   secondary_cleaner.state.floatbank4_b_level  \\\n",
       "0                                 -504.715942   \n",
       "1                                 -501.331529   \n",
       "2                                 -501.133383   \n",
       "3                                 -501.193686   \n",
       "4                                 -501.053894   \n",
       "\n",
       "   secondary_cleaner.state.floatbank5_a_air  \\\n",
       "0                                  9.925633   \n",
       "1                                 10.039245   \n",
       "2                                 10.070913   \n",
       "3                                  9.970366   \n",
       "4                                  9.925709   \n",
       "\n",
       "   secondary_cleaner.state.floatbank5_a_level  \\\n",
       "0                                 -498.310211   \n",
       "1                                 -500.169983   \n",
       "2                                 -500.129135   \n",
       "3                                 -499.201640   \n",
       "4                                 -501.686727   \n",
       "\n",
       "   secondary_cleaner.state.floatbank5_b_air  \\\n",
       "0                                  8.079666   \n",
       "1                                  7.984757   \n",
       "2                                  8.013877   \n",
       "3                                  7.977324   \n",
       "4                                  7.894242   \n",
       "\n",
       "   secondary_cleaner.state.floatbank5_b_level  \\\n",
       "0                                 -500.470978   \n",
       "1                                 -500.582168   \n",
       "2                                 -500.517572   \n",
       "3                                 -500.255908   \n",
       "4                                 -500.356035   \n",
       "\n",
       "   secondary_cleaner.state.floatbank6_a_air  \\\n",
       "0                                 14.151341   \n",
       "1                                 13.998353   \n",
       "2                                 14.028663   \n",
       "3                                 14.005551   \n",
       "4                                 13.996647   \n",
       "\n",
       "   secondary_cleaner.state.floatbank6_a_level  \n",
       "0                                 -605.841980  \n",
       "1                                 -599.787184  \n",
       "2                                 -601.427363  \n",
       "3                                 -599.996129  \n",
       "4                                 -601.496691  \n",
       "\n",
       "[5 rows x 87 columns]"
      ]
     },
     "execution_count": 5,
     "metadata": {},
     "output_type": "execute_result"
    }
   ],
   "source": [
    "full_data.head()"
   ]
  },
  {
   "cell_type": "markdown",
   "metadata": {},
   "source": [
    "### Вывод основной информации о датафреймах"
   ]
  },
  {
   "cell_type": "code",
   "execution_count": 6,
   "metadata": {},
   "outputs": [
    {
     "name": "stdout",
     "output_type": "stream",
     "text": [
      "<class 'pandas.core.frame.DataFrame'>\n",
      "RangeIndex: 14149 entries, 0 to 14148\n",
      "Data columns (total 87 columns):\n",
      " #   Column                                              Non-Null Count  Dtype  \n",
      "---  ------                                              --------------  -----  \n",
      " 0   date                                                14149 non-null  object \n",
      " 1   final.output.concentrate_ag                         14148 non-null  float64\n",
      " 2   final.output.concentrate_pb                         14148 non-null  float64\n",
      " 3   final.output.concentrate_sol                        13938 non-null  float64\n",
      " 4   final.output.concentrate_au                         14149 non-null  float64\n",
      " 5   final.output.recovery                               14149 non-null  float64\n",
      " 6   final.output.tail_ag                                14149 non-null  float64\n",
      " 7   final.output.tail_pb                                14049 non-null  float64\n",
      " 8   final.output.tail_sol                               14144 non-null  float64\n",
      " 9   final.output.tail_au                                14149 non-null  float64\n",
      " 10  primary_cleaner.input.sulfate                       14129 non-null  float64\n",
      " 11  primary_cleaner.input.depressant                    14117 non-null  float64\n",
      " 12  primary_cleaner.input.feed_size                     14149 non-null  float64\n",
      " 13  primary_cleaner.input.xanthate                      14049 non-null  float64\n",
      " 14  primary_cleaner.output.concentrate_ag               14149 non-null  float64\n",
      " 15  primary_cleaner.output.concentrate_pb               14063 non-null  float64\n",
      " 16  primary_cleaner.output.concentrate_sol              13863 non-null  float64\n",
      " 17  primary_cleaner.output.concentrate_au               14149 non-null  float64\n",
      " 18  primary_cleaner.output.tail_ag                      14148 non-null  float64\n",
      " 19  primary_cleaner.output.tail_pb                      14134 non-null  float64\n",
      " 20  primary_cleaner.output.tail_sol                     14103 non-null  float64\n",
      " 21  primary_cleaner.output.tail_au                      14149 non-null  float64\n",
      " 22  primary_cleaner.state.floatbank8_a_air              14145 non-null  float64\n",
      " 23  primary_cleaner.state.floatbank8_a_level            14148 non-null  float64\n",
      " 24  primary_cleaner.state.floatbank8_b_air              14145 non-null  float64\n",
      " 25  primary_cleaner.state.floatbank8_b_level            14148 non-null  float64\n",
      " 26  primary_cleaner.state.floatbank8_c_air              14147 non-null  float64\n",
      " 27  primary_cleaner.state.floatbank8_c_level            14148 non-null  float64\n",
      " 28  primary_cleaner.state.floatbank8_d_air              14146 non-null  float64\n",
      " 29  primary_cleaner.state.floatbank8_d_level            14148 non-null  float64\n",
      " 30  rougher.calculation.sulfate_to_au_concentrate       14148 non-null  float64\n",
      " 31  rougher.calculation.floatbank10_sulfate_to_au_feed  14148 non-null  float64\n",
      " 32  rougher.calculation.floatbank11_sulfate_to_au_feed  14148 non-null  float64\n",
      " 33  rougher.calculation.au_pb_ratio                     14149 non-null  float64\n",
      " 34  rougher.input.feed_ag                               14149 non-null  float64\n",
      " 35  rougher.input.feed_pb                               14049 non-null  float64\n",
      " 36  rougher.input.feed_rate                             14141 non-null  float64\n",
      " 37  rougher.input.feed_size                             14005 non-null  float64\n",
      " 38  rougher.input.feed_sol                              14071 non-null  float64\n",
      " 39  rougher.input.feed_au                               14149 non-null  float64\n",
      " 40  rougher.input.floatbank10_sulfate                   14120 non-null  float64\n",
      " 41  rougher.input.floatbank10_xanthate                  14141 non-null  float64\n",
      " 42  rougher.input.floatbank11_sulfate                   14113 non-null  float64\n",
      " 43  rougher.input.floatbank11_xanthate                  13721 non-null  float64\n",
      " 44  rougher.output.concentrate_ag                       14149 non-null  float64\n",
      " 45  rougher.output.concentrate_pb                       14149 non-null  float64\n",
      " 46  rougher.output.concentrate_sol                      14127 non-null  float64\n",
      " 47  rougher.output.concentrate_au                       14149 non-null  float64\n",
      " 48  rougher.output.recovery                             14149 non-null  float64\n",
      " 49  rougher.output.tail_ag                              14148 non-null  float64\n",
      " 50  rougher.output.tail_pb                              14149 non-null  float64\n",
      " 51  rougher.output.tail_sol                             14149 non-null  float64\n",
      " 52  rougher.output.tail_au                              14149 non-null  float64\n",
      " 53  rougher.state.floatbank10_a_air                     14148 non-null  float64\n",
      " 54  rougher.state.floatbank10_a_level                   14148 non-null  float64\n",
      " 55  rougher.state.floatbank10_b_air                     14148 non-null  float64\n",
      " 56  rougher.state.floatbank10_b_level                   14148 non-null  float64\n",
      " 57  rougher.state.floatbank10_c_air                     14148 non-null  float64\n",
      " 58  rougher.state.floatbank10_c_level                   14148 non-null  float64\n",
      " 59  rougher.state.floatbank10_d_air                     14149 non-null  float64\n",
      " 60  rougher.state.floatbank10_d_level                   14149 non-null  float64\n",
      " 61  rougher.state.floatbank10_e_air                     13713 non-null  float64\n",
      " 62  rougher.state.floatbank10_e_level                   14149 non-null  float64\n",
      " 63  rougher.state.floatbank10_f_air                     14149 non-null  float64\n",
      " 64  rougher.state.floatbank10_f_level                   14149 non-null  float64\n",
      " 65  secondary_cleaner.output.tail_ag                    14147 non-null  float64\n",
      " 66  secondary_cleaner.output.tail_pb                    14139 non-null  float64\n",
      " 67  secondary_cleaner.output.tail_sol                   12544 non-null  float64\n",
      " 68  secondary_cleaner.output.tail_au                    14149 non-null  float64\n",
      " 69  secondary_cleaner.state.floatbank2_a_air            13932 non-null  float64\n",
      " 70  secondary_cleaner.state.floatbank2_a_level          14148 non-null  float64\n",
      " 71  secondary_cleaner.state.floatbank2_b_air            14128 non-null  float64\n",
      " 72  secondary_cleaner.state.floatbank2_b_level          14148 non-null  float64\n",
      " 73  secondary_cleaner.state.floatbank3_a_air            14145 non-null  float64\n",
      " 74  secondary_cleaner.state.floatbank3_a_level          14148 non-null  float64\n",
      " 75  secondary_cleaner.state.floatbank3_b_air            14148 non-null  float64\n",
      " 76  secondary_cleaner.state.floatbank3_b_level          14148 non-null  float64\n",
      " 77  secondary_cleaner.state.floatbank4_a_air            14143 non-null  float64\n",
      " 78  secondary_cleaner.state.floatbank4_a_level          14148 non-null  float64\n",
      " 79  secondary_cleaner.state.floatbank4_b_air            14148 non-null  float64\n",
      " 80  secondary_cleaner.state.floatbank4_b_level          14148 non-null  float64\n",
      " 81  secondary_cleaner.state.floatbank5_a_air            14148 non-null  float64\n",
      " 82  secondary_cleaner.state.floatbank5_a_level          14148 non-null  float64\n",
      " 83  secondary_cleaner.state.floatbank5_b_air            14148 non-null  float64\n",
      " 84  secondary_cleaner.state.floatbank5_b_level          14148 non-null  float64\n",
      " 85  secondary_cleaner.state.floatbank6_a_air            14147 non-null  float64\n",
      " 86  secondary_cleaner.state.floatbank6_a_level          14148 non-null  float64\n",
      "dtypes: float64(86), object(1)\n",
      "memory usage: 9.4+ MB\n"
     ]
    }
   ],
   "source": [
    "train_data.info()"
   ]
  },
  {
   "cell_type": "code",
   "execution_count": 7,
   "metadata": {},
   "outputs": [
    {
     "name": "stdout",
     "output_type": "stream",
     "text": [
      "<class 'pandas.core.frame.DataFrame'>\n",
      "RangeIndex: 5290 entries, 0 to 5289\n",
      "Data columns (total 53 columns):\n",
      " #   Column                                      Non-Null Count  Dtype  \n",
      "---  ------                                      --------------  -----  \n",
      " 0   date                                        5290 non-null   object \n",
      " 1   primary_cleaner.input.sulfate               5286 non-null   float64\n",
      " 2   primary_cleaner.input.depressant            5285 non-null   float64\n",
      " 3   primary_cleaner.input.feed_size             5290 non-null   float64\n",
      " 4   primary_cleaner.input.xanthate              5286 non-null   float64\n",
      " 5   primary_cleaner.state.floatbank8_a_air      5290 non-null   float64\n",
      " 6   primary_cleaner.state.floatbank8_a_level    5290 non-null   float64\n",
      " 7   primary_cleaner.state.floatbank8_b_air      5290 non-null   float64\n",
      " 8   primary_cleaner.state.floatbank8_b_level    5290 non-null   float64\n",
      " 9   primary_cleaner.state.floatbank8_c_air      5290 non-null   float64\n",
      " 10  primary_cleaner.state.floatbank8_c_level    5290 non-null   float64\n",
      " 11  primary_cleaner.state.floatbank8_d_air      5290 non-null   float64\n",
      " 12  primary_cleaner.state.floatbank8_d_level    5290 non-null   float64\n",
      " 13  rougher.input.feed_ag                       5290 non-null   float64\n",
      " 14  rougher.input.feed_pb                       5290 non-null   float64\n",
      " 15  rougher.input.feed_rate                     5287 non-null   float64\n",
      " 16  rougher.input.feed_size                     5289 non-null   float64\n",
      " 17  rougher.input.feed_sol                      5269 non-null   float64\n",
      " 18  rougher.input.feed_au                       5290 non-null   float64\n",
      " 19  rougher.input.floatbank10_sulfate           5285 non-null   float64\n",
      " 20  rougher.input.floatbank10_xanthate          5290 non-null   float64\n",
      " 21  rougher.input.floatbank11_sulfate           5282 non-null   float64\n",
      " 22  rougher.input.floatbank11_xanthate          5265 non-null   float64\n",
      " 23  rougher.state.floatbank10_a_air             5290 non-null   float64\n",
      " 24  rougher.state.floatbank10_a_level           5290 non-null   float64\n",
      " 25  rougher.state.floatbank10_b_air             5290 non-null   float64\n",
      " 26  rougher.state.floatbank10_b_level           5290 non-null   float64\n",
      " 27  rougher.state.floatbank10_c_air             5290 non-null   float64\n",
      " 28  rougher.state.floatbank10_c_level           5290 non-null   float64\n",
      " 29  rougher.state.floatbank10_d_air             5290 non-null   float64\n",
      " 30  rougher.state.floatbank10_d_level           5290 non-null   float64\n",
      " 31  rougher.state.floatbank10_e_air             5290 non-null   float64\n",
      " 32  rougher.state.floatbank10_e_level           5290 non-null   float64\n",
      " 33  rougher.state.floatbank10_f_air             5290 non-null   float64\n",
      " 34  rougher.state.floatbank10_f_level           5290 non-null   float64\n",
      " 35  secondary_cleaner.state.floatbank2_a_air    5287 non-null   float64\n",
      " 36  secondary_cleaner.state.floatbank2_a_level  5290 non-null   float64\n",
      " 37  secondary_cleaner.state.floatbank2_b_air    5288 non-null   float64\n",
      " 38  secondary_cleaner.state.floatbank2_b_level  5290 non-null   float64\n",
      " 39  secondary_cleaner.state.floatbank3_a_air    5281 non-null   float64\n",
      " 40  secondary_cleaner.state.floatbank3_a_level  5290 non-null   float64\n",
      " 41  secondary_cleaner.state.floatbank3_b_air    5290 non-null   float64\n",
      " 42  secondary_cleaner.state.floatbank3_b_level  5290 non-null   float64\n",
      " 43  secondary_cleaner.state.floatbank4_a_air    5290 non-null   float64\n",
      " 44  secondary_cleaner.state.floatbank4_a_level  5290 non-null   float64\n",
      " 45  secondary_cleaner.state.floatbank4_b_air    5290 non-null   float64\n",
      " 46  secondary_cleaner.state.floatbank4_b_level  5290 non-null   float64\n",
      " 47  secondary_cleaner.state.floatbank5_a_air    5290 non-null   float64\n",
      " 48  secondary_cleaner.state.floatbank5_a_level  5290 non-null   float64\n",
      " 49  secondary_cleaner.state.floatbank5_b_air    5290 non-null   float64\n",
      " 50  secondary_cleaner.state.floatbank5_b_level  5290 non-null   float64\n",
      " 51  secondary_cleaner.state.floatbank6_a_air    5290 non-null   float64\n",
      " 52  secondary_cleaner.state.floatbank6_a_level  5290 non-null   float64\n",
      "dtypes: float64(52), object(1)\n",
      "memory usage: 2.1+ MB\n"
     ]
    }
   ],
   "source": [
    "test_data.info()"
   ]
  },
  {
   "cell_type": "code",
   "execution_count": 8,
   "metadata": {},
   "outputs": [
    {
     "name": "stdout",
     "output_type": "stream",
     "text": [
      "<class 'pandas.core.frame.DataFrame'>\n",
      "RangeIndex: 19439 entries, 0 to 19438\n",
      "Data columns (total 87 columns):\n",
      " #   Column                                              Non-Null Count  Dtype  \n",
      "---  ------                                              --------------  -----  \n",
      " 0   date                                                19439 non-null  object \n",
      " 1   final.output.concentrate_ag                         19438 non-null  float64\n",
      " 2   final.output.concentrate_pb                         19438 non-null  float64\n",
      " 3   final.output.concentrate_sol                        19228 non-null  float64\n",
      " 4   final.output.concentrate_au                         19439 non-null  float64\n",
      " 5   final.output.recovery                               19439 non-null  float64\n",
      " 6   final.output.tail_ag                                19438 non-null  float64\n",
      " 7   final.output.tail_pb                                19338 non-null  float64\n",
      " 8   final.output.tail_sol                               19433 non-null  float64\n",
      " 9   final.output.tail_au                                19439 non-null  float64\n",
      " 10  primary_cleaner.input.sulfate                       19415 non-null  float64\n",
      " 11  primary_cleaner.input.depressant                    19402 non-null  float64\n",
      " 12  primary_cleaner.input.feed_size                     19439 non-null  float64\n",
      " 13  primary_cleaner.input.xanthate                      19335 non-null  float64\n",
      " 14  primary_cleaner.output.concentrate_ag               19439 non-null  float64\n",
      " 15  primary_cleaner.output.concentrate_pb               19323 non-null  float64\n",
      " 16  primary_cleaner.output.concentrate_sol              19069 non-null  float64\n",
      " 17  primary_cleaner.output.concentrate_au               19439 non-null  float64\n",
      " 18  primary_cleaner.output.tail_ag                      19435 non-null  float64\n",
      " 19  primary_cleaner.output.tail_pb                      19418 non-null  float64\n",
      " 20  primary_cleaner.output.tail_sol                     19377 non-null  float64\n",
      " 21  primary_cleaner.output.tail_au                      19439 non-null  float64\n",
      " 22  primary_cleaner.state.floatbank8_a_air              19435 non-null  float64\n",
      " 23  primary_cleaner.state.floatbank8_a_level            19438 non-null  float64\n",
      " 24  primary_cleaner.state.floatbank8_b_air              19435 non-null  float64\n",
      " 25  primary_cleaner.state.floatbank8_b_level            19438 non-null  float64\n",
      " 26  primary_cleaner.state.floatbank8_c_air              19437 non-null  float64\n",
      " 27  primary_cleaner.state.floatbank8_c_level            19438 non-null  float64\n",
      " 28  primary_cleaner.state.floatbank8_d_air              19436 non-null  float64\n",
      " 29  primary_cleaner.state.floatbank8_d_level            19438 non-null  float64\n",
      " 30  rougher.calculation.sulfate_to_au_concentrate       19437 non-null  float64\n",
      " 31  rougher.calculation.floatbank10_sulfate_to_au_feed  19437 non-null  float64\n",
      " 32  rougher.calculation.floatbank11_sulfate_to_au_feed  19437 non-null  float64\n",
      " 33  rougher.calculation.au_pb_ratio                     19439 non-null  float64\n",
      " 34  rougher.input.feed_ag                               19439 non-null  float64\n",
      " 35  rougher.input.feed_pb                               19339 non-null  float64\n",
      " 36  rougher.input.feed_rate                             19428 non-null  float64\n",
      " 37  rougher.input.feed_size                             19294 non-null  float64\n",
      " 38  rougher.input.feed_sol                              19340 non-null  float64\n",
      " 39  rougher.input.feed_au                               19439 non-null  float64\n",
      " 40  rougher.input.floatbank10_sulfate                   19405 non-null  float64\n",
      " 41  rougher.input.floatbank10_xanthate                  19431 non-null  float64\n",
      " 42  rougher.input.floatbank11_sulfate                   19395 non-null  float64\n",
      " 43  rougher.input.floatbank11_xanthate                  18986 non-null  float64\n",
      " 44  rougher.output.concentrate_ag                       19439 non-null  float64\n",
      " 45  rougher.output.concentrate_pb                       19439 non-null  float64\n",
      " 46  rougher.output.concentrate_sol                      19416 non-null  float64\n",
      " 47  rougher.output.concentrate_au                       19439 non-null  float64\n",
      " 48  rougher.output.recovery                             19439 non-null  float64\n",
      " 49  rougher.output.tail_ag                              19438 non-null  float64\n",
      " 50  rougher.output.tail_pb                              19439 non-null  float64\n",
      " 51  rougher.output.tail_sol                             19439 non-null  float64\n",
      " 52  rougher.output.tail_au                              19439 non-null  float64\n",
      " 53  rougher.state.floatbank10_a_air                     19438 non-null  float64\n",
      " 54  rougher.state.floatbank10_a_level                   19438 non-null  float64\n",
      " 55  rougher.state.floatbank10_b_air                     19438 non-null  float64\n",
      " 56  rougher.state.floatbank10_b_level                   19438 non-null  float64\n",
      " 57  rougher.state.floatbank10_c_air                     19438 non-null  float64\n",
      " 58  rougher.state.floatbank10_c_level                   19438 non-null  float64\n",
      " 59  rougher.state.floatbank10_d_air                     19439 non-null  float64\n",
      " 60  rougher.state.floatbank10_d_level                   19439 non-null  float64\n",
      " 61  rougher.state.floatbank10_e_air                     19003 non-null  float64\n",
      " 62  rougher.state.floatbank10_e_level                   19439 non-null  float64\n",
      " 63  rougher.state.floatbank10_f_air                     19439 non-null  float64\n",
      " 64  rougher.state.floatbank10_f_level                   19439 non-null  float64\n",
      " 65  secondary_cleaner.output.tail_ag                    19437 non-null  float64\n",
      " 66  secondary_cleaner.output.tail_pb                    19427 non-null  float64\n",
      " 67  secondary_cleaner.output.tail_sol                   17691 non-null  float64\n",
      " 68  secondary_cleaner.output.tail_au                    19439 non-null  float64\n",
      " 69  secondary_cleaner.state.floatbank2_a_air            19219 non-null  float64\n",
      " 70  secondary_cleaner.state.floatbank2_a_level          19438 non-null  float64\n",
      " 71  secondary_cleaner.state.floatbank2_b_air            19416 non-null  float64\n",
      " 72  secondary_cleaner.state.floatbank2_b_level          19438 non-null  float64\n",
      " 73  secondary_cleaner.state.floatbank3_a_air            19426 non-null  float64\n",
      " 74  secondary_cleaner.state.floatbank3_a_level          19438 non-null  float64\n",
      " 75  secondary_cleaner.state.floatbank3_b_air            19438 non-null  float64\n",
      " 76  secondary_cleaner.state.floatbank3_b_level          19438 non-null  float64\n",
      " 77  secondary_cleaner.state.floatbank4_a_air            19433 non-null  float64\n",
      " 78  secondary_cleaner.state.floatbank4_a_level          19438 non-null  float64\n",
      " 79  secondary_cleaner.state.floatbank4_b_air            19438 non-null  float64\n",
      " 80  secondary_cleaner.state.floatbank4_b_level          19438 non-null  float64\n",
      " 81  secondary_cleaner.state.floatbank5_a_air            19438 non-null  float64\n",
      " 82  secondary_cleaner.state.floatbank5_a_level          19438 non-null  float64\n",
      " 83  secondary_cleaner.state.floatbank5_b_air            19438 non-null  float64\n",
      " 84  secondary_cleaner.state.floatbank5_b_level          19438 non-null  float64\n",
      " 85  secondary_cleaner.state.floatbank6_a_air            19437 non-null  float64\n",
      " 86  secondary_cleaner.state.floatbank6_a_level          19438 non-null  float64\n",
      "dtypes: float64(86), object(1)\n",
      "memory usage: 12.9+ MB\n"
     ]
    }
   ],
   "source": [
    "full_data.info()"
   ]
  },
  {
   "cell_type": "markdown",
   "metadata": {},
   "source": [
    "### Проверка эффективности обогащения"
   ]
  },
  {
   "cell_type": "markdown",
   "metadata": {},
   "source": [
    "Необходимо проверить, что эффективность обогащения рассчитана правильно. Используем формулу для расчета и сравним со значениями в таблице с помощью MAE."
   ]
  },
  {
   "attachments": {
    "image-2.png": {
     "image/png": "[encoded data removed]"
    }
   },
   "cell_type": "markdown",
   "metadata": {},
   "source": [
    "![image-2.png](attachment:image-2.png)"
   ]
  },
  {
   "cell_type": "code",
   "execution_count": 9,
   "metadata": {},
   "outputs": [
    {
     "data": {
      "text/plain": [
       "9.73512347450521e-15"
      ]
     },
     "execution_count": 9,
     "metadata": {},
     "output_type": "execute_result"
    }
   ],
   "source": [
    "c = train_data['rougher.output.concentrate_au'] \n",
    "f = train_data['rougher.input.feed_au'] \n",
    "t = train_data['rougher.output.tail_au']\n",
    "\n",
    "calculate_recovery = (c * (f - t)) / (f * (c - t)) * 100\n",
    "\n",
    "mean_absolute_error(calculate_recovery, train_data['rougher.output.recovery'])"
   ]
  },
  {
   "cell_type": "markdown",
   "metadata": {},
   "source": [
    "Средняя абсолютная ошибка показала значение, близкое к нулю. Следовательно, эффективность обогащения в таблице рассчитана правильно."
   ]
  },
  {
   "cell_type": "markdown",
   "metadata": {},
   "source": [
    "### Вывод"
   ]
  },
  {
   "cell_type": "markdown",
   "metadata": {},
   "source": [
    "Согласно к документации к данным, признаки в таблице имеют следующую форму записи: `[этап].[тип_параметра].[название_параметра]`.\n",
    "\n",
    "Возможные значения для блока `[этап]`:\n",
    "* `rougher` — флотация\n",
    "* `primary_cleaner` — первичная очистка\n",
    "* `secondary_cleaner` — вторичная очистка\n",
    "* `final` — финальные характеристики\n",
    "\n",
    "Возможные значения для блока `[тип_параметра]`:\n",
    "* `input` — параметры сырья\n",
    "* `output` — параметры продукта\n",
    "* `state` — параметры, характеризующие текущее состояние этапа\n",
    "* `calculation` — расчётные характеристики\n",
    "\n",
    "Во всех трех датафреймах были замечены пропущенные значения, которые необходимо будет заполнить при подготовке данных, а также разделить данные на признаки и целевые признаки. "
   ]
  },
  {
   "cell_type": "markdown",
   "metadata": {},
   "source": [
    "## Подготовка данных"
   ]
  },
  {
   "cell_type": "markdown",
   "metadata": {},
   "source": [
    "### Заполнение пропущенных значений"
   ]
  },
  {
   "cell_type": "markdown",
   "metadata": {},
   "source": [
    "Заполним все пропущенные значения медианами по столбцам:"
   ]
  },
  {
   "cell_type": "code",
   "execution_count": 10,
   "metadata": {},
   "outputs": [
    {
     "name": "stderr",
     "output_type": "stream",
     "text": [
      "C:\\Users\\150ho\\AppData\\Local\\Temp\\ipykernel_47660\\1604215292.py:1: FutureWarning: The default value of numeric_only in DataFrame.median is deprecated. In a future version, it will default to False. In addition, specifying 'numeric_only=None' is deprecated. Select only valid columns or specify the value of numeric_only to silence this warning.\n",
      "  test_data = test_data.fillna(test_data.median())\n",
      "C:\\Users\\150ho\\AppData\\Local\\Temp\\ipykernel_47660\\1604215292.py:2: FutureWarning: The default value of numeric_only in DataFrame.median is deprecated. In a future version, it will default to False. In addition, specifying 'numeric_only=None' is deprecated. Select only valid columns or specify the value of numeric_only to silence this warning.\n",
      "  train_data = train_data.fillna(train_data.median())\n",
      "C:\\Users\\150ho\\AppData\\Local\\Temp\\ipykernel_47660\\1604215292.py:3: FutureWarning: The default value of numeric_only in DataFrame.median is deprecated. In a future version, it will default to False. In addition, specifying 'numeric_only=None' is deprecated. Select only valid columns or specify the value of numeric_only to silence this warning.\n",
      "  full_data = full_data.fillna(full_data.median())\n"
     ]
    }
   ],
   "source": [
    "test_data = test_data.fillna(test_data.median())\n",
    "train_data = train_data.fillna(train_data.median())\n",
    "full_data = full_data.fillna(full_data.median())"
   ]
  },
  {
   "cell_type": "markdown",
   "metadata": {},
   "source": [
    "### Работа с обучающей и тестовой выборками"
   ]
  },
  {
   "cell_type": "markdown",
   "metadata": {},
   "source": [
    "Так как в тестовой выборке нет тех признаков, которые есть в обучающей, то столбцы с этими признаками стоит удалить из обучающей выборки. Стоит отметить, что в тестовой выборке также нет целевых признаков `final.output.recovery` и `rougher.output.recovery`."
   ]
  },
  {
   "cell_type": "code",
   "execution_count": 11,
   "metadata": {},
   "outputs": [],
   "source": [
    "#выбираем столбцы, которых нет в тестовой выборке\n",
    "data_diff = train_data.columns.difference(test_data.columns) \n",
    "#убираем целевые признаки, иначе они удалятся из обучающей выборки\n",
    "data_diff = data_diff.drop(['final.output.recovery', 'rougher.output.recovery'])"
   ]
  },
  {
   "cell_type": "code",
   "execution_count": 12,
   "metadata": {},
   "outputs": [
    {
     "data": {
      "text/plain": [
       "(14149, 55)"
      ]
     },
     "execution_count": 12,
     "metadata": {},
     "output_type": "execute_result"
    }
   ],
   "source": [
    "train_data = train_data.drop(labels=data_diff, axis=1)\n",
    "train_data.shape"
   ]
  },
  {
   "cell_type": "markdown",
   "metadata": {},
   "source": [
    "Необходимо дозаполнить тестовую выборку целевыми признаками. С помощью `merge` сравниваем датафреймы `test_data` и `full_data` по дате (`date`) и находим необходимые значения целевых признаков."
   ]
  },
  {
   "cell_type": "code",
   "execution_count": 13,
   "metadata": {},
   "outputs": [],
   "source": [
    "test_data['final.output.recovery'] = pd.merge(test_data, full_data, on=['date'], how='outer')['final.output.recovery']\n",
    "test_data['rougher.output.recovery'] = pd.merge(test_data, full_data, on=['date'], how='outer')['rougher.output.recovery']"
   ]
  },
  {
   "cell_type": "markdown",
   "metadata": {},
   "source": [
    "Выделяем необходимые признаки для `features_train` и `features_test`, а также делим целевые признаки на два отдельных."
   ]
  },
  {
   "cell_type": "code",
   "execution_count": 14,
   "metadata": {},
   "outputs": [],
   "source": [
    "features_train = train_data.drop(['final.output.recovery', 'rougher.output.recovery', 'date'], axis=1)\n",
    "target_train_final = train_data['final.output.recovery']\n",
    "target_train_rougher = train_data['rougher.output.recovery']\n",
    "\n",
    "features_test = test_data.drop(['final.output.recovery', 'rougher.output.recovery', 'date'], axis=1)\n",
    "target_test_final = test_data['final.output.recovery']\n",
    "target_test_rougher = test_data['rougher.output.recovery']"
   ]
  },
  {
   "cell_type": "markdown",
   "metadata": {},
   "source": [
    "### Масштабирование признаков"
   ]
  },
  {
   "cell_type": "code",
   "execution_count": 15,
   "metadata": {},
   "outputs": [],
   "source": [
    "pd.options.mode.chained_assignment = None\n",
    "\n",
    "scaler = StandardScaler()\n",
    "scaler.fit(features_train)\n",
    "features_train = scaler.transform(features_train)\n",
    "features_test = scaler.transform(features_test)"
   ]
  },
  {
   "cell_type": "markdown",
   "metadata": {},
   "source": [
    "### Вывод"
   ]
  },
  {
   "cell_type": "markdown",
   "metadata": {},
   "source": [
    "В данном разделе была произведена подготовка данных: были заполнены пропущенные значения с помощью медианы, затем из обучающей выборки были убраны признаки, которых нет в тестовой выборке, целевые признаки тестовой выборки были заполнены с помощью исходных данных, а затем численные признаки были промасштабированы."
   ]
  },
  {
   "cell_type": "markdown",
   "metadata": {},
   "source": [
    "## Анализ данных"
   ]
  },
  {
   "cell_type": "markdown",
   "metadata": {},
   "source": [
    "### Изменения концентрации металлов"
   ]
  },
  {
   "cell_type": "markdown",
   "metadata": {},
   "source": [
    "Построим гистограммы, чтобы наглядно увидеть изменения концентрации металлов. Концентрация серебра (Ag):"
   ]
  },
  {
   "cell_type": "code",
   "execution_count": 16,
   "metadata": {},
   "outputs": [
    {
     "data": {
      "text/plain": [
       "<matplotlib.legend.Legend at 0x190b8ca5f70>"
      ]
     },
     "execution_count": 16,
     "metadata": {},
     "output_type": "execute_result"
    },
    {
     "data": {
      "image/png": "[encoded data removed]",
      "text/plain": [
       "<Figure size 640x480 with 1 Axes>"
      ]
     },
     "metadata": {},
     "output_type": "display_data"
    }
   ],
   "source": [
    "full_data['rougher.output.concentrate_ag'].plot(bins=50, kind='hist', alpha=0.5)\n",
    "full_data['primary_cleaner.output.concentrate_ag'].plot(bins=50, kind='hist', alpha=0.5)\n",
    "full_data['final.output.concentrate_ag'].plot(bins=50, kind='hist', grid=True, alpha=0.5)\n",
    "plt.legend(['rougher', 'primary_cleaner', 'final'])"
   ]
  },
  {
   "cell_type": "markdown",
   "metadata": {},
   "source": [
    "Учитывая, что сначала идет флотация (`rougher`), затем очистка (`primary_cleaner`) и после финальный концентрат (`final`), по данному графику можно сказать, что концентрация серебра с кадждым этапом уменьшалась."
   ]
  },
  {
   "cell_type": "markdown",
   "metadata": {},
   "source": [
    "Концентрация золота (Au):"
   ]
  },
  {
   "cell_type": "code",
   "execution_count": 17,
   "metadata": {},
   "outputs": [
    {
     "data": {
      "text/plain": [
       "<matplotlib.legend.Legend at 0x190b92a7e80>"
      ]
     },
     "execution_count": 17,
     "metadata": {},
     "output_type": "execute_result"
    },
    {
     "data": {
      "image/png": "[encoded data removed]",
      "text/plain": [
       "<Figure size 640x480 with 1 Axes>"
      ]
     },
     "metadata": {},
     "output_type": "display_data"
    }
   ],
   "source": [
    "full_data['rougher.output.concentrate_au'].plot(bins=50, kind='hist', alpha=0.5)\n",
    "full_data['primary_cleaner.output.concentrate_au'].plot(bins=50, kind='hist', alpha=0.5)\n",
    "full_data['final.output.concentrate_au'].plot(bins=50, kind='hist', grid=True, alpha=0.5)\n",
    "plt.legend(['rougher', 'primary_cleaner', 'final'])"
   ]
  },
  {
   "cell_type": "markdown",
   "metadata": {},
   "source": [
    "На данном графике видно, что в финальном концентрате золота больше, чем при флотации и очистке, что логично, так как из руды восстанавливается именно золото."
   ]
  },
  {
   "cell_type": "markdown",
   "metadata": {},
   "source": [
    "Концентрация свинца (Pb):"
   ]
  },
  {
   "cell_type": "code",
   "execution_count": 18,
   "metadata": {},
   "outputs": [
    {
     "data": {
      "text/plain": [
       "<matplotlib.legend.Legend at 0x190b886df40>"
      ]
     },
     "execution_count": 18,
     "metadata": {},
     "output_type": "execute_result"
    },
    {
     "data": {
      "image/png": "[encoded data removed]",
      "text/plain": [
       "<Figure size 640x480 with 1 Axes>"
      ]
     },
     "metadata": {},
     "output_type": "display_data"
    }
   ],
   "source": [
    "full_data['rougher.output.concentrate_pb'].plot(bins=50, kind='hist', alpha=0.5)\n",
    "full_data['primary_cleaner.output.concentrate_pb'].plot(bins=50, kind='hist', alpha=0.5)\n",
    "full_data['final.output.concentrate_pb'].plot(bins=50, kind='hist', grid=True, alpha=0.5)\n",
    "plt.legend(['rougher', 'primary_cleaner', 'final'])"
   ]
  },
  {
   "cell_type": "markdown",
   "metadata": {},
   "source": [
    "Концентрации свинца стало меньше в финальном концентрате, чем при флотации, но концентрация не особо изменилась после очистки."
   ]
  },
  {
   "cell_type": "markdown",
   "metadata": {},
   "source": [
    "### Сравнение распределения размеров гранул сырья на обучающей и тестовой выборках"
   ]
  },
  {
   "cell_type": "markdown",
   "metadata": {},
   "source": [
    "Нужно сравнить распределения размеров гранул сырья на обучающей и тестовой выборках, так как если распределения сильно отличаются друг от друга, то оценка модели будет неправильной.\n",
    "\n",
    "Рассмотрим распределения разеров гранул сырья при флотации:"
   ]
  },
  {
   "cell_type": "code",
   "execution_count": 19,
   "metadata": {},
   "outputs": [
    {
     "data": {
      "text/plain": [
       "(0.0, 200.0, 0.0, 0.05)"
      ]
     },
     "execution_count": 19,
     "metadata": {},
     "output_type": "execute_result"
    },
    {
     "data": {
      "image/png": "[encoded data removed]",
      "text/plain": [
       "<Figure size 640x480 with 1 Axes>"
      ]
     },
     "metadata": {},
     "output_type": "display_data"
    }
   ],
   "source": [
    "train_data['rougher.input.feed_size'].hist(bins=50, density=True, alpha=0.5)\n",
    "test_data['rougher.input.feed_size'].hist(bins=50, density=True, alpha=0.5)\n",
    "plt.legend(['train_data', 'test_data'])\n",
    "plt.axis([0, 200, 0, 0.05])"
   ]
  },
  {
   "cell_type": "markdown",
   "metadata": {},
   "source": [
    "Рассмотрим распределения разеров гранул сырья при очистке:"
   ]
  },
  {
   "cell_type": "code",
   "execution_count": 20,
   "metadata": {},
   "outputs": [
    {
     "data": {
      "text/plain": [
       "(4.0, 10.0, 0.0, 0.9)"
      ]
     },
     "execution_count": 20,
     "metadata": {},
     "output_type": "execute_result"
    },
    {
     "data": {
      "image/png": "[encoded data removed]",
      "text/plain": [
       "<Figure size 640x480 with 1 Axes>"
      ]
     },
     "metadata": {},
     "output_type": "display_data"
    }
   ],
   "source": [
    "train_data['primary_cleaner.input.feed_size'].hist(bins=50, density=True, alpha=0.5)\n",
    "test_data['primary_cleaner.input.feed_size'].hist(bins=50, density=True, alpha=0.5)\n",
    "plt.legend(['train_data', 'test_data'])\n",
    "plt.axis([4, 10, 0, 0.9])"
   ]
  },
  {
   "cell_type": "markdown",
   "metadata": {},
   "source": [
    "По графикам видно, что при флотации распределения немного отличаются, но при очистке разница уже почти не заметна. Следовательно, оценка модели будет верна."
   ]
  },
  {
   "cell_type": "markdown",
   "metadata": {},
   "source": [
    "### Суммарная концентрацию всех веществ на разных стадиях"
   ]
  },
  {
   "cell_type": "markdown",
   "metadata": {},
   "source": [
    "Рассмотрим концентрацию веществ на разных стадиях на исходной выборке:"
   ]
  },
  {
   "cell_type": "code",
   "execution_count": 21,
   "metadata": {},
   "outputs": [],
   "source": [
    "rougher_input = (full_data['rougher.input.feed_au'] + #концентрация на входе флотации\n",
    "                 full_data['rougher.input.feed_pb'] + \n",
    "                 full_data['rougher.input.feed_ag'] + \n",
    "                 full_data['rougher.input.feed_sol'])\n",
    "\n",
    "rougher_output = (full_data['rougher.output.concentrate_au'] + #концентрация на выходе флотации \n",
    "                  full_data['rougher.output.concentrate_ag'] +\n",
    "                  full_data['rougher.output.concentrate_pb'] +\n",
    "                  full_data['rougher.output.concentrate_sol'])\n",
    "\n",
    "final_output = (full_data['final.output.concentrate_au'] + #концентрация веществ в финальном концентрате\n",
    "                full_data['final.output.concentrate_ag'] +\n",
    "                full_data['final.output.concentrate_pb'] +\n",
    "                full_data['final.output.concentrate_sol'])"
   ]
  },
  {
   "cell_type": "markdown",
   "metadata": {},
   "source": [
    "Визуализируем суммарные концентрации с помощью гистограмм:"
   ]
  },
  {
   "cell_type": "code",
   "execution_count": 22,
   "metadata": {},
   "outputs": [
    {
     "data": {
      "text/plain": [
       "<AxesSubplot:>"
      ]
     },
     "execution_count": 22,
     "metadata": {},
     "output_type": "execute_result"
    },
    {
     "data": {
      "image/png": "[encoded data removed]",
      "text/plain": [
       "<Figure size 640x480 with 1 Axes>"
      ]
     },
     "metadata": {},
     "output_type": "display_data"
    }
   ],
   "source": [
    "rougher_input.hist(bins=50)"
   ]
  },
  {
   "cell_type": "code",
   "execution_count": 23,
   "metadata": {},
   "outputs": [
    {
     "data": {
      "text/plain": [
       "<AxesSubplot:>"
      ]
     },
     "execution_count": 23,
     "metadata": {},
     "output_type": "execute_result"
    },
    {
     "data": {
      "image/png": "[encoded data removed]",
      "text/plain": [
       "<Figure size 640x480 with 1 Axes>"
      ]
     },
     "metadata": {},
     "output_type": "display_data"
    }
   ],
   "source": [
    "rougher_output.hist(bins=50)"
   ]
  },
  {
   "cell_type": "code",
   "execution_count": 24,
   "metadata": {},
   "outputs": [
    {
     "data": {
      "text/plain": [
       "<AxesSubplot:>"
      ]
     },
     "execution_count": 24,
     "metadata": {},
     "output_type": "execute_result"
    },
    {
     "data": {
      "image/png": "[encoded data removed]",
      "text/plain": [
       "<Figure size 640x480 with 1 Axes>"
      ]
     },
     "metadata": {},
     "output_type": "display_data"
    }
   ],
   "source": [
    "final_output.hist(bins=50)"
   ]
  },
  {
   "cell_type": "markdown",
   "metadata": {},
   "source": [
    "Заметим, что в некоторых случаях суммарная концентрация равна 0, чего точно быть не может. Необходимо данные объекты удалить из исходной, тренировочной и тестовой выборок."
   ]
  },
  {
   "cell_type": "code",
   "execution_count": 25,
   "metadata": {},
   "outputs": [],
   "source": [
    "full_data = full_data.loc[((full_data['final.output.concentrate_au'] +\n",
    "                           full_data['final.output.concentrate_ag'] +\n",
    "                           full_data['final.output.concentrate_pb'] +\n",
    "                           full_data['final.output.concentrate_sol']) != 0) &\n",
    "                          ((full_data['rougher.output.concentrate_au'] +\n",
    "                           full_data['rougher.output.concentrate_ag'] +\n",
    "                           full_data['rougher.output.concentrate_pb'] +\n",
    "                           full_data['rougher.output.concentrate_sol']) != 0) &\n",
    "                          ((full_data['rougher.input.feed_au'] + \n",
    "                           full_data['rougher.input.feed_pb'] + \n",
    "                           full_data['rougher.input.feed_ag'] + \n",
    "                           full_data['rougher.input.feed_sol']) != 0)]\n",
    "\n",
    "train_data = train_data.loc[((train_data['rougher.input.feed_au'] + \n",
    "                           train_data['rougher.input.feed_pb'] + \n",
    "                           train_data['rougher.input.feed_ag'] + \n",
    "                           train_data['rougher.input.feed_sol']) != 0)]\n",
    "\n",
    "test_data = test_data.loc[((test_data['rougher.input.feed_au'] + \n",
    "                           test_data['rougher.input.feed_pb'] + \n",
    "                           test_data['rougher.input.feed_ag'] + \n",
    "                           test_data['rougher.input.feed_sol']) != 0)]"
   ]
  },
  {
   "cell_type": "markdown",
   "metadata": {},
   "source": [
    "### Вывод"
   ]
  },
  {
   "cell_type": "markdown",
   "metadata": {},
   "source": [
    "Были проанализированы изменения концентрации металлов: от флотации и до финального концентрата количество золота увеличивалось, а серебра и свинца уменьшалось (как и должно быть). \n",
    "\n",
    "Для более точной работы модели были исследованы распределения гранул сырья на обучающей и тестовой выборке. Распределения отличаются слабо, поэтому оценка модели будет верна.\n",
    "\n",
    "При суммарной концентрации всех веществ на разных стадиях были замечены суммарные концентрации, равные нулю, чего быть не может, вследствии чего данные объекты были удалены."
   ]
  },
  {
   "cell_type": "markdown",
   "metadata": {},
   "source": [
    "## Модель"
   ]
  },
  {
   "cell_type": "markdown",
   "metadata": {},
   "source": [
    "### Функция для вычисления sMAPE"
   ]
  },
  {
   "attachments": {
    "image.png": {
     "image/png": "[encoded data removed]"
    }
   },
   "cell_type": "markdown",
   "metadata": {},
   "source": [
    "![image.png](attachment:image.png)"
   ]
  },
  {
   "cell_type": "code",
   "execution_count": 26,
   "metadata": {},
   "outputs": [],
   "source": [
    "def smape(target, predictions):\n",
    "    smape_score =  1 / len(target) * (abs(target - predictions) / ((abs(target) + abs(predictions)) / 2)).sum()\n",
    "    return smape_score"
   ]
  },
  {
   "cell_type": "markdown",
   "metadata": {},
   "source": [
    "### Выбор лучшей модели случайного леса"
   ]
  },
  {
   "cell_type": "markdown",
   "metadata": {},
   "source": [
    "Сделаем скорер из нашей функции, определяющей smape:"
   ]
  },
  {
   "cell_type": "code",
   "execution_count": 27,
   "metadata": {},
   "outputs": [],
   "source": [
    "smape_score = make_scorer(smape, greater_is_better=False)"
   ]
  },
  {
   "cell_type": "markdown",
   "metadata": {},
   "source": [
    "Затем с помощью `GridSearchCV` обучим разные модели и оценим их качество кросс-валидацией. "
   ]
  },
  {
   "cell_type": "code",
   "execution_count": 28,
   "metadata": {},
   "outputs": [
    {
     "name": "stdout",
     "output_type": "stream",
     "text": [
      "RandomForestRegressor(max_depth=6, n_estimators=9, random_state=12345)\n"
     ]
    }
   ],
   "source": [
    "model_rougher = RandomForestRegressor(random_state=12345) #модель для целевого признака rougher\n",
    "\n",
    "params = {'n_estimators' : range(1, 10, 1),\n",
    "             'max_depth' : range(1, 10, 1)}\n",
    "\n",
    "grid_rougher = GridSearchCV(model_rougher, params, scoring=smape_score, cv=3)\n",
    "grid_rougher.fit(features_train, target_train_rougher)\n",
    "\n",
    "model_rougher = grid_rougher.best_estimator_\n",
    "\n",
    "print(model_rougher)"
   ]
  },
  {
   "cell_type": "code",
   "execution_count": 29,
   "metadata": {},
   "outputs": [
    {
     "name": "stdout",
     "output_type": "stream",
     "text": [
      "RandomForestRegressor(max_depth=2, n_estimators=9, random_state=12345)\n"
     ]
    }
   ],
   "source": [
    "model_final = RandomForestRegressor(random_state=12345) #модель для целевого признака final\n",
    "\n",
    "grid_final = GridSearchCV(model_rougher, params, scoring=smape_score, cv=3)\n",
    "grid_final.fit(features_train, target_train_final)\n",
    "\n",
    "model_final = grid_final.best_estimator_\n",
    "\n",
    "print(model_final)"
   ]
  },
  {
   "cell_type": "markdown",
   "metadata": {},
   "source": [
    "Теперь можем вычислить итоговое значение sMAPE:"
   ]
  },
  {
   "cell_type": "code",
   "execution_count": 30,
   "metadata": {},
   "outputs": [
    {
     "name": "stdout",
     "output_type": "stream",
     "text": [
      "0.09545264644504686\n"
     ]
    }
   ],
   "source": [
    "rougher_smape = smape(target_train_rougher, model_rougher.predict(features_train))\n",
    "final_smape = smape(target_train_final, model_final.predict(features_train))\n",
    "\n",
    "final_smape_score = 0.25 * rougher_smape + 0.75 * final_smape\n",
    "\n",
    "print(final_smape_score)"
   ]
  },
  {
   "cell_type": "markdown",
   "metadata": {},
   "source": [
    "Для данной модели итоговое sMAPE равно 9.5%."
   ]
  },
  {
   "cell_type": "markdown",
   "metadata": {},
   "source": [
    "### Проверка линейной регрессии по sMAPE"
   ]
  },
  {
   "cell_type": "markdown",
   "metadata": {},
   "source": [
    "Далее с помощью того же скорера и `cross_val_score` исследуем линейную регрессию."
   ]
  },
  {
   "cell_type": "code",
   "execution_count": 31,
   "metadata": {},
   "outputs": [
    {
     "name": "stdout",
     "output_type": "stream",
     "text": [
      "[0.14766462 0.11056422 0.1203485  0.11973153 0.13453272]\n"
     ]
    }
   ],
   "source": [
    "model_reg = LinearRegression()\n",
    "\n",
    "scores_rougher = cross_val_score(model_reg, features_train, target_train_rougher, scoring=smape_score)\n",
    "scores_final = cross_val_score(model_reg, features_train, target_train_final, scoring=smape_score)\n",
    "\n",
    "final_smape_score = (-0.25) * scores_rougher + (-0.75) * scores_final\n",
    "\n",
    "print(final_smape_score)"
   ]
  },
  {
   "cell_type": "markdown",
   "metadata": {},
   "source": [
    "Для любой из обученных с помощью кросс-валидации моделей линейной регрессии итогове sMAPE оказалось хуже, чем для лучшей модели случайного леса: значения итогового sMAPE не ниже 11%. Следовательно, лучшей моделью выбираем лучшую модель случайного леса."
   ]
  },
  {
   "cell_type": "markdown",
   "metadata": {},
   "source": [
    "### Проверка лучшей модели на тестовой выборке"
   ]
  },
  {
   "cell_type": "code",
   "execution_count": 32,
   "metadata": {},
   "outputs": [
    {
     "name": "stdout",
     "output_type": "stream",
     "text": [
      "0.09504521556984935\n"
     ]
    }
   ],
   "source": [
    "best_rougher_score = smape(target_test_rougher, model_rougher.predict(features_test))\n",
    "best_final_score = smape(target_test_final, model_final.predict(features_test))\n",
    "\n",
    "best_smape_score = 0.25 * best_rougher_score + 0.75 * best_final_score\n",
    "\n",
    "print(best_smape_score)"
   ]
  },
  {
   "cell_type": "markdown",
   "metadata": {},
   "source": [
    "### Дамми проверка"
   ]
  },
  {
   "cell_type": "code",
   "execution_count": 33,
   "metadata": {},
   "outputs": [
    {
     "name": "stdout",
     "output_type": "stream",
     "text": [
      "Значение итогового sMAPE для dummy модели регрессии 0.10289630376021036\n"
     ]
    }
   ],
   "source": [
    "dummy_clf = DummyRegressor(strategy='mean')\n",
    "dummy_clf.fit(features_train, target_train_rougher)\n",
    "dummy_rougher_score = smape(target_test_rougher, dummy_clf.predict(features_test))\n",
    "\n",
    "dummy_clf.fit(features_train, target_train_final)\n",
    "dummy_final_score = smape(target_test_final, dummy_clf.predict(features_test))\n",
    "\n",
    "final_dummy_smape = 0.25 * dummy_rougher_score + 0.75 * dummy_final_score\n",
    "\n",
    "print('Значение итогового sMAPE для dummy модели регрессии', final_dummy_smape)"
   ]
  },
  {
   "cell_type": "markdown",
   "metadata": {},
   "source": [
    "### Вывод"
   ]
  },
  {
   "cell_type": "markdown",
   "metadata": {},
   "source": [
    "Функция нахождения sMAPE была сделана скорером, с помощью которого была проведена кросс-валидация моделей случайного леса и линейной регрессии. По значениям итогового sMAPE была выбрана лучшей моделью модель случайного леса. На тестовой выборке данная модель показала значение итогового sMAPE, равное 9.5%. Дамми проверка же показала значение итогового sMAPE, равное 10%."
   ]
  },
  {
   "cell_type": "markdown",
   "metadata": {},
   "source": [
    "## Вывод"
   ]
  },
  {
   "cell_type": "markdown",
   "metadata": {},
   "source": [
    "Данные датафреймов были изучены и подготовлены к работе с моделями. На этапе изучения была проведена проверка эффективности обогащения, которая показала, что эффективность обогащения в данных была высчитана верно. Также было замечено отсутствие данных в некоторых столбцах.\n",
    "\n",
    "При подготовке данных пропущенные значения были заполнены медианами. Отсутствующие в тестовой выборке столбцы были также удалены и из обучающей выборки, а из-за отсутствия в тестовой выборке целевых признаков их необходимо было взять из датафрейма с исходными данными и сравнить объекты по дате. Также понадобилось промасштабировать численные признаки.\n",
    "\n",
    "При анализе данных было установлено, как изменяются концентрации металлов в разных этапах. Концентрация золота увеличивалась, а концентрации серебра и свинца уменьшались. Суммарная концентрация веществ на некоторых этапах была равна нулю, что недопустимо, в связи с чем такие объекты были удалены. \n",
    "\n",
    "Для корректной работы модели было проведено сравнение распределений гранул сырья на обучающей и тестовой выборках. Распределения отличаются слабо, следовательно, оценка модели будет верна.\n",
    "\n",
    "Для выбора лучшей модели были использованы модели случайного леса с перебором параметров и модель линейной регрессии. Для оценки была использована кросс-валидация с функцией sMAPE в качестве скорера. Самый лучший результат показала модель случайного леса — ее значение sMAPE равно 9.5%. При проверке данной модели на тестовой выборке симметричное среднее абсолютное процентное отклонение равно 9.5%, что меньше, чем у дамми модели — 10%."
   ]
  }
 ],
 "metadata": {
  "ExecuteTimeLog": [
   {
    "duration": 4706,
    "start_time": "2022-12-30T15:16:20.791Z"
   },
   {
    "duration": 3889,
    "start_time": "2022-12-30T15:16:25.499Z"
   },
   {
    "duration": 26,
    "start_time": "2022-12-30T15:16:29.389Z"
   },
   {
    "duration": 20,
    "start_time": "2022-12-30T15:16:29.417Z"
   },
   {
    "duration": 23,
    "start_time": "2022-12-30T15:16:29.438Z"
   },
   {
    "duration": 31,
    "start_time": "2022-12-30T15:16:29.463Z"
   },
   {
    "duration": 14,
    "start_time": "2022-12-30T15:16:29.496Z"
   },
   {
    "duration": 21,
    "start_time": "2022-12-30T15:16:29.512Z"
   },
   {
    "duration": 10,
    "start_time": "2022-12-30T15:16:29.535Z"
   },
   {
    "duration": 155,
    "start_time": "2022-12-30T15:16:29.547Z"
   },
   {
    "duration": 4,
    "start_time": "2022-12-30T15:16:29.704Z"
   },
   {
    "duration": 14,
    "start_time": "2022-12-30T15:16:29.710Z"
   },
   {
    "duration": 97,
    "start_time": "2022-12-30T15:16:29.726Z"
   },
   {
    "duration": 28,
    "start_time": "2022-12-30T15:16:35.453Z"
   },
   {
    "duration": 52,
    "start_time": "2022-12-30T16:38:23.489Z"
   },
   {
    "duration": 1637,
    "start_time": "2022-12-30T16:38:32.036Z"
   },
   {
    "duration": 5036,
    "start_time": "2022-12-30T16:38:33.675Z"
   },
   {
    "duration": 25,
    "start_time": "2022-12-30T16:38:38.713Z"
   },
   {
    "duration": 21,
    "start_time": "2022-12-30T16:38:38.739Z"
   },
   {
    "duration": 35,
    "start_time": "2022-12-30T16:38:38.763Z"
   },
   {
    "duration": 30,
    "start_time": "2022-12-30T16:38:38.800Z"
   },
   {
    "duration": 17,
    "start_time": "2022-12-30T16:38:38.832Z"
   },
   {
    "duration": 23,
    "start_time": "2022-12-30T16:38:38.851Z"
   },
   {
    "duration": 8,
    "start_time": "2022-12-30T16:38:38.876Z"
   },
   {
    "duration": 163,
    "start_time": "2022-12-30T16:38:38.885Z"
   },
   {
    "duration": 3,
    "start_time": "2022-12-30T16:38:39.050Z"
   },
   {
    "duration": 23,
    "start_time": "2022-12-30T16:38:39.055Z"
   },
   {
    "duration": 88,
    "start_time": "2022-12-30T16:38:39.079Z"
   },
   {
    "duration": 8,
    "start_time": "2022-12-30T16:38:39.170Z"
   },
   {
    "duration": 30,
    "start_time": "2022-12-30T16:38:39.179Z"
   },
   {
    "duration": 314,
    "start_time": "2022-12-30T16:38:39.211Z"
   },
   {
    "duration": 246,
    "start_time": "2022-12-30T16:38:39.526Z"
   },
   {
    "duration": 263,
    "start_time": "2022-12-30T16:38:39.773Z"
   },
   {
    "duration": 175,
    "start_time": "2022-12-30T16:38:40.038Z"
   },
   {
    "duration": 195,
    "start_time": "2022-12-30T16:38:40.215Z"
   },
   {
    "duration": 8,
    "start_time": "2022-12-30T16:38:40.412Z"
   },
   {
    "duration": 19,
    "start_time": "2022-12-30T16:38:40.422Z"
   },
   {
    "duration": 24,
    "start_time": "2022-12-30T16:38:40.443Z"
   },
   {
    "duration": 3,
    "start_time": "2022-12-30T16:38:40.469Z"
   },
   {
    "duration": 129,
    "start_time": "2022-12-30T16:38:40.474Z"
   },
   {
    "duration": 0,
    "start_time": "2022-12-30T16:38:40.605Z"
   },
   {
    "duration": 0,
    "start_time": "2022-12-30T16:38:40.606Z"
   },
   {
    "duration": 0,
    "start_time": "2022-12-30T16:38:40.607Z"
   },
   {
    "duration": 0,
    "start_time": "2022-12-30T16:38:40.609Z"
   },
   {
    "duration": 0,
    "start_time": "2022-12-30T16:38:40.611Z"
   },
   {
    "duration": 3,
    "start_time": "2022-12-30T16:38:58.516Z"
   },
   {
    "duration": 992,
    "start_time": "2022-12-30T17:11:54.762Z"
   },
   {
    "duration": 97,
    "start_time": "2022-12-30T17:12:32.517Z"
   },
   {
    "duration": 161,
    "start_time": "2022-12-30T17:12:35.884Z"
   },
   {
    "duration": 127,
    "start_time": "2022-12-30T17:12:47.115Z"
   },
   {
    "duration": 167,
    "start_time": "2022-12-30T17:12:52.317Z"
   },
   {
    "duration": 164,
    "start_time": "2022-12-30T17:13:00.944Z"
   },
   {
    "duration": 258,
    "start_time": "2022-12-30T17:16:50.213Z"
   },
   {
    "duration": 390,
    "start_time": "2022-12-30T17:16:54.980Z"
   },
   {
    "duration": 299,
    "start_time": "2022-12-30T17:17:41.079Z"
   },
   {
    "duration": 255,
    "start_time": "2022-12-30T17:17:55.587Z"
   },
   {
    "duration": 323,
    "start_time": "2022-12-30T17:18:02.533Z"
   },
   {
    "duration": 277,
    "start_time": "2022-12-30T17:18:12.898Z"
   },
   {
    "duration": 364,
    "start_time": "2022-12-30T17:18:17.883Z"
   },
   {
    "duration": 310,
    "start_time": "2022-12-30T17:18:23.429Z"
   },
   {
    "duration": 202,
    "start_time": "2022-12-30T17:18:27.860Z"
   },
   {
    "duration": 245,
    "start_time": "2022-12-30T17:19:38.980Z"
   },
   {
    "duration": 394,
    "start_time": "2022-12-30T17:19:45.060Z"
   },
   {
    "duration": 43,
    "start_time": "2022-12-30T17:20:13.397Z"
   },
   {
    "duration": 10,
    "start_time": "2022-12-30T17:20:31.097Z"
   },
   {
    "duration": 4,
    "start_time": "2022-12-30T17:20:40.560Z"
   },
   {
    "duration": 20,
    "start_time": "2022-12-30T17:20:48.570Z"
   },
   {
    "duration": 18,
    "start_time": "2022-12-30T17:21:00.220Z"
   },
   {
    "duration": 296,
    "start_time": "2022-12-30T17:22:03.571Z"
   },
   {
    "duration": 420,
    "start_time": "2022-12-30T17:22:08.763Z"
   },
   {
    "duration": 423,
    "start_time": "2022-12-30T17:23:58.475Z"
   },
   {
    "duration": 189,
    "start_time": "2022-12-30T17:24:15.005Z"
   },
   {
    "duration": 209,
    "start_time": "2022-12-30T17:24:18.863Z"
   },
   {
    "duration": 472,
    "start_time": "2022-12-30T17:24:35.761Z"
   },
   {
    "duration": 351,
    "start_time": "2022-12-30T17:24:39.632Z"
   },
   {
    "duration": 292,
    "start_time": "2022-12-30T17:24:45.158Z"
   },
   {
    "duration": 281,
    "start_time": "2022-12-30T17:24:48.405Z"
   },
   {
    "duration": 330,
    "start_time": "2022-12-30T17:25:10.390Z"
   },
   {
    "duration": 303,
    "start_time": "2022-12-30T17:25:13.861Z"
   },
   {
    "duration": 466,
    "start_time": "2022-12-30T17:25:23.021Z"
   },
   {
    "duration": 320,
    "start_time": "2022-12-30T17:25:25.534Z"
   },
   {
    "duration": 374,
    "start_time": "2022-12-30T17:25:32.271Z"
   },
   {
    "duration": 294,
    "start_time": "2022-12-30T17:25:45.743Z"
   },
   {
    "duration": 292,
    "start_time": "2022-12-30T17:25:50.295Z"
   },
   {
    "duration": 363,
    "start_time": "2022-12-30T17:26:02.295Z"
   },
   {
    "duration": 503,
    "start_time": "2022-12-30T17:26:05.713Z"
   },
   {
    "duration": 325,
    "start_time": "2022-12-30T17:26:10.616Z"
   },
   {
    "duration": 309,
    "start_time": "2022-12-30T17:26:15.503Z"
   },
   {
    "duration": 322,
    "start_time": "2022-12-30T17:26:19.704Z"
   },
   {
    "duration": 307,
    "start_time": "2022-12-30T17:26:25.047Z"
   },
   {
    "duration": 306,
    "start_time": "2022-12-30T17:26:35.891Z"
   },
   {
    "duration": 362,
    "start_time": "2022-12-30T17:26:42.157Z"
   },
   {
    "duration": 306,
    "start_time": "2022-12-30T17:26:49.342Z"
   },
   {
    "duration": 512,
    "start_time": "2022-12-30T17:27:14.136Z"
   },
   {
    "duration": 434,
    "start_time": "2022-12-30T17:27:27.262Z"
   },
   {
    "duration": 443,
    "start_time": "2022-12-30T17:27:39.114Z"
   },
   {
    "duration": 271,
    "start_time": "2022-12-30T17:27:52.855Z"
   },
   {
    "duration": 360,
    "start_time": "2022-12-30T17:27:55.757Z"
   },
   {
    "duration": 581,
    "start_time": "2022-12-30T17:27:59.508Z"
   },
   {
    "duration": 395,
    "start_time": "2022-12-30T17:28:04.142Z"
   },
   {
    "duration": 376,
    "start_time": "2022-12-30T17:28:10.192Z"
   },
   {
    "duration": 220,
    "start_time": "2022-12-30T17:28:33.715Z"
   },
   {
    "duration": 189,
    "start_time": "2022-12-30T17:28:38.063Z"
   },
   {
    "duration": 190,
    "start_time": "2022-12-30T17:28:43.056Z"
   },
   {
    "duration": 3,
    "start_time": "2022-12-30T17:30:18.468Z"
   },
   {
    "duration": 7,
    "start_time": "2022-12-30T17:31:23.836Z"
   },
   {
    "duration": 10,
    "start_time": "2022-12-30T17:33:44.097Z"
   },
   {
    "duration": 9,
    "start_time": "2022-12-30T17:33:55.179Z"
   },
   {
    "duration": 1355,
    "start_time": "2022-12-30T17:34:03.132Z"
   },
   {
    "duration": 3133,
    "start_time": "2022-12-30T17:34:04.490Z"
   },
   {
    "duration": 30,
    "start_time": "2022-12-30T17:34:07.625Z"
   },
   {
    "duration": 41,
    "start_time": "2022-12-30T17:34:07.657Z"
   },
   {
    "duration": 53,
    "start_time": "2022-12-30T17:34:07.700Z"
   },
   {
    "duration": 34,
    "start_time": "2022-12-30T17:34:07.755Z"
   },
   {
    "duration": 17,
    "start_time": "2022-12-30T17:34:07.791Z"
   },
   {
    "duration": 39,
    "start_time": "2022-12-30T17:34:07.810Z"
   },
   {
    "duration": 9,
    "start_time": "2022-12-30T17:34:07.851Z"
   },
   {
    "duration": 147,
    "start_time": "2022-12-30T17:34:07.863Z"
   },
   {
    "duration": 10,
    "start_time": "2022-12-30T17:34:08.012Z"
   },
   {
    "duration": 41,
    "start_time": "2022-12-30T17:34:08.024Z"
   },
   {
    "duration": 94,
    "start_time": "2022-12-30T17:34:08.067Z"
   },
   {
    "duration": 8,
    "start_time": "2022-12-30T17:34:08.163Z"
   },
   {
    "duration": 38,
    "start_time": "2022-12-30T17:34:08.173Z"
   },
   {
    "duration": 515,
    "start_time": "2022-12-30T17:34:08.213Z"
   },
   {
    "duration": 447,
    "start_time": "2022-12-30T17:34:08.730Z"
   },
   {
    "duration": 449,
    "start_time": "2022-12-30T17:34:09.179Z"
   },
   {
    "duration": 348,
    "start_time": "2022-12-30T17:34:09.631Z"
   },
   {
    "duration": 459,
    "start_time": "2022-12-30T17:34:09.981Z"
   },
   {
    "duration": 9,
    "start_time": "2022-12-30T17:34:10.441Z"
   },
   {
    "duration": 232,
    "start_time": "2022-12-30T17:34:10.451Z"
   },
   {
    "duration": 177,
    "start_time": "2022-12-30T17:34:10.685Z"
   },
   {
    "duration": 210,
    "start_time": "2022-12-30T17:34:10.864Z"
   },
   {
    "duration": 24,
    "start_time": "2022-12-30T17:34:11.076Z"
   },
   {
    "duration": 4,
    "start_time": "2022-12-30T17:34:11.103Z"
   },
   {
    "duration": 5,
    "start_time": "2022-12-30T17:34:11.109Z"
   },
   {
    "duration": 415175,
    "start_time": "2022-12-30T17:34:11.135Z"
   },
   {
    "duration": 398186,
    "start_time": "2022-12-30T17:41:06.312Z"
   },
   {
    "duration": 46,
    "start_time": "2022-12-30T17:47:44.499Z"
   },
   {
    "duration": 3093,
    "start_time": "2022-12-30T17:47:44.547Z"
   },
   {
    "duration": 116,
    "start_time": "2022-12-30T17:47:47.643Z"
   },
   {
    "duration": 13,
    "start_time": "2022-12-30T17:47:47.761Z"
   },
   {
    "duration": 2595,
    "start_time": "2022-12-30T17:51:51.746Z"
   },
   {
    "duration": 3,
    "start_time": "2022-12-30T17:56:11.642Z"
   },
   {
    "duration": 3,
    "start_time": "2022-12-30T17:56:14.308Z"
   },
   {
    "duration": 1349,
    "start_time": "2022-12-30T18:04:26.836Z"
   },
   {
    "duration": 2986,
    "start_time": "2022-12-30T18:04:28.188Z"
   },
   {
    "duration": 25,
    "start_time": "2022-12-30T18:04:31.176Z"
   },
   {
    "duration": 59,
    "start_time": "2022-12-30T18:04:31.204Z"
   },
   {
    "duration": 35,
    "start_time": "2022-12-30T18:04:31.264Z"
   },
   {
    "duration": 48,
    "start_time": "2022-12-30T18:04:31.301Z"
   },
   {
    "duration": 13,
    "start_time": "2022-12-30T18:04:31.351Z"
   },
   {
    "duration": 23,
    "start_time": "2022-12-30T18:04:31.366Z"
   },
   {
    "duration": 11,
    "start_time": "2022-12-30T18:04:31.391Z"
   },
   {
    "duration": 142,
    "start_time": "2022-12-30T18:04:31.405Z"
   },
   {
    "duration": 3,
    "start_time": "2022-12-30T18:04:31.549Z"
   },
   {
    "duration": 25,
    "start_time": "2022-12-30T18:04:31.554Z"
   },
   {
    "duration": 100,
    "start_time": "2022-12-30T18:04:31.581Z"
   },
   {
    "duration": 8,
    "start_time": "2022-12-30T18:04:31.683Z"
   },
   {
    "duration": 38,
    "start_time": "2022-12-30T18:04:31.693Z"
   },
   {
    "duration": 509,
    "start_time": "2022-12-30T18:04:31.734Z"
   },
   {
    "duration": 547,
    "start_time": "2022-12-30T18:04:32.245Z"
   },
   {
    "duration": 432,
    "start_time": "2022-12-30T18:04:32.794Z"
   },
   {
    "duration": 307,
    "start_time": "2022-12-30T18:04:33.228Z"
   },
   {
    "duration": 407,
    "start_time": "2022-12-30T18:04:33.537Z"
   },
   {
    "duration": 8,
    "start_time": "2022-12-30T18:04:33.945Z"
   },
   {
    "duration": 229,
    "start_time": "2022-12-30T18:04:33.954Z"
   },
   {
    "duration": 174,
    "start_time": "2022-12-30T18:04:34.185Z"
   },
   {
    "duration": 210,
    "start_time": "2022-12-30T18:04:34.360Z"
   },
   {
    "duration": 22,
    "start_time": "2022-12-30T18:04:34.572Z"
   },
   {
    "duration": 19,
    "start_time": "2022-12-30T18:04:34.596Z"
   },
   {
    "duration": 18,
    "start_time": "2022-12-30T18:04:34.617Z"
   },
   {
    "duration": 397578,
    "start_time": "2022-12-30T18:04:34.640Z"
   },
   {
    "duration": 156270,
    "start_time": "2022-12-30T18:11:12.219Z"
   },
   {
    "duration": 0,
    "start_time": "2022-12-30T18:13:48.492Z"
   },
   {
    "duration": 0,
    "start_time": "2022-12-30T18:13:48.494Z"
   },
   {
    "duration": 0,
    "start_time": "2022-12-30T18:13:48.496Z"
   },
   {
    "duration": 0,
    "start_time": "2022-12-30T18:13:48.498Z"
   },
   {
    "duration": 394991,
    "start_time": "2022-12-30T18:13:48.886Z"
   },
   {
    "duration": 63,
    "start_time": "2022-12-30T18:26:30.154Z"
   },
   {
    "duration": 3,
    "start_time": "2022-12-30T18:29:47.062Z"
   },
   {
    "duration": 3,
    "start_time": "2022-12-30T18:29:48.151Z"
   },
   {
    "duration": 255160,
    "start_time": "2022-12-30T18:29:51.435Z"
   },
   {
    "duration": 0,
    "start_time": "2022-12-30T18:34:06.597Z"
   },
   {
    "duration": 0,
    "start_time": "2022-12-30T18:34:06.599Z"
   },
   {
    "duration": 431224,
    "start_time": "2022-12-30T18:34:10.354Z"
   },
   {
    "duration": 416198,
    "start_time": "2022-12-30T18:41:21.580Z"
   },
   {
    "duration": 44,
    "start_time": "2022-12-30T18:49:06.772Z"
   },
   {
    "duration": 34,
    "start_time": "2022-12-30T18:49:12.876Z"
   },
   {
    "duration": 35,
    "start_time": "2022-12-30T18:49:14.885Z"
   },
   {
    "duration": 3184,
    "start_time": "2022-12-30T18:49:22.761Z"
   },
   {
    "duration": 26,
    "start_time": "2022-12-30T18:49:42.565Z"
   },
   {
    "duration": 21,
    "start_time": "2022-12-30T18:49:50.957Z"
   },
   {
    "duration": 10,
    "start_time": "2022-12-30T18:50:07.415Z"
   },
   {
    "duration": 10,
    "start_time": "2022-12-30T18:51:27.002Z"
   },
   {
    "duration": 4,
    "start_time": "2022-12-30T18:51:34.099Z"
   },
   {
    "duration": 20,
    "start_time": "2022-12-30T18:51:37.229Z"
   },
   {
    "duration": 8,
    "start_time": "2022-12-30T18:53:36.257Z"
   }
  ],
  "kernelspec": {
   "display_name": "Python 3 (ipykernel)",
   "language": "python",
   "name": "python3"
  },
  "language_info": {
   "codemirror_mode": {
    "name": "ipython",
    "version": 3
   },
   "file_extension": ".py",
   "mimetype": "text/x-python",
   "name": "python",
   "nbconvert_exporter": "python",
   "pygments_lexer": "ipython3",
   "version": "3.9.18"
  },
  "toc": {
   "base_numbering": 1,
   "nav_menu": {},
   "number_sections": true,
   "sideBar": true,
   "skip_h1_title": true,
   "title_cell": "Содержание",
   "title_sidebar": "Contents",
   "toc_cell": true,
   "toc_position": {
    "height": "calc(100% - 180px)",
    "left": "10px",
    "top": "150px",
    "width": "709.162px"
   },
   "toc_section_display": true,
   "toc_window_display": true
  }
 },
 "nbformat": 4,
 "nbformat_minor": 4
}
