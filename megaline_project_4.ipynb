{
 "cells": [
  {
   "cell_type": "markdown",
   "id": "cb5492fa",
   "metadata": {},
   "source": [
    "# Определение перспективного тарифа для телеком-компании"
   ]
  },
  {
   "cell_type": "markdown",
   "id": "5b4e62cb",
   "metadata": {},
   "source": [
    "**Заказчик** \n",
    "\n",
    "Комерческий департамент федерального оператора сотовой связи «Мегалайн».\n",
    "\n",
    "\n",
    "**Цель проекта**\n",
    "\n",
    "Предварительный анализ  поведения клиентов, пользующихся тарифными планами \"Смарт\" и \"Ультра\". \n",
    "\n",
    "Необходимо определить, какой тариф прибыльнее с точки зрения компании. Информация будет учтена при корректировке рекламного бюджета. Для ответа на этот вопрос будут проверены две гипотезы:\n",
    "\n",
    "1. средняя выручка пользователей тарифов «Ультра» и «Смарт» различаются;\n",
    "2. средняя выручка пользователей из Москвы отличается от выручки пользователей из других регионов.\n",
    "\n",
    "\n",
    "**Входные данные**\n",
    "\n",
    "Данные 500 пользователей «Мегалайна»: кто они, откуда, каким тарифом пользуются, сколько звонков и сообщений каждый отправил за 2018 год. Файлы `users`, `tariffs`, `calls`, `internet` и `messeges`. \n",
    "\n",
    "\n",
    "**Описание тарифов**\n",
    "\n",
    "*Тариф «Смарт»*\n",
    "\n",
    "1. Ежемесячная плата: 550 рублей\n",
    "2. Включено 500 минут разговора, 50 сообщений и 15 Гб интернет-трафика\n",
    "3. Стоимость услуг сверх тарифного пакета:\n",
    " - минута разговора: 3 рубля\n",
    " - сообщение: 3 рубля\n",
    " - 1 Гб интернет-трафика: 200 рублей\n",
    "\n",
    "*Тариф «Ультра»*\n",
    "\n",
    "1. Ежемесячная плата: 1950 рублей\n",
    "2. Включено 3000 минут разговора, 1000 сообщений и 30 Гб интернет-трафика\n",
    "3. Стоимость услуг сверх тарифного пакета:\n",
    " - минута разговора: 1 рубль\n",
    " - сообщение: 1 рубль\n",
    " - 1 Гб интернет-трафика: 150 рублей\n",
    "\n",
    "*Примечание:*\n",
    "\n",
    "*«Мегалайн» всегда округляет секунды до минут, а мегабайты — до гигабайт. Каждый звонок округляется отдельно: даже если он длился всего 1 секунду, будет засчитан как 1 минута.\n",
    "Для веб-трафика отдельные сессии не считаются. Вместо этого общая сумма за месяц округляется в бо́льшую сторону. Если абонент использует 1025 мегабайт в этом месяце, с него возьмут плату за 2 гигабайта.*\n",
    "\n",
    "\n",
    "**Ход исследования**\n",
    "\n",
    "Исследование пройдёт в пять этапов:\n",
    "\n",
    "*    Обзор данных;\n",
    "*    Предобработка данных;\n",
    "*    Расчеты;\n",
    "*    Анализ данных;\n",
    "*    Проверка гипотез."
   ]
  },
  {
   "cell_type": "markdown",
   "id": "7a34f4b6",
   "metadata": {},
   "source": [
    "## Обзор данных"
   ]
  },
  {
   "cell_type": "code",
   "execution_count": 1,
   "id": "1af0acd8",
   "metadata": {},
   "outputs": [],
   "source": [
    "# импорт библиотек\n",
    "from scipy import stats as st\n",
    "from math import factorial\n",
    "import pandas as pd\n",
    "import numpy as np\n",
    "import matplotlib.pyplot as plt\n",
    "import seaborn as sns\n",
    "\n",
    "import warnings\n",
    "warnings.filterwarnings(action='ignore')"
   ]
  },
  {
   "cell_type": "code",
   "execution_count": 2,
   "id": "84bfdffd",
   "metadata": {},
   "outputs": [],
   "source": [
    "# чтение файла с данными и сохранение в df\n",
    "calls = pd.read_csv('calls.csv')\n",
    "messages = pd.read_csv('messages.csv')\n",
    "internet = pd.read_csv('internet.csv')\n",
    "tariffs = pd.read_csv('tariffs.csv')\n",
    "users = pd.read_csv('users.csv')"
   ]
  },
  {
   "cell_type": "code",
   "execution_count": 3,
   "id": "923a4da2",
   "metadata": {},
   "outputs": [
    {
     "name": "stdout",
     "output_type": "stream",
     "text": [
      "<class 'pandas.core.frame.DataFrame'>\n",
      "RangeIndex: 2 entries, 0 to 1\n",
      "Data columns (total 8 columns):\n",
      " #   Column                 Non-Null Count  Dtype \n",
      "---  ------                 --------------  ----- \n",
      " 0   messages_included      2 non-null      int64 \n",
      " 1   mb_per_month_included  2 non-null      int64 \n",
      " 2   minutes_included       2 non-null      int64 \n",
      " 3   rub_monthly_fee        2 non-null      int64 \n",
      " 4   rub_per_gb             2 non-null      int64 \n",
      " 5   rub_per_message        2 non-null      int64 \n",
      " 6   rub_per_minute         2 non-null      int64 \n",
      " 7   tariff_name            2 non-null      object\n",
      "dtypes: int64(7), object(1)\n",
      "memory usage: 256.0+ bytes\n"
     ]
    },
    {
     "data": {
      "text/html": [
       "<div>\n",
       "<style scoped>\n",
       "    .dataframe tbody tr th:only-of-type {\n",
       "        vertical-align: middle;\n",
       "    }\n",
       "\n",
       "    .dataframe tbody tr th {\n",
       "        vertical-align: top;\n",
       "    }\n",
       "\n",
       "    .dataframe thead th {\n",
       "        text-align: right;\n",
       "    }\n",
       "</style>\n",
       "<table border=\"1\" class=\"dataframe\">\n",
       "  <thead>\n",
       "    <tr style=\"text-align: right;\">\n",
       "      <th></th>\n",
       "      <th>messages_included</th>\n",
       "      <th>mb_per_month_included</th>\n",
       "      <th>minutes_included</th>\n",
       "      <th>rub_monthly_fee</th>\n",
       "      <th>rub_per_gb</th>\n",
       "      <th>rub_per_message</th>\n",
       "      <th>rub_per_minute</th>\n",
       "      <th>tariff_name</th>\n",
       "    </tr>\n",
       "  </thead>\n",
       "  <tbody>\n",
       "    <tr>\n",
       "      <th>0</th>\n",
       "      <td>50</td>\n",
       "      <td>15360</td>\n",
       "      <td>500</td>\n",
       "      <td>550</td>\n",
       "      <td>200</td>\n",
       "      <td>3</td>\n",
       "      <td>3</td>\n",
       "      <td>smart</td>\n",
       "    </tr>\n",
       "    <tr>\n",
       "      <th>1</th>\n",
       "      <td>1000</td>\n",
       "      <td>30720</td>\n",
       "      <td>3000</td>\n",
       "      <td>1950</td>\n",
       "      <td>150</td>\n",
       "      <td>1</td>\n",
       "      <td>1</td>\n",
       "      <td>ultra</td>\n",
       "    </tr>\n",
       "  </tbody>\n",
       "</table>\n",
       "</div>"
      ],
      "text/plain": [
       "   messages_included  mb_per_month_included  minutes_included  \\\n",
       "0                 50                  15360               500   \n",
       "1               1000                  30720              3000   \n",
       "\n",
       "   rub_monthly_fee  rub_per_gb  rub_per_message  rub_per_minute tariff_name  \n",
       "0              550         200                3               3       smart  \n",
       "1             1950         150                1               1       ultra  "
      ]
     },
     "metadata": {},
     "output_type": "display_data"
    }
   ],
   "source": [
    "# обзор датафрейма tariff\n",
    "tariffs.info()\n",
    "display(tariffs)"
   ]
  },
  {
   "cell_type": "markdown",
   "id": "0ad7a974",
   "metadata": {},
   "source": [
    "В таблице восемь столбцов:\n",
    "\n",
    "- `messages_included` - количество включенных в тарифный пакет СМС\n",
    "- `mb_per_month_included` - количество включенных в тарифный пакет Гб интернет-трафика\n",
    "- `minutes_included` - количество включенных в тарифный пакет минут\n",
    "- `rub_monthly_fee` - абоненская плата\n",
    "- `rub_per_gb` - стоимость 1 Гб интернет-трафика сверх тарифного пакета\n",
    "- `rub_per_message` - стоимость 1 СМС сверх тарифного пакета\n",
    "- `rub_per_minute` - стоимость 1 минуты сверх тарифного пакета\n",
    "- `tariff_name` - наименование тарифа"
   ]
  },
  {
   "cell_type": "code",
   "execution_count": 4,
   "id": "ecb0e5ae",
   "metadata": {},
   "outputs": [],
   "source": [
    "# функция для первичного ознакомления с остальными датафреймами\n",
    "def data_info(data):\n",
    "    data.info()\n",
    "    display(data.sample(7))"
   ]
  },
  {
   "cell_type": "code",
   "execution_count": 5,
   "id": "4c9c49b4",
   "metadata": {},
   "outputs": [
    {
     "name": "stdout",
     "output_type": "stream",
     "text": [
      "<class 'pandas.core.frame.DataFrame'>\n",
      "RangeIndex: 202607 entries, 0 to 202606\n",
      "Data columns (total 4 columns):\n",
      " #   Column     Non-Null Count   Dtype  \n",
      "---  ------     --------------   -----  \n",
      " 0   id         202607 non-null  object \n",
      " 1   call_date  202607 non-null  object \n",
      " 2   duration   202607 non-null  float64\n",
      " 3   user_id    202607 non-null  int64  \n",
      "dtypes: float64(1), int64(1), object(2)\n",
      "memory usage: 6.2+ MB\n"
     ]
    },
    {
     "data": {
      "text/html": [
       "<div>\n",
       "<style scoped>\n",
       "    .dataframe tbody tr th:only-of-type {\n",
       "        vertical-align: middle;\n",
       "    }\n",
       "\n",
       "    .dataframe tbody tr th {\n",
       "        vertical-align: top;\n",
       "    }\n",
       "\n",
       "    .dataframe thead th {\n",
       "        text-align: right;\n",
       "    }\n",
       "</style>\n",
       "<table border=\"1\" class=\"dataframe\">\n",
       "  <thead>\n",
       "    <tr style=\"text-align: right;\">\n",
       "      <th></th>\n",
       "      <th>id</th>\n",
       "      <th>call_date</th>\n",
       "      <th>duration</th>\n",
       "      <th>user_id</th>\n",
       "    </tr>\n",
       "  </thead>\n",
       "  <tbody>\n",
       "    <tr>\n",
       "      <th>42506</th>\n",
       "      <td>1104_408</td>\n",
       "      <td>2018-04-01</td>\n",
       "      <td>7.24</td>\n",
       "      <td>1104</td>\n",
       "    </tr>\n",
       "    <tr>\n",
       "      <th>138146</th>\n",
       "      <td>1352_870</td>\n",
       "      <td>2018-08-22</td>\n",
       "      <td>16.46</td>\n",
       "      <td>1352</td>\n",
       "    </tr>\n",
       "    <tr>\n",
       "      <th>96862</th>\n",
       "      <td>1247_185</td>\n",
       "      <td>2018-06-17</td>\n",
       "      <td>0.97</td>\n",
       "      <td>1247</td>\n",
       "    </tr>\n",
       "    <tr>\n",
       "      <th>86031</th>\n",
       "      <td>1216_138</td>\n",
       "      <td>2018-12-11</td>\n",
       "      <td>0.00</td>\n",
       "      <td>1216</td>\n",
       "    </tr>\n",
       "    <tr>\n",
       "      <th>36227</th>\n",
       "      <td>1090_51</td>\n",
       "      <td>2018-10-13</td>\n",
       "      <td>3.32</td>\n",
       "      <td>1090</td>\n",
       "    </tr>\n",
       "    <tr>\n",
       "      <th>39290</th>\n",
       "      <td>1098_118</td>\n",
       "      <td>2018-09-09</td>\n",
       "      <td>0.00</td>\n",
       "      <td>1098</td>\n",
       "    </tr>\n",
       "    <tr>\n",
       "      <th>62888</th>\n",
       "      <td>1158_446</td>\n",
       "      <td>2018-03-05</td>\n",
       "      <td>4.23</td>\n",
       "      <td>1158</td>\n",
       "    </tr>\n",
       "  </tbody>\n",
       "</table>\n",
       "</div>"
      ],
      "text/plain": [
       "              id   call_date  duration  user_id\n",
       "42506   1104_408  2018-04-01      7.24     1104\n",
       "138146  1352_870  2018-08-22     16.46     1352\n",
       "96862   1247_185  2018-06-17      0.97     1247\n",
       "86031   1216_138  2018-12-11      0.00     1216\n",
       "36227    1090_51  2018-10-13      3.32     1090\n",
       "39290   1098_118  2018-09-09      0.00     1098\n",
       "62888   1158_446  2018-03-05      4.23     1158"
      ]
     },
     "metadata": {},
     "output_type": "display_data"
    }
   ],
   "source": [
    "data_info(calls)    # обзор датафрейма calls"
   ]
  },
  {
   "cell_type": "markdown",
   "id": "8c080bbe",
   "metadata": {},
   "source": [
    "В таблице четыре столбца:\n",
    "\n",
    "- `id` - идентификатор звонка\n",
    "- `call_date` - дата звонка\n",
    "- `duration` - продолжительность разговора (в минутах)\n",
    "- `user_id` - уникальный идентификатор пользователя"
   ]
  },
  {
   "cell_type": "code",
   "execution_count": 6,
   "id": "c6b4d071",
   "metadata": {},
   "outputs": [
    {
     "name": "stdout",
     "output_type": "stream",
     "text": [
      "<class 'pandas.core.frame.DataFrame'>\n",
      "RangeIndex: 123036 entries, 0 to 123035\n",
      "Data columns (total 3 columns):\n",
      " #   Column        Non-Null Count   Dtype \n",
      "---  ------        --------------   ----- \n",
      " 0   id            123036 non-null  object\n",
      " 1   message_date  123036 non-null  object\n",
      " 2   user_id       123036 non-null  int64 \n",
      "dtypes: int64(1), object(2)\n",
      "memory usage: 2.8+ MB\n"
     ]
    },
    {
     "data": {
      "text/html": [
       "<div>\n",
       "<style scoped>\n",
       "    .dataframe tbody tr th:only-of-type {\n",
       "        vertical-align: middle;\n",
       "    }\n",
       "\n",
       "    .dataframe tbody tr th {\n",
       "        vertical-align: top;\n",
       "    }\n",
       "\n",
       "    .dataframe thead th {\n",
       "        text-align: right;\n",
       "    }\n",
       "</style>\n",
       "<table border=\"1\" class=\"dataframe\">\n",
       "  <thead>\n",
       "    <tr style=\"text-align: right;\">\n",
       "      <th></th>\n",
       "      <th>id</th>\n",
       "      <th>message_date</th>\n",
       "      <th>user_id</th>\n",
       "    </tr>\n",
       "  </thead>\n",
       "  <tbody>\n",
       "    <tr>\n",
       "      <th>86321</th>\n",
       "      <td>1357_114</td>\n",
       "      <td>2018-11-24</td>\n",
       "      <td>1357</td>\n",
       "    </tr>\n",
       "    <tr>\n",
       "      <th>109866</th>\n",
       "      <td>1441_31</td>\n",
       "      <td>2018-12-26</td>\n",
       "      <td>1441</td>\n",
       "    </tr>\n",
       "    <tr>\n",
       "      <th>71813</th>\n",
       "      <td>1302_641</td>\n",
       "      <td>2018-11-22</td>\n",
       "      <td>1302</td>\n",
       "    </tr>\n",
       "    <tr>\n",
       "      <th>46112</th>\n",
       "      <td>1200_7</td>\n",
       "      <td>2018-05-04</td>\n",
       "      <td>1200</td>\n",
       "    </tr>\n",
       "    <tr>\n",
       "      <th>44634</th>\n",
       "      <td>1196_84</td>\n",
       "      <td>2018-11-24</td>\n",
       "      <td>1196</td>\n",
       "    </tr>\n",
       "    <tr>\n",
       "      <th>12621</th>\n",
       "      <td>1054_177</td>\n",
       "      <td>2018-11-23</td>\n",
       "      <td>1054</td>\n",
       "    </tr>\n",
       "    <tr>\n",
       "      <th>62989</th>\n",
       "      <td>1274_575</td>\n",
       "      <td>2018-05-27</td>\n",
       "      <td>1274</td>\n",
       "    </tr>\n",
       "  </tbody>\n",
       "</table>\n",
       "</div>"
      ],
      "text/plain": [
       "              id message_date  user_id\n",
       "86321   1357_114   2018-11-24     1357\n",
       "109866   1441_31   2018-12-26     1441\n",
       "71813   1302_641   2018-11-22     1302\n",
       "46112     1200_7   2018-05-04     1200\n",
       "44634    1196_84   2018-11-24     1196\n",
       "12621   1054_177   2018-11-23     1054\n",
       "62989   1274_575   2018-05-27     1274"
      ]
     },
     "metadata": {},
     "output_type": "display_data"
    }
   ],
   "source": [
    "data_info(messages)    # обзор датафрейма messages"
   ]
  },
  {
   "cell_type": "markdown",
   "id": "87fcbaaa",
   "metadata": {},
   "source": [
    "В таблице три столбца:\n",
    "\n",
    "- `id` - идентификатор СМС\n",
    "- `message_date` - дата отправки СМС\n",
    "- `user_id` - уникальный идентификатор пользователя"
   ]
  },
  {
   "cell_type": "code",
   "execution_count": 7,
   "id": "1e84a1ac",
   "metadata": {},
   "outputs": [
    {
     "name": "stdout",
     "output_type": "stream",
     "text": [
      "<class 'pandas.core.frame.DataFrame'>\n",
      "RangeIndex: 149396 entries, 0 to 149395\n",
      "Data columns (total 5 columns):\n",
      " #   Column        Non-Null Count   Dtype  \n",
      "---  ------        --------------   -----  \n",
      " 0   Unnamed: 0    149396 non-null  int64  \n",
      " 1   id            149396 non-null  object \n",
      " 2   mb_used       149396 non-null  float64\n",
      " 3   session_date  149396 non-null  object \n",
      " 4   user_id       149396 non-null  int64  \n",
      "dtypes: float64(1), int64(2), object(2)\n",
      "memory usage: 5.7+ MB\n"
     ]
    },
    {
     "data": {
      "text/html": [
       "<div>\n",
       "<style scoped>\n",
       "    .dataframe tbody tr th:only-of-type {\n",
       "        vertical-align: middle;\n",
       "    }\n",
       "\n",
       "    .dataframe tbody tr th {\n",
       "        vertical-align: top;\n",
       "    }\n",
       "\n",
       "    .dataframe thead th {\n",
       "        text-align: right;\n",
       "    }\n",
       "</style>\n",
       "<table border=\"1\" class=\"dataframe\">\n",
       "  <thead>\n",
       "    <tr style=\"text-align: right;\">\n",
       "      <th></th>\n",
       "      <th>Unnamed: 0</th>\n",
       "      <th>id</th>\n",
       "      <th>mb_used</th>\n",
       "      <th>session_date</th>\n",
       "      <th>user_id</th>\n",
       "    </tr>\n",
       "  </thead>\n",
       "  <tbody>\n",
       "    <tr>\n",
       "      <th>74830</th>\n",
       "      <td>74830</td>\n",
       "      <td>1251_392</td>\n",
       "      <td>263.72</td>\n",
       "      <td>2018-11-21</td>\n",
       "      <td>1251</td>\n",
       "    </tr>\n",
       "    <tr>\n",
       "      <th>123695</th>\n",
       "      <td>123695</td>\n",
       "      <td>1415_303</td>\n",
       "      <td>342.44</td>\n",
       "      <td>2018-10-23</td>\n",
       "      <td>1415</td>\n",
       "    </tr>\n",
       "    <tr>\n",
       "      <th>1549</th>\n",
       "      <td>1549</td>\n",
       "      <td>1006_180</td>\n",
       "      <td>593.72</td>\n",
       "      <td>2018-11-19</td>\n",
       "      <td>1006</td>\n",
       "    </tr>\n",
       "    <tr>\n",
       "      <th>80285</th>\n",
       "      <td>80285</td>\n",
       "      <td>1269_297</td>\n",
       "      <td>148.23</td>\n",
       "      <td>2018-11-22</td>\n",
       "      <td>1269</td>\n",
       "    </tr>\n",
       "    <tr>\n",
       "      <th>127445</th>\n",
       "      <td>127445</td>\n",
       "      <td>1427_264</td>\n",
       "      <td>418.29</td>\n",
       "      <td>2018-05-21</td>\n",
       "      <td>1427</td>\n",
       "    </tr>\n",
       "    <tr>\n",
       "      <th>85719</th>\n",
       "      <td>85719</td>\n",
       "      <td>1291_275</td>\n",
       "      <td>508.14</td>\n",
       "      <td>2018-02-18</td>\n",
       "      <td>1291</td>\n",
       "    </tr>\n",
       "    <tr>\n",
       "      <th>45931</th>\n",
       "      <td>45931</td>\n",
       "      <td>1157_443</td>\n",
       "      <td>483.76</td>\n",
       "      <td>2018-07-03</td>\n",
       "      <td>1157</td>\n",
       "    </tr>\n",
       "  </tbody>\n",
       "</table>\n",
       "</div>"
      ],
      "text/plain": [
       "        Unnamed: 0        id  mb_used session_date  user_id\n",
       "74830        74830  1251_392   263.72   2018-11-21     1251\n",
       "123695      123695  1415_303   342.44   2018-10-23     1415\n",
       "1549          1549  1006_180   593.72   2018-11-19     1006\n",
       "80285        80285  1269_297   148.23   2018-11-22     1269\n",
       "127445      127445  1427_264   418.29   2018-05-21     1427\n",
       "85719        85719  1291_275   508.14   2018-02-18     1291\n",
       "45931        45931  1157_443   483.76   2018-07-03     1157"
      ]
     },
     "metadata": {},
     "output_type": "display_data"
    }
   ],
   "source": [
    "data_info(internet)    # обзор датафрейма internet"
   ]
  },
  {
   "cell_type": "markdown",
   "id": "52096743",
   "metadata": {},
   "source": [
    "В таблице пять столбцов:\n",
    "\n",
    "- `id` - идентифиткатор интернет-сессии\n",
    "- `Unnamed: 0` - старые индексы таблицы\n",
    "- `mb_used` - количество интернет-трафика сессии ( в Мб)\n",
    "- `session_date` - дата интернет-сессии\n",
    "- `user_id` - уникальный идентификатор пользователя"
   ]
  },
  {
   "cell_type": "code",
   "execution_count": 8,
   "id": "c13fb8a4",
   "metadata": {},
   "outputs": [
    {
     "name": "stdout",
     "output_type": "stream",
     "text": [
      "<class 'pandas.core.frame.DataFrame'>\n",
      "RangeIndex: 500 entries, 0 to 499\n",
      "Data columns (total 8 columns):\n",
      " #   Column      Non-Null Count  Dtype \n",
      "---  ------      --------------  ----- \n",
      " 0   user_id     500 non-null    int64 \n",
      " 1   age         500 non-null    int64 \n",
      " 2   churn_date  38 non-null     object\n",
      " 3   city        500 non-null    object\n",
      " 4   first_name  500 non-null    object\n",
      " 5   last_name   500 non-null    object\n",
      " 6   reg_date    500 non-null    object\n",
      " 7   tariff      500 non-null    object\n",
      "dtypes: int64(2), object(6)\n",
      "memory usage: 31.4+ KB\n"
     ]
    },
    {
     "data": {
      "text/html": [
       "<div>\n",
       "<style scoped>\n",
       "    .dataframe tbody tr th:only-of-type {\n",
       "        vertical-align: middle;\n",
       "    }\n",
       "\n",
       "    .dataframe tbody tr th {\n",
       "        vertical-align: top;\n",
       "    }\n",
       "\n",
       "    .dataframe thead th {\n",
       "        text-align: right;\n",
       "    }\n",
       "</style>\n",
       "<table border=\"1\" class=\"dataframe\">\n",
       "  <thead>\n",
       "    <tr style=\"text-align: right;\">\n",
       "      <th></th>\n",
       "      <th>user_id</th>\n",
       "      <th>age</th>\n",
       "      <th>churn_date</th>\n",
       "      <th>city</th>\n",
       "      <th>first_name</th>\n",
       "      <th>last_name</th>\n",
       "      <th>reg_date</th>\n",
       "      <th>tariff</th>\n",
       "    </tr>\n",
       "  </thead>\n",
       "  <tbody>\n",
       "    <tr>\n",
       "      <th>456</th>\n",
       "      <td>1456</td>\n",
       "      <td>40</td>\n",
       "      <td>NaN</td>\n",
       "      <td>Санкт-Петербург</td>\n",
       "      <td>Мануэла</td>\n",
       "      <td>Андропова</td>\n",
       "      <td>2018-08-25</td>\n",
       "      <td>smart</td>\n",
       "    </tr>\n",
       "    <tr>\n",
       "      <th>174</th>\n",
       "      <td>1174</td>\n",
       "      <td>29</td>\n",
       "      <td>NaN</td>\n",
       "      <td>Санкт-Петербург</td>\n",
       "      <td>Лолита</td>\n",
       "      <td>Розанова</td>\n",
       "      <td>2018-02-17</td>\n",
       "      <td>smart</td>\n",
       "    </tr>\n",
       "    <tr>\n",
       "      <th>429</th>\n",
       "      <td>1429</td>\n",
       "      <td>54</td>\n",
       "      <td>NaN</td>\n",
       "      <td>Санкт-Петербург</td>\n",
       "      <td>Джулия</td>\n",
       "      <td>Белякова</td>\n",
       "      <td>2018-01-26</td>\n",
       "      <td>smart</td>\n",
       "    </tr>\n",
       "    <tr>\n",
       "      <th>276</th>\n",
       "      <td>1276</td>\n",
       "      <td>30</td>\n",
       "      <td>NaN</td>\n",
       "      <td>Москва</td>\n",
       "      <td>Михаил</td>\n",
       "      <td>Крюков</td>\n",
       "      <td>2018-10-05</td>\n",
       "      <td>ultra</td>\n",
       "    </tr>\n",
       "    <tr>\n",
       "      <th>312</th>\n",
       "      <td>1312</td>\n",
       "      <td>21</td>\n",
       "      <td>NaN</td>\n",
       "      <td>Санкт-Петербург</td>\n",
       "      <td>Тамара</td>\n",
       "      <td>Поликарпова</td>\n",
       "      <td>2018-07-29</td>\n",
       "      <td>smart</td>\n",
       "    </tr>\n",
       "    <tr>\n",
       "      <th>414</th>\n",
       "      <td>1414</td>\n",
       "      <td>70</td>\n",
       "      <td>NaN</td>\n",
       "      <td>Владимир</td>\n",
       "      <td>Александра</td>\n",
       "      <td>Лобанова</td>\n",
       "      <td>2018-05-05</td>\n",
       "      <td>smart</td>\n",
       "    </tr>\n",
       "    <tr>\n",
       "      <th>29</th>\n",
       "      <td>1029</td>\n",
       "      <td>51</td>\n",
       "      <td>NaN</td>\n",
       "      <td>Екатеринбург</td>\n",
       "      <td>Алексей</td>\n",
       "      <td>Селезнев</td>\n",
       "      <td>2018-09-15</td>\n",
       "      <td>smart</td>\n",
       "    </tr>\n",
       "  </tbody>\n",
       "</table>\n",
       "</div>"
      ],
      "text/plain": [
       "     user_id  age churn_date             city  first_name    last_name  \\\n",
       "456     1456   40        NaN  Санкт-Петербург     Мануэла    Андропова   \n",
       "174     1174   29        NaN  Санкт-Петербург      Лолита     Розанова   \n",
       "429     1429   54        NaN  Санкт-Петербург      Джулия     Белякова   \n",
       "276     1276   30        NaN           Москва      Михаил       Крюков   \n",
       "312     1312   21        NaN  Санкт-Петербург      Тамара  Поликарпова   \n",
       "414     1414   70        NaN         Владимир  Александра     Лобанова   \n",
       "29      1029   51        NaN     Екатеринбург     Алексей     Селезнев   \n",
       "\n",
       "       reg_date tariff  \n",
       "456  2018-08-25  smart  \n",
       "174  2018-02-17  smart  \n",
       "429  2018-01-26  smart  \n",
       "276  2018-10-05  ultra  \n",
       "312  2018-07-29  smart  \n",
       "414  2018-05-05  smart  \n",
       "29   2018-09-15  smart  "
      ]
     },
     "metadata": {},
     "output_type": "display_data"
    }
   ],
   "source": [
    "data_info(users)    # обзор датафрейма users"
   ]
  },
  {
   "cell_type": "markdown",
   "id": "f1d15bdd",
   "metadata": {},
   "source": [
    "В таблице восемь столбцов:\n",
    "\n",
    "- `user_id` - уникальный идентификатор пользователя\n",
    "- `age` - возраст пользователя\n",
    "- `reg_date` - дата заключения договора\n",
    "- `churn_date` - дата расторжения договора\n",
    "- `city` - город проживания пользовтеля\n",
    "- `first_name` - имя пользователя\n",
    "- `last_name` - фамилия пользователя\n",
    "- `tariff` - тарифный план"
   ]
  },
  {
   "cell_type": "markdown",
   "id": "bd6256d1",
   "metadata": {},
   "source": [
    "**Выводы**\n",
    "\n",
    "Мы ознакомились со всеми таблицами. Заметно, что тип данных в столбцах не всегда корректный (например, дата с типом `object`), есть столбцы, одинаковые по смыслу, но с разными названиями (`tariff`  и `tariff_name`). Так же нужно проверить данные на наличие дубликатов (например, что таблица с пользователями их не содержит, и `user_id` -  действительно уникальный идентификатор). Хорошо, что в данных нет пропусков (кроме информации о дате окончания действия договора с Оператором).\n",
    "\n",
    "\n",
    "Так же необходимо сгруппировать данные помесячно, перевести интернет-трафик в Гб, а секунды - в минуты, округлив значения согласно примечанию выше.\n",
    "\n",
    "Приступаем к предобработке данных."
   ]
  },
  {
   "cell_type": "markdown",
   "id": "9349e04c",
   "metadata": {},
   "source": [
    "## Предобработка данных"
   ]
  },
  {
   "cell_type": "code",
   "execution_count": 9,
   "id": "36d72a64",
   "metadata": {},
   "outputs": [
    {
     "data": {
      "text/html": [
       "<div>\n",
       "<style scoped>\n",
       "    .dataframe tbody tr th:only-of-type {\n",
       "        vertical-align: middle;\n",
       "    }\n",
       "\n",
       "    .dataframe tbody tr th {\n",
       "        vertical-align: top;\n",
       "    }\n",
       "\n",
       "    .dataframe thead th {\n",
       "        text-align: right;\n",
       "    }\n",
       "</style>\n",
       "<table border=\"1\" class=\"dataframe\">\n",
       "  <thead>\n",
       "    <tr style=\"text-align: right;\">\n",
       "      <th></th>\n",
       "      <th>messages_included</th>\n",
       "      <th>gb_per_month_included</th>\n",
       "      <th>minutes_included</th>\n",
       "      <th>rub_monthly_fee</th>\n",
       "      <th>rub_per_gb</th>\n",
       "      <th>rub_per_message</th>\n",
       "      <th>rub_per_minute</th>\n",
       "      <th>tariff</th>\n",
       "    </tr>\n",
       "  </thead>\n",
       "  <tbody>\n",
       "    <tr>\n",
       "      <th>0</th>\n",
       "      <td>50</td>\n",
       "      <td>15.0</td>\n",
       "      <td>500</td>\n",
       "      <td>550</td>\n",
       "      <td>200</td>\n",
       "      <td>3</td>\n",
       "      <td>3</td>\n",
       "      <td>smart</td>\n",
       "    </tr>\n",
       "    <tr>\n",
       "      <th>1</th>\n",
       "      <td>1000</td>\n",
       "      <td>30.0</td>\n",
       "      <td>3000</td>\n",
       "      <td>1950</td>\n",
       "      <td>150</td>\n",
       "      <td>1</td>\n",
       "      <td>1</td>\n",
       "      <td>ultra</td>\n",
       "    </tr>\n",
       "  </tbody>\n",
       "</table>\n",
       "</div>"
      ],
      "text/plain": [
       "   messages_included  gb_per_month_included  minutes_included  \\\n",
       "0                 50                   15.0               500   \n",
       "1               1000                   30.0              3000   \n",
       "\n",
       "   rub_monthly_fee  rub_per_gb  rub_per_message  rub_per_minute tariff  \n",
       "0              550         200                3               3  smart  \n",
       "1             1950         150                1               1  ultra  "
      ]
     },
     "execution_count": 9,
     "metadata": {},
     "output_type": "execute_result"
    }
   ],
   "source": [
    "tariffs['mb_per_month_included'] = tariffs['mb_per_month_included'] / 1024    # переводим Мб в Гб\n",
    "\n",
    "tariffs = tariffs.rename(columns={'tariff_name': 'tariff',\n",
    "                                 'mb_per_month_included' : 'gb_per_month_included'})\n",
    "tariffs"
   ]
  },
  {
   "cell_type": "markdown",
   "id": "da15e4d9",
   "metadata": {},
   "source": [
    "Столбцы `call_date`, `message_date`, `session_date`,`reg_date` и `churn_date` имееют тип данных `object`, поэтому меняем его на `datetime64`."
   ]
  },
  {
   "cell_type": "code",
   "execution_count": 10,
   "id": "1af61664",
   "metadata": {},
   "outputs": [],
   "source": [
    "def data_type(df, column):\n",
    "    df[column] = pd.to_datetime(df[column], format='%Y-%m-%d')"
   ]
  },
  {
   "cell_type": "code",
   "execution_count": 11,
   "id": "84da92e9",
   "metadata": {},
   "outputs": [],
   "source": [
    "data_type(calls, 'call_date')\n",
    "data_type(messages, 'message_date')\n",
    "data_type(internet, 'session_date')\n",
    "data_type(users, 'reg_date')\n",
    "data_type(users, 'churn_date')"
   ]
  },
  {
   "cell_type": "markdown",
   "id": "f54a3837",
   "metadata": {},
   "source": [
    "Выделяем отдельную колонку с месяцем звонка, СМС и интернет-сесcий в датафреймах."
   ]
  },
  {
   "cell_type": "code",
   "execution_count": 12,
   "id": "9ed831e0",
   "metadata": {},
   "outputs": [],
   "source": [
    "calls['call_month'] = calls['call_date'].dt.month\n",
    "messages['message_month'] = messages['message_date'].dt.month\n",
    "internet['session_month'] = internet['session_date'].dt.month\n",
    "users['reg_date'] = users['reg_date'].dt.month\n",
    "users['churn_date'] = users['churn_date'].dt.month"
   ]
  },
  {
   "cell_type": "markdown",
   "id": "1665727a",
   "metadata": {},
   "source": [
    "*Про месяц: закладываемся на тот факт, что по заданию выборка была за один год. Если бы информация содержала данные за несколько лет, мы бы воспользовались переводом в datetime (метод astype('datetime64[M]'). Он приводит дату к формату первое число - месяц – год.*"
   ]
  },
  {
   "cell_type": "markdown",
   "id": "d6bc2bfa",
   "metadata": {},
   "source": [
    "## Расчеты\n",
    "\n",
    "###  * calls, calls_pivot"
   ]
  },
  {
   "cell_type": "markdown",
   "id": "c68b4796",
   "metadata": {},
   "source": [
    "В данных мы находим звонки с нулевой продолжительностью. Это не ошибка: нулями обозначены пропущенные звонки.\n",
    "\n",
    "\n",
    "Согласно Примечанию, Оператор округляет каждый звонок до минут в бОльшую сторону."
   ]
  },
  {
   "cell_type": "code",
   "execution_count": 13,
   "id": "1c8c6d81",
   "metadata": {},
   "outputs": [],
   "source": [
    "calls['duration'] = np.ceil(calls['duration'])    # округляем каждый звонок в большую сторону"
   ]
  },
  {
   "cell_type": "code",
   "execution_count": 14,
   "id": "b000bada",
   "metadata": {},
   "outputs": [
    {
     "data": {
      "text/html": [
       "<div>\n",
       "<style scoped>\n",
       "    .dataframe tbody tr th:only-of-type {\n",
       "        vertical-align: middle;\n",
       "    }\n",
       "\n",
       "    .dataframe tbody tr th {\n",
       "        vertical-align: top;\n",
       "    }\n",
       "\n",
       "    .dataframe thead th {\n",
       "        text-align: right;\n",
       "    }\n",
       "</style>\n",
       "<table border=\"1\" class=\"dataframe\">\n",
       "  <thead>\n",
       "    <tr style=\"text-align: right;\">\n",
       "      <th></th>\n",
       "      <th>user_id</th>\n",
       "      <th>1</th>\n",
       "      <th>2</th>\n",
       "      <th>3</th>\n",
       "      <th>4</th>\n",
       "      <th>5</th>\n",
       "      <th>6</th>\n",
       "      <th>7</th>\n",
       "      <th>8</th>\n",
       "      <th>9</th>\n",
       "      <th>10</th>\n",
       "      <th>11</th>\n",
       "      <th>12</th>\n",
       "    </tr>\n",
       "  </thead>\n",
       "  <tbody>\n",
       "    <tr>\n",
       "      <th>487</th>\n",
       "      <td>1495</td>\n",
       "      <td>0</td>\n",
       "      <td>0</td>\n",
       "      <td>0</td>\n",
       "      <td>0</td>\n",
       "      <td>0</td>\n",
       "      <td>0</td>\n",
       "      <td>0</td>\n",
       "      <td>92</td>\n",
       "      <td>813</td>\n",
       "      <td>1030</td>\n",
       "      <td>954</td>\n",
       "      <td>1031</td>\n",
       "    </tr>\n",
       "    <tr>\n",
       "      <th>488</th>\n",
       "      <td>1496</td>\n",
       "      <td>48</td>\n",
       "      <td>594</td>\n",
       "      <td>557</td>\n",
       "      <td>521</td>\n",
       "      <td>484</td>\n",
       "      <td>555</td>\n",
       "      <td>582</td>\n",
       "      <td>527</td>\n",
       "      <td>486</td>\n",
       "      <td>450</td>\n",
       "      <td>662</td>\n",
       "      <td>518</td>\n",
       "    </tr>\n",
       "    <tr>\n",
       "      <th>489</th>\n",
       "      <td>1497</td>\n",
       "      <td>0</td>\n",
       "      <td>0</td>\n",
       "      <td>0</td>\n",
       "      <td>0</td>\n",
       "      <td>0</td>\n",
       "      <td>0</td>\n",
       "      <td>0</td>\n",
       "      <td>0</td>\n",
       "      <td>0</td>\n",
       "      <td>490</td>\n",
       "      <td>371</td>\n",
       "      <td>545</td>\n",
       "    </tr>\n",
       "    <tr>\n",
       "      <th>490</th>\n",
       "      <td>1498</td>\n",
       "      <td>0</td>\n",
       "      <td>0</td>\n",
       "      <td>0</td>\n",
       "      <td>0</td>\n",
       "      <td>0</td>\n",
       "      <td>0</td>\n",
       "      <td>175</td>\n",
       "      <td>400</td>\n",
       "      <td>471</td>\n",
       "      <td>247</td>\n",
       "      <td>0</td>\n",
       "      <td>0</td>\n",
       "    </tr>\n",
       "    <tr>\n",
       "      <th>491</th>\n",
       "      <td>1499</td>\n",
       "      <td>0</td>\n",
       "      <td>0</td>\n",
       "      <td>0</td>\n",
       "      <td>0</td>\n",
       "      <td>0</td>\n",
       "      <td>0</td>\n",
       "      <td>0</td>\n",
       "      <td>0</td>\n",
       "      <td>70</td>\n",
       "      <td>449</td>\n",
       "      <td>612</td>\n",
       "      <td>492</td>\n",
       "    </tr>\n",
       "  </tbody>\n",
       "</table>\n",
       "</div>"
      ],
      "text/plain": [
       "     user_id   1    2    3    4    5    6    7    8    9    10   11    12\n",
       "487     1495   0    0    0    0    0    0    0   92  813  1030  954  1031\n",
       "488     1496  48  594  557  521  484  555  582  527  486   450  662   518\n",
       "489     1497   0    0    0    0    0    0    0    0    0   490  371   545\n",
       "490     1498   0    0    0    0    0    0  175  400  471   247    0     0\n",
       "491     1499   0    0    0    0    0    0    0    0   70   449  612   492"
      ]
     },
     "execution_count": 14,
     "metadata": {},
     "output_type": "execute_result"
    }
   ],
   "source": [
    "calls_pivot = calls.pivot_table(\n",
    "    index = 'user_id', \n",
    "    columns = 'call_month', \n",
    "    values = 'duration',\n",
    "    aggfunc = 'sum',\n",
    "    fill_value = 0).reset_index().rename_axis(None, axis=1) \n",
    "\n",
    "calls_pivot.tail(5)"
   ]
  },
  {
   "cell_type": "markdown",
   "id": "a777c268",
   "metadata": {},
   "source": [
    "Так же отдельным фреймом сделаем еще одну сводную таблицу - по количеству звонков."
   ]
  },
  {
   "cell_type": "code",
   "execution_count": 15,
   "id": "b31440e7",
   "metadata": {},
   "outputs": [
    {
     "data": {
      "text/html": [
       "<div>\n",
       "<style scoped>\n",
       "    .dataframe tbody tr th:only-of-type {\n",
       "        vertical-align: middle;\n",
       "    }\n",
       "\n",
       "    .dataframe tbody tr th {\n",
       "        vertical-align: top;\n",
       "    }\n",
       "\n",
       "    .dataframe thead th {\n",
       "        text-align: right;\n",
       "    }\n",
       "</style>\n",
       "<table border=\"1\" class=\"dataframe\">\n",
       "  <thead>\n",
       "    <tr style=\"text-align: right;\">\n",
       "      <th></th>\n",
       "      <th>user_id</th>\n",
       "      <th>1</th>\n",
       "      <th>2</th>\n",
       "      <th>3</th>\n",
       "      <th>4</th>\n",
       "      <th>5</th>\n",
       "      <th>6</th>\n",
       "      <th>7</th>\n",
       "      <th>8</th>\n",
       "      <th>9</th>\n",
       "      <th>10</th>\n",
       "      <th>11</th>\n",
       "      <th>12</th>\n",
       "    </tr>\n",
       "  </thead>\n",
       "  <tbody>\n",
       "    <tr>\n",
       "      <th>487</th>\n",
       "      <td>1495</td>\n",
       "      <td>0</td>\n",
       "      <td>0</td>\n",
       "      <td>0</td>\n",
       "      <td>0</td>\n",
       "      <td>0</td>\n",
       "      <td>0</td>\n",
       "      <td>0</td>\n",
       "      <td>17</td>\n",
       "      <td>112</td>\n",
       "      <td>152</td>\n",
       "      <td>129</td>\n",
       "      <td>155</td>\n",
       "    </tr>\n",
       "    <tr>\n",
       "      <th>488</th>\n",
       "      <td>1496</td>\n",
       "      <td>7</td>\n",
       "      <td>77</td>\n",
       "      <td>79</td>\n",
       "      <td>67</td>\n",
       "      <td>63</td>\n",
       "      <td>74</td>\n",
       "      <td>73</td>\n",
       "      <td>88</td>\n",
       "      <td>68</td>\n",
       "      <td>72</td>\n",
       "      <td>80</td>\n",
       "      <td>80</td>\n",
       "    </tr>\n",
       "    <tr>\n",
       "      <th>489</th>\n",
       "      <td>1497</td>\n",
       "      <td>0</td>\n",
       "      <td>0</td>\n",
       "      <td>0</td>\n",
       "      <td>0</td>\n",
       "      <td>0</td>\n",
       "      <td>0</td>\n",
       "      <td>0</td>\n",
       "      <td>0</td>\n",
       "      <td>0</td>\n",
       "      <td>66</td>\n",
       "      <td>64</td>\n",
       "      <td>71</td>\n",
       "    </tr>\n",
       "    <tr>\n",
       "      <th>490</th>\n",
       "      <td>1498</td>\n",
       "      <td>0</td>\n",
       "      <td>0</td>\n",
       "      <td>0</td>\n",
       "      <td>0</td>\n",
       "      <td>0</td>\n",
       "      <td>0</td>\n",
       "      <td>23</td>\n",
       "      <td>57</td>\n",
       "      <td>59</td>\n",
       "      <td>41</td>\n",
       "      <td>0</td>\n",
       "      <td>0</td>\n",
       "    </tr>\n",
       "    <tr>\n",
       "      <th>491</th>\n",
       "      <td>1499</td>\n",
       "      <td>0</td>\n",
       "      <td>0</td>\n",
       "      <td>0</td>\n",
       "      <td>0</td>\n",
       "      <td>0</td>\n",
       "      <td>0</td>\n",
       "      <td>0</td>\n",
       "      <td>0</td>\n",
       "      <td>9</td>\n",
       "      <td>68</td>\n",
       "      <td>74</td>\n",
       "      <td>69</td>\n",
       "    </tr>\n",
       "  </tbody>\n",
       "</table>\n",
       "</div>"
      ],
      "text/plain": [
       "     user_id  1   2   3   4   5   6   7   8    9   10   11   12\n",
       "487     1495  0   0   0   0   0   0   0  17  112  152  129  155\n",
       "488     1496  7  77  79  67  63  74  73  88   68   72   80   80\n",
       "489     1497  0   0   0   0   0   0   0   0    0   66   64   71\n",
       "490     1498  0   0   0   0   0   0  23  57   59   41    0    0\n",
       "491     1499  0   0   0   0   0   0   0   0    9   68   74   69"
      ]
     },
     "execution_count": 15,
     "metadata": {},
     "output_type": "execute_result"
    }
   ],
   "source": [
    "calls_count_pivot = calls.pivot_table(\n",
    "    index = 'user_id', \n",
    "    columns = 'call_month', \n",
    "    values = 'duration',\n",
    "    aggfunc = 'count',\n",
    "    fill_value = 0).reset_index().rename_axis(None, axis=1)\n",
    "\n",
    "calls_count_pivot.tail(5)"
   ]
  },
  {
   "cell_type": "markdown",
   "id": "86e95aa1",
   "metadata": {},
   "source": [
    "### * messages, messages_pivot"
   ]
  },
  {
   "cell_type": "code",
   "execution_count": 16,
   "id": "2be18cef",
   "metadata": {},
   "outputs": [
    {
     "data": {
      "text/html": [
       "<div>\n",
       "<style scoped>\n",
       "    .dataframe tbody tr th:only-of-type {\n",
       "        vertical-align: middle;\n",
       "    }\n",
       "\n",
       "    .dataframe tbody tr th {\n",
       "        vertical-align: top;\n",
       "    }\n",
       "\n",
       "    .dataframe thead th {\n",
       "        text-align: right;\n",
       "    }\n",
       "</style>\n",
       "<table border=\"1\" class=\"dataframe\">\n",
       "  <thead>\n",
       "    <tr style=\"text-align: right;\">\n",
       "      <th></th>\n",
       "      <th>user_id</th>\n",
       "      <th>1</th>\n",
       "      <th>2</th>\n",
       "      <th>3</th>\n",
       "      <th>4</th>\n",
       "      <th>5</th>\n",
       "      <th>6</th>\n",
       "      <th>7</th>\n",
       "      <th>8</th>\n",
       "      <th>9</th>\n",
       "      <th>10</th>\n",
       "      <th>11</th>\n",
       "      <th>12</th>\n",
       "    </tr>\n",
       "  </thead>\n",
       "  <tbody>\n",
       "    <tr>\n",
       "      <th>421</th>\n",
       "      <td>1495</td>\n",
       "      <td>0</td>\n",
       "      <td>0</td>\n",
       "      <td>0</td>\n",
       "      <td>0</td>\n",
       "      <td>0</td>\n",
       "      <td>0</td>\n",
       "      <td>0</td>\n",
       "      <td>13</td>\n",
       "      <td>82</td>\n",
       "      <td>82</td>\n",
       "      <td>79</td>\n",
       "      <td>84</td>\n",
       "    </tr>\n",
       "    <tr>\n",
       "      <th>422</th>\n",
       "      <td>1496</td>\n",
       "      <td>9</td>\n",
       "      <td>45</td>\n",
       "      <td>46</td>\n",
       "      <td>49</td>\n",
       "      <td>40</td>\n",
       "      <td>35</td>\n",
       "      <td>42</td>\n",
       "      <td>41</td>\n",
       "      <td>29</td>\n",
       "      <td>35</td>\n",
       "      <td>46</td>\n",
       "      <td>51</td>\n",
       "    </tr>\n",
       "    <tr>\n",
       "      <th>423</th>\n",
       "      <td>1497</td>\n",
       "      <td>0</td>\n",
       "      <td>0</td>\n",
       "      <td>0</td>\n",
       "      <td>0</td>\n",
       "      <td>0</td>\n",
       "      <td>0</td>\n",
       "      <td>0</td>\n",
       "      <td>0</td>\n",
       "      <td>0</td>\n",
       "      <td>20</td>\n",
       "      <td>14</td>\n",
       "      <td>17</td>\n",
       "    </tr>\n",
       "    <tr>\n",
       "      <th>424</th>\n",
       "      <td>1498</td>\n",
       "      <td>0</td>\n",
       "      <td>0</td>\n",
       "      <td>0</td>\n",
       "      <td>0</td>\n",
       "      <td>0</td>\n",
       "      <td>0</td>\n",
       "      <td>20</td>\n",
       "      <td>62</td>\n",
       "      <td>44</td>\n",
       "      <td>42</td>\n",
       "      <td>0</td>\n",
       "      <td>0</td>\n",
       "    </tr>\n",
       "    <tr>\n",
       "      <th>425</th>\n",
       "      <td>1499</td>\n",
       "      <td>0</td>\n",
       "      <td>0</td>\n",
       "      <td>0</td>\n",
       "      <td>0</td>\n",
       "      <td>0</td>\n",
       "      <td>0</td>\n",
       "      <td>0</td>\n",
       "      <td>0</td>\n",
       "      <td>11</td>\n",
       "      <td>48</td>\n",
       "      <td>59</td>\n",
       "      <td>66</td>\n",
       "    </tr>\n",
       "  </tbody>\n",
       "</table>\n",
       "</div>"
      ],
      "text/plain": [
       "     user_id  1   2   3   4   5   6   7   8   9  10  11  12\n",
       "421     1495  0   0   0   0   0   0   0  13  82  82  79  84\n",
       "422     1496  9  45  46  49  40  35  42  41  29  35  46  51\n",
       "423     1497  0   0   0   0   0   0   0   0   0  20  14  17\n",
       "424     1498  0   0   0   0   0   0  20  62  44  42   0   0\n",
       "425     1499  0   0   0   0   0   0   0   0  11  48  59  66"
      ]
     },
     "execution_count": 16,
     "metadata": {},
     "output_type": "execute_result"
    }
   ],
   "source": [
    "messages_pivot = messages.pivot_table(\n",
    "    index = 'user_id', \n",
    "    columns = 'message_month', \n",
    "    values = 'id',\n",
    "    aggfunc = 'count',\n",
    "    fill_value = 0).reset_index().rename_axis(None, axis=1)\n",
    "\n",
    "messages_pivot.tail(5)"
   ]
  },
  {
   "cell_type": "markdown",
   "id": "a1a4c55b",
   "metadata": {},
   "source": [
    "### * internet, internet_pivot"
   ]
  },
  {
   "cell_type": "markdown",
   "id": "dde610b6",
   "metadata": {},
   "source": [
    "Для веб-трафика отдельные сессии не считаются. Вместо этого общая сумма за месяц округляется в бо́льшую сторону. Если абонент использует 1025 мегабайт в этом месяце, с него возьмут плату за 2 гигабайта.\n",
    "\n",
    "Сделаем сводную таблицу по месяцам, а затем округлим значение интернет-трафика в бо́льшую сторону."
   ]
  },
  {
   "cell_type": "code",
   "execution_count": 17,
   "id": "0427f2fc",
   "metadata": {},
   "outputs": [
    {
     "data": {
      "text/html": [
       "<div>\n",
       "<style scoped>\n",
       "    .dataframe tbody tr th:only-of-type {\n",
       "        vertical-align: middle;\n",
       "    }\n",
       "\n",
       "    .dataframe tbody tr th {\n",
       "        vertical-align: top;\n",
       "    }\n",
       "\n",
       "    .dataframe thead th {\n",
       "        text-align: right;\n",
       "    }\n",
       "</style>\n",
       "<table border=\"1\" class=\"dataframe\">\n",
       "  <thead>\n",
       "    <tr style=\"text-align: right;\">\n",
       "      <th></th>\n",
       "      <th>user_id</th>\n",
       "      <th>1</th>\n",
       "      <th>2</th>\n",
       "      <th>3</th>\n",
       "      <th>4</th>\n",
       "      <th>5</th>\n",
       "      <th>6</th>\n",
       "      <th>7</th>\n",
       "      <th>8</th>\n",
       "      <th>9</th>\n",
       "      <th>10</th>\n",
       "      <th>11</th>\n",
       "      <th>12</th>\n",
       "    </tr>\n",
       "  </thead>\n",
       "  <tbody>\n",
       "    <tr>\n",
       "      <th>492</th>\n",
       "      <td>1495</td>\n",
       "      <td>0.0</td>\n",
       "      <td>0.0</td>\n",
       "      <td>0.0</td>\n",
       "      <td>0.0</td>\n",
       "      <td>0.0</td>\n",
       "      <td>0.0</td>\n",
       "      <td>0.0</td>\n",
       "      <td>3.0</td>\n",
       "      <td>33.0</td>\n",
       "      <td>29.0</td>\n",
       "      <td>39.0</td>\n",
       "      <td>23.0</td>\n",
       "    </tr>\n",
       "    <tr>\n",
       "      <th>493</th>\n",
       "      <td>1496</td>\n",
       "      <td>4.0</td>\n",
       "      <td>28.0</td>\n",
       "      <td>25.0</td>\n",
       "      <td>21.0</td>\n",
       "      <td>24.0</td>\n",
       "      <td>20.0</td>\n",
       "      <td>24.0</td>\n",
       "      <td>23.0</td>\n",
       "      <td>27.0</td>\n",
       "      <td>28.0</td>\n",
       "      <td>25.0</td>\n",
       "      <td>21.0</td>\n",
       "    </tr>\n",
       "    <tr>\n",
       "      <th>494</th>\n",
       "      <td>1497</td>\n",
       "      <td>0.0</td>\n",
       "      <td>0.0</td>\n",
       "      <td>0.0</td>\n",
       "      <td>0.0</td>\n",
       "      <td>0.0</td>\n",
       "      <td>0.0</td>\n",
       "      <td>0.0</td>\n",
       "      <td>0.0</td>\n",
       "      <td>0.0</td>\n",
       "      <td>12.0</td>\n",
       "      <td>14.0</td>\n",
       "      <td>20.0</td>\n",
       "    </tr>\n",
       "    <tr>\n",
       "      <th>495</th>\n",
       "      <td>1498</td>\n",
       "      <td>0.0</td>\n",
       "      <td>0.0</td>\n",
       "      <td>0.0</td>\n",
       "      <td>0.0</td>\n",
       "      <td>0.0</td>\n",
       "      <td>0.0</td>\n",
       "      <td>8.0</td>\n",
       "      <td>24.0</td>\n",
       "      <td>22.0</td>\n",
       "      <td>21.0</td>\n",
       "      <td>0.0</td>\n",
       "      <td>0.0</td>\n",
       "    </tr>\n",
       "    <tr>\n",
       "      <th>496</th>\n",
       "      <td>1499</td>\n",
       "      <td>0.0</td>\n",
       "      <td>0.0</td>\n",
       "      <td>0.0</td>\n",
       "      <td>0.0</td>\n",
       "      <td>0.0</td>\n",
       "      <td>0.0</td>\n",
       "      <td>0.0</td>\n",
       "      <td>0.0</td>\n",
       "      <td>2.0</td>\n",
       "      <td>18.0</td>\n",
       "      <td>18.0</td>\n",
       "      <td>13.0</td>\n",
       "    </tr>\n",
       "  </tbody>\n",
       "</table>\n",
       "</div>"
      ],
      "text/plain": [
       "     user_id    1     2     3     4     5     6     7     8     9    10    11  \\\n",
       "492     1495  0.0   0.0   0.0   0.0   0.0   0.0   0.0   3.0  33.0  29.0  39.0   \n",
       "493     1496  4.0  28.0  25.0  21.0  24.0  20.0  24.0  23.0  27.0  28.0  25.0   \n",
       "494     1497  0.0   0.0   0.0   0.0   0.0   0.0   0.0   0.0   0.0  12.0  14.0   \n",
       "495     1498  0.0   0.0   0.0   0.0   0.0   0.0   8.0  24.0  22.0  21.0   0.0   \n",
       "496     1499  0.0   0.0   0.0   0.0   0.0   0.0   0.0   0.0   2.0  18.0  18.0   \n",
       "\n",
       "       12  \n",
       "492  23.0  \n",
       "493  21.0  \n",
       "494  20.0  \n",
       "495   0.0  \n",
       "496  13.0  "
      ]
     },
     "execution_count": 17,
     "metadata": {},
     "output_type": "execute_result"
    }
   ],
   "source": [
    "internet_pivot = internet.pivot_table(\n",
    "    index = 'user_id', \n",
    "    columns = 'session_month', \n",
    "    values = 'mb_used',\n",
    "    aggfunc = 'sum',\n",
    "    fill_value = 0).reset_index().rename_axis(None, axis=1)\n",
    "\n",
    "for i in range(1, 13):\n",
    "    internet_pivot[i] /= 1024\n",
    "    internet_pivot[i] = np.ceil(internet_pivot[i])\n",
    "    \n",
    "internet_pivot.tail(5)"
   ]
  },
  {
   "cell_type": "markdown",
   "id": "5e2de3ad",
   "metadata": {},
   "source": [
    "### * users"
   ]
  },
  {
   "cell_type": "markdown",
   "id": "c6815f86",
   "metadata": {},
   "source": [
    "Проверим, что в датафрейме нет явных дубликатов."
   ]
  },
  {
   "cell_type": "code",
   "execution_count": 18,
   "id": "0cc5037b",
   "metadata": {},
   "outputs": [
    {
     "data": {
      "text/plain": [
       "0"
      ]
     },
     "execution_count": 18,
     "metadata": {},
     "output_type": "execute_result"
    }
   ],
   "source": [
    "users.duplicated().sum()"
   ]
  },
  {
   "cell_type": "markdown",
   "id": "1a196021",
   "metadata": {},
   "source": [
    "Подсчитаем, сколько пользователей у каждого из тарифов:"
   ]
  },
  {
   "cell_type": "code",
   "execution_count": 19,
   "id": "63095e5c",
   "metadata": {},
   "outputs": [
    {
     "data": {
      "text/plain": [
       "tariff\n",
       "smart    351\n",
       "ultra    149\n",
       "Name: tariff, dtype: int64"
      ]
     },
     "execution_count": 19,
     "metadata": {},
     "output_type": "execute_result"
    }
   ],
   "source": [
    "users.groupby('tariff')['tariff'].count()"
   ]
  },
  {
   "cell_type": "markdown",
   "id": "a5fc7d62",
   "metadata": {},
   "source": [
    "### * помесячная выручка"
   ]
  },
  {
   "cell_type": "markdown",
   "id": "4f87cbe6",
   "metadata": {},
   "source": [
    "Сделаем отдельную таблицу `users_dict`, которая будет содержать только id пользователей и их тарифный план и объединим ее с таблицей `tariffs`."
   ]
  },
  {
   "cell_type": "code",
   "execution_count": 20,
   "id": "05ec0d94",
   "metadata": {},
   "outputs": [
    {
     "data": {
      "text/html": [
       "<div>\n",
       "<style scoped>\n",
       "    .dataframe tbody tr th:only-of-type {\n",
       "        vertical-align: middle;\n",
       "    }\n",
       "\n",
       "    .dataframe tbody tr th {\n",
       "        vertical-align: top;\n",
       "    }\n",
       "\n",
       "    .dataframe thead th {\n",
       "        text-align: right;\n",
       "    }\n",
       "</style>\n",
       "<table border=\"1\" class=\"dataframe\">\n",
       "  <thead>\n",
       "    <tr style=\"text-align: right;\">\n",
       "      <th></th>\n",
       "      <th>user_id</th>\n",
       "      <th>tariff</th>\n",
       "      <th>reg_date</th>\n",
       "      <th>churn_date</th>\n",
       "      <th>messages_included</th>\n",
       "      <th>gb_per_month_included</th>\n",
       "      <th>minutes_included</th>\n",
       "      <th>rub_monthly_fee</th>\n",
       "      <th>rub_per_gb</th>\n",
       "      <th>rub_per_message</th>\n",
       "      <th>rub_per_minute</th>\n",
       "    </tr>\n",
       "  </thead>\n",
       "  <tbody>\n",
       "    <tr>\n",
       "      <th>497</th>\n",
       "      <td>1497</td>\n",
       "      <td>smart</td>\n",
       "      <td>10</td>\n",
       "      <td>12</td>\n",
       "      <td>50</td>\n",
       "      <td>15.0</td>\n",
       "      <td>500</td>\n",
       "      <td>550</td>\n",
       "      <td>200</td>\n",
       "      <td>3</td>\n",
       "      <td>3</td>\n",
       "    </tr>\n",
       "    <tr>\n",
       "      <th>498</th>\n",
       "      <td>1498</td>\n",
       "      <td>smart</td>\n",
       "      <td>7</td>\n",
       "      <td>10</td>\n",
       "      <td>50</td>\n",
       "      <td>15.0</td>\n",
       "      <td>500</td>\n",
       "      <td>550</td>\n",
       "      <td>200</td>\n",
       "      <td>3</td>\n",
       "      <td>3</td>\n",
       "    </tr>\n",
       "    <tr>\n",
       "      <th>499</th>\n",
       "      <td>1499</td>\n",
       "      <td>smart</td>\n",
       "      <td>9</td>\n",
       "      <td>12</td>\n",
       "      <td>50</td>\n",
       "      <td>15.0</td>\n",
       "      <td>500</td>\n",
       "      <td>550</td>\n",
       "      <td>200</td>\n",
       "      <td>3</td>\n",
       "      <td>3</td>\n",
       "    </tr>\n",
       "  </tbody>\n",
       "</table>\n",
       "</div>"
      ],
      "text/plain": [
       "     user_id tariff  reg_date  churn_date  messages_included  \\\n",
       "497     1497  smart        10          12                 50   \n",
       "498     1498  smart         7          10                 50   \n",
       "499     1499  smart         9          12                 50   \n",
       "\n",
       "     gb_per_month_included  minutes_included  rub_monthly_fee  rub_per_gb  \\\n",
       "497                   15.0               500              550         200   \n",
       "498                   15.0               500              550         200   \n",
       "499                   15.0               500              550         200   \n",
       "\n",
       "     rub_per_message  rub_per_minute  \n",
       "497                3               3  \n",
       "498                3               3  \n",
       "499                3               3  "
      ]
     },
     "execution_count": 20,
     "metadata": {},
     "output_type": "execute_result"
    }
   ],
   "source": [
    "users_dict = users[['user_id','tariff', 'reg_date', 'churn_date']]\n",
    "users_dict['churn_date'] = users_dict['churn_date'].fillna(12).astype('int')\n",
    "\n",
    "users_tariffs_dict = users_dict.merge(tariffs, on='tariff', how='left')\n",
    "users_tariffs_dict.tail(3)"
   ]
  },
  {
   "cell_type": "markdown",
   "id": "e55a41c1",
   "metadata": {},
   "source": [
    "Далее, объединим новую таблицу со сводами по звонкам, сообщениям и интернет-трафику, пропуски заменим нулями. Посчитаем, сколько платных услуг было оказано в их разрезе по месяцам: вычтем бесплатный лимит из суммарного количества звонков, сообщений и интернет-трафика; остаток умножим на значение из тарифного плана; также, прибавим абонентскую плату, соответствующую тарифному плану, к одной из таблиц)."
   ]
  },
  {
   "cell_type": "code",
   "execution_count": 21,
   "id": "0411a4da",
   "metadata": {},
   "outputs": [
    {
     "data": {
      "text/html": [
       "<div>\n",
       "<style scoped>\n",
       "    .dataframe tbody tr th:only-of-type {\n",
       "        vertical-align: middle;\n",
       "    }\n",
       "\n",
       "    .dataframe tbody tr th {\n",
       "        vertical-align: top;\n",
       "    }\n",
       "\n",
       "    .dataframe thead th {\n",
       "        text-align: right;\n",
       "    }\n",
       "</style>\n",
       "<table border=\"1\" class=\"dataframe\">\n",
       "  <thead>\n",
       "    <tr style=\"text-align: right;\">\n",
       "      <th></th>\n",
       "      <th>user_id</th>\n",
       "      <th>1</th>\n",
       "      <th>2</th>\n",
       "      <th>3</th>\n",
       "      <th>4</th>\n",
       "      <th>5</th>\n",
       "      <th>6</th>\n",
       "      <th>7</th>\n",
       "      <th>8</th>\n",
       "      <th>9</th>\n",
       "      <th>...</th>\n",
       "      <th>tariff</th>\n",
       "      <th>reg_date</th>\n",
       "      <th>churn_date</th>\n",
       "      <th>messages_included</th>\n",
       "      <th>gb_per_month_included</th>\n",
       "      <th>minutes_included</th>\n",
       "      <th>rub_monthly_fee</th>\n",
       "      <th>rub_per_gb</th>\n",
       "      <th>rub_per_message</th>\n",
       "      <th>rub_per_minute</th>\n",
       "    </tr>\n",
       "  </thead>\n",
       "  <tbody>\n",
       "    <tr>\n",
       "      <th>495</th>\n",
       "      <td>1495</td>\n",
       "      <td>0.0</td>\n",
       "      <td>0.0</td>\n",
       "      <td>0.0</td>\n",
       "      <td>0.0</td>\n",
       "      <td>0.0</td>\n",
       "      <td>0.0</td>\n",
       "      <td>0.0</td>\n",
       "      <td>92.0</td>\n",
       "      <td>813.0</td>\n",
       "      <td>...</td>\n",
       "      <td>ultra</td>\n",
       "      <td>8</td>\n",
       "      <td>12</td>\n",
       "      <td>1000</td>\n",
       "      <td>30.0</td>\n",
       "      <td>3000</td>\n",
       "      <td>1950</td>\n",
       "      <td>150</td>\n",
       "      <td>1</td>\n",
       "      <td>1</td>\n",
       "    </tr>\n",
       "    <tr>\n",
       "      <th>496</th>\n",
       "      <td>1496</td>\n",
       "      <td>48.0</td>\n",
       "      <td>594.0</td>\n",
       "      <td>557.0</td>\n",
       "      <td>521.0</td>\n",
       "      <td>484.0</td>\n",
       "      <td>555.0</td>\n",
       "      <td>582.0</td>\n",
       "      <td>527.0</td>\n",
       "      <td>486.0</td>\n",
       "      <td>...</td>\n",
       "      <td>smart</td>\n",
       "      <td>1</td>\n",
       "      <td>12</td>\n",
       "      <td>50</td>\n",
       "      <td>15.0</td>\n",
       "      <td>500</td>\n",
       "      <td>550</td>\n",
       "      <td>200</td>\n",
       "      <td>3</td>\n",
       "      <td>3</td>\n",
       "    </tr>\n",
       "    <tr>\n",
       "      <th>497</th>\n",
       "      <td>1497</td>\n",
       "      <td>0.0</td>\n",
       "      <td>0.0</td>\n",
       "      <td>0.0</td>\n",
       "      <td>0.0</td>\n",
       "      <td>0.0</td>\n",
       "      <td>0.0</td>\n",
       "      <td>0.0</td>\n",
       "      <td>0.0</td>\n",
       "      <td>0.0</td>\n",
       "      <td>...</td>\n",
       "      <td>smart</td>\n",
       "      <td>10</td>\n",
       "      <td>12</td>\n",
       "      <td>50</td>\n",
       "      <td>15.0</td>\n",
       "      <td>500</td>\n",
       "      <td>550</td>\n",
       "      <td>200</td>\n",
       "      <td>3</td>\n",
       "      <td>3</td>\n",
       "    </tr>\n",
       "    <tr>\n",
       "      <th>498</th>\n",
       "      <td>1498</td>\n",
       "      <td>0.0</td>\n",
       "      <td>0.0</td>\n",
       "      <td>0.0</td>\n",
       "      <td>0.0</td>\n",
       "      <td>0.0</td>\n",
       "      <td>0.0</td>\n",
       "      <td>175.0</td>\n",
       "      <td>400.0</td>\n",
       "      <td>471.0</td>\n",
       "      <td>...</td>\n",
       "      <td>smart</td>\n",
       "      <td>7</td>\n",
       "      <td>10</td>\n",
       "      <td>50</td>\n",
       "      <td>15.0</td>\n",
       "      <td>500</td>\n",
       "      <td>550</td>\n",
       "      <td>200</td>\n",
       "      <td>3</td>\n",
       "      <td>3</td>\n",
       "    </tr>\n",
       "    <tr>\n",
       "      <th>499</th>\n",
       "      <td>1499</td>\n",
       "      <td>0.0</td>\n",
       "      <td>0.0</td>\n",
       "      <td>0.0</td>\n",
       "      <td>0.0</td>\n",
       "      <td>0.0</td>\n",
       "      <td>0.0</td>\n",
       "      <td>0.0</td>\n",
       "      <td>0.0</td>\n",
       "      <td>70.0</td>\n",
       "      <td>...</td>\n",
       "      <td>smart</td>\n",
       "      <td>9</td>\n",
       "      <td>12</td>\n",
       "      <td>50</td>\n",
       "      <td>15.0</td>\n",
       "      <td>500</td>\n",
       "      <td>550</td>\n",
       "      <td>200</td>\n",
       "      <td>3</td>\n",
       "      <td>3</td>\n",
       "    </tr>\n",
       "  </tbody>\n",
       "</table>\n",
       "<p>5 rows × 23 columns</p>\n",
       "</div>"
      ],
      "text/plain": [
       "     user_id     1      2      3      4      5      6      7      8      9  \\\n",
       "495     1495   0.0    0.0    0.0    0.0    0.0    0.0    0.0   92.0  813.0   \n",
       "496     1496  48.0  594.0  557.0  521.0  484.0  555.0  582.0  527.0  486.0   \n",
       "497     1497   0.0    0.0    0.0    0.0    0.0    0.0    0.0    0.0    0.0   \n",
       "498     1498   0.0    0.0    0.0    0.0    0.0    0.0  175.0  400.0  471.0   \n",
       "499     1499   0.0    0.0    0.0    0.0    0.0    0.0    0.0    0.0   70.0   \n",
       "\n",
       "     ...  tariff  reg_date  churn_date messages_included  \\\n",
       "495  ...   ultra         8          12              1000   \n",
       "496  ...   smart         1          12                50   \n",
       "497  ...   smart        10          12                50   \n",
       "498  ...   smart         7          10                50   \n",
       "499  ...   smart         9          12                50   \n",
       "\n",
       "     gb_per_month_included  minutes_included  rub_monthly_fee  rub_per_gb  \\\n",
       "495                   30.0              3000             1950         150   \n",
       "496                   15.0               500              550         200   \n",
       "497                   15.0               500              550         200   \n",
       "498                   15.0               500              550         200   \n",
       "499                   15.0               500              550         200   \n",
       "\n",
       "     rub_per_message  rub_per_minute  \n",
       "495                1               1  \n",
       "496                3               3  \n",
       "497                3               3  \n",
       "498                3               3  \n",
       "499                3               3  \n",
       "\n",
       "[5 rows x 23 columns]"
      ]
     },
     "execution_count": 21,
     "metadata": {},
     "output_type": "execute_result"
    }
   ],
   "source": [
    "calls_data = calls_pivot.merge(users_tariffs_dict, on='user_id', how='right').fillna(0)\n",
    "calls_data.tail(5)"
   ]
  },
  {
   "cell_type": "code",
   "execution_count": 22,
   "id": "0f0b0a8e",
   "metadata": {},
   "outputs": [
    {
     "data": {
      "text/html": [
       "<div>\n",
       "<style scoped>\n",
       "    .dataframe tbody tr th:only-of-type {\n",
       "        vertical-align: middle;\n",
       "    }\n",
       "\n",
       "    .dataframe tbody tr th {\n",
       "        vertical-align: top;\n",
       "    }\n",
       "\n",
       "    .dataframe thead th {\n",
       "        text-align: right;\n",
       "    }\n",
       "</style>\n",
       "<table border=\"1\" class=\"dataframe\">\n",
       "  <thead>\n",
       "    <tr style=\"text-align: right;\">\n",
       "      <th></th>\n",
       "      <th>user_id</th>\n",
       "      <th>1</th>\n",
       "      <th>2</th>\n",
       "      <th>3</th>\n",
       "      <th>4</th>\n",
       "      <th>5</th>\n",
       "      <th>6</th>\n",
       "      <th>7</th>\n",
       "      <th>8</th>\n",
       "      <th>9</th>\n",
       "      <th>...</th>\n",
       "      <th>tariff</th>\n",
       "      <th>reg_date</th>\n",
       "      <th>churn_date</th>\n",
       "      <th>messages_included</th>\n",
       "      <th>gb_per_month_included</th>\n",
       "      <th>minutes_included</th>\n",
       "      <th>rub_monthly_fee</th>\n",
       "      <th>rub_per_gb</th>\n",
       "      <th>rub_per_message</th>\n",
       "      <th>rub_per_minute</th>\n",
       "    </tr>\n",
       "  </thead>\n",
       "  <tbody>\n",
       "    <tr>\n",
       "      <th>495</th>\n",
       "      <td>1495</td>\n",
       "      <td>0.0</td>\n",
       "      <td>0.0</td>\n",
       "      <td>0.0</td>\n",
       "      <td>0.0</td>\n",
       "      <td>0.0</td>\n",
       "      <td>0.0</td>\n",
       "      <td>0.0</td>\n",
       "      <td>1950.0</td>\n",
       "      <td>1950.0</td>\n",
       "      <td>...</td>\n",
       "      <td>ultra</td>\n",
       "      <td>8</td>\n",
       "      <td>12</td>\n",
       "      <td>1000</td>\n",
       "      <td>30.0</td>\n",
       "      <td>3000</td>\n",
       "      <td>1950</td>\n",
       "      <td>150</td>\n",
       "      <td>1</td>\n",
       "      <td>1</td>\n",
       "    </tr>\n",
       "    <tr>\n",
       "      <th>496</th>\n",
       "      <td>1496</td>\n",
       "      <td>550.0</td>\n",
       "      <td>832.0</td>\n",
       "      <td>721.0</td>\n",
       "      <td>613.0</td>\n",
       "      <td>550.0</td>\n",
       "      <td>715.0</td>\n",
       "      <td>796.0</td>\n",
       "      <td>631.0</td>\n",
       "      <td>550.0</td>\n",
       "      <td>...</td>\n",
       "      <td>smart</td>\n",
       "      <td>1</td>\n",
       "      <td>12</td>\n",
       "      <td>50</td>\n",
       "      <td>15.0</td>\n",
       "      <td>500</td>\n",
       "      <td>550</td>\n",
       "      <td>200</td>\n",
       "      <td>3</td>\n",
       "      <td>3</td>\n",
       "    </tr>\n",
       "    <tr>\n",
       "      <th>497</th>\n",
       "      <td>1497</td>\n",
       "      <td>0.0</td>\n",
       "      <td>0.0</td>\n",
       "      <td>0.0</td>\n",
       "      <td>0.0</td>\n",
       "      <td>0.0</td>\n",
       "      <td>0.0</td>\n",
       "      <td>0.0</td>\n",
       "      <td>0.0</td>\n",
       "      <td>0.0</td>\n",
       "      <td>...</td>\n",
       "      <td>smart</td>\n",
       "      <td>10</td>\n",
       "      <td>12</td>\n",
       "      <td>50</td>\n",
       "      <td>15.0</td>\n",
       "      <td>500</td>\n",
       "      <td>550</td>\n",
       "      <td>200</td>\n",
       "      <td>3</td>\n",
       "      <td>3</td>\n",
       "    </tr>\n",
       "    <tr>\n",
       "      <th>498</th>\n",
       "      <td>1498</td>\n",
       "      <td>0.0</td>\n",
       "      <td>0.0</td>\n",
       "      <td>0.0</td>\n",
       "      <td>0.0</td>\n",
       "      <td>0.0</td>\n",
       "      <td>0.0</td>\n",
       "      <td>550.0</td>\n",
       "      <td>550.0</td>\n",
       "      <td>550.0</td>\n",
       "      <td>...</td>\n",
       "      <td>smart</td>\n",
       "      <td>7</td>\n",
       "      <td>10</td>\n",
       "      <td>50</td>\n",
       "      <td>15.0</td>\n",
       "      <td>500</td>\n",
       "      <td>550</td>\n",
       "      <td>200</td>\n",
       "      <td>3</td>\n",
       "      <td>3</td>\n",
       "    </tr>\n",
       "    <tr>\n",
       "      <th>499</th>\n",
       "      <td>1499</td>\n",
       "      <td>0.0</td>\n",
       "      <td>0.0</td>\n",
       "      <td>0.0</td>\n",
       "      <td>0.0</td>\n",
       "      <td>0.0</td>\n",
       "      <td>0.0</td>\n",
       "      <td>0.0</td>\n",
       "      <td>0.0</td>\n",
       "      <td>550.0</td>\n",
       "      <td>...</td>\n",
       "      <td>smart</td>\n",
       "      <td>9</td>\n",
       "      <td>12</td>\n",
       "      <td>50</td>\n",
       "      <td>15.0</td>\n",
       "      <td>500</td>\n",
       "      <td>550</td>\n",
       "      <td>200</td>\n",
       "      <td>3</td>\n",
       "      <td>3</td>\n",
       "    </tr>\n",
       "  </tbody>\n",
       "</table>\n",
       "<p>5 rows × 23 columns</p>\n",
       "</div>"
      ],
      "text/plain": [
       "     user_id      1      2      3      4      5      6      7       8       9  \\\n",
       "495     1495    0.0    0.0    0.0    0.0    0.0    0.0    0.0  1950.0  1950.0   \n",
       "496     1496  550.0  832.0  721.0  613.0  550.0  715.0  796.0   631.0   550.0   \n",
       "497     1497    0.0    0.0    0.0    0.0    0.0    0.0    0.0     0.0     0.0   \n",
       "498     1498    0.0    0.0    0.0    0.0    0.0    0.0  550.0   550.0   550.0   \n",
       "499     1499    0.0    0.0    0.0    0.0    0.0    0.0    0.0     0.0   550.0   \n",
       "\n",
       "     ...  tariff  reg_date  churn_date messages_included  \\\n",
       "495  ...   ultra         8          12              1000   \n",
       "496  ...   smart         1          12                50   \n",
       "497  ...   smart        10          12                50   \n",
       "498  ...   smart         7          10                50   \n",
       "499  ...   smart         9          12                50   \n",
       "\n",
       "     gb_per_month_included  minutes_included  rub_monthly_fee  rub_per_gb  \\\n",
       "495                   30.0              3000             1950         150   \n",
       "496                   15.0               500              550         200   \n",
       "497                   15.0               500              550         200   \n",
       "498                   15.0               500              550         200   \n",
       "499                   15.0               500              550         200   \n",
       "\n",
       "     rub_per_message  rub_per_minute  \n",
       "495                1               1  \n",
       "496                3               3  \n",
       "497                3               3  \n",
       "498                3               3  \n",
       "499                3               3  \n",
       "\n",
       "[5 rows x 23 columns]"
      ]
     },
     "execution_count": 22,
     "metadata": {},
     "output_type": "execute_result"
    }
   ],
   "source": [
    "for i in range(1, 13):\n",
    "    calls_data[i] -= calls_data['minutes_included']\n",
    "    calls_data.loc[calls_data[i] < 0, i] = 0\n",
    "    calls_data[i] *= calls_data['rub_per_minute']\n",
    "\n",
    "# добавляем абонентскую плату    \n",
    "for i in range(1, 13):\n",
    "    for j in range(0, len(calls_data)):\n",
    "        if i >= calls_data.iloc[j,14] and i <= calls_data.iloc[j,15]:\n",
    "            calls_data.iloc[j,i] += calls_data.iloc[j, 19]\n",
    "    \n",
    "calls_data.tail(5)"
   ]
  },
  {
   "cell_type": "code",
   "execution_count": 23,
   "id": "02626626",
   "metadata": {},
   "outputs": [
    {
     "data": {
      "text/plain": [
       "36403.0"
      ]
     },
     "execution_count": 23,
     "metadata": {},
     "output_type": "execute_result"
    }
   ],
   "source": [
    "calls_data[1].sum()    # проверка: общая сумма за звонки + абонентская плата"
   ]
  },
  {
   "cell_type": "code",
   "execution_count": 24,
   "id": "f47a116f",
   "metadata": {},
   "outputs": [
    {
     "data": {
      "text/html": [
       "<div>\n",
       "<style scoped>\n",
       "    .dataframe tbody tr th:only-of-type {\n",
       "        vertical-align: middle;\n",
       "    }\n",
       "\n",
       "    .dataframe tbody tr th {\n",
       "        vertical-align: top;\n",
       "    }\n",
       "\n",
       "    .dataframe thead th {\n",
       "        text-align: right;\n",
       "    }\n",
       "</style>\n",
       "<table border=\"1\" class=\"dataframe\">\n",
       "  <thead>\n",
       "    <tr style=\"text-align: right;\">\n",
       "      <th></th>\n",
       "      <th>user_id</th>\n",
       "      <th>1</th>\n",
       "      <th>2</th>\n",
       "      <th>3</th>\n",
       "      <th>4</th>\n",
       "      <th>5</th>\n",
       "      <th>6</th>\n",
       "      <th>7</th>\n",
       "      <th>8</th>\n",
       "      <th>9</th>\n",
       "      <th>10</th>\n",
       "      <th>11</th>\n",
       "      <th>12</th>\n",
       "      <th>tariff</th>\n",
       "    </tr>\n",
       "  </thead>\n",
       "  <tbody>\n",
       "    <tr>\n",
       "      <th>495</th>\n",
       "      <td>1495</td>\n",
       "      <td>0.0</td>\n",
       "      <td>0.0</td>\n",
       "      <td>0.0</td>\n",
       "      <td>0.0</td>\n",
       "      <td>0.0</td>\n",
       "      <td>0.0</td>\n",
       "      <td>0.0</td>\n",
       "      <td>1950.0</td>\n",
       "      <td>1950.0</td>\n",
       "      <td>1950.0</td>\n",
       "      <td>1950.0</td>\n",
       "      <td>1950.0</td>\n",
       "      <td>ultra</td>\n",
       "    </tr>\n",
       "    <tr>\n",
       "      <th>496</th>\n",
       "      <td>1496</td>\n",
       "      <td>550.0</td>\n",
       "      <td>832.0</td>\n",
       "      <td>721.0</td>\n",
       "      <td>613.0</td>\n",
       "      <td>550.0</td>\n",
       "      <td>715.0</td>\n",
       "      <td>796.0</td>\n",
       "      <td>631.0</td>\n",
       "      <td>550.0</td>\n",
       "      <td>550.0</td>\n",
       "      <td>1036.0</td>\n",
       "      <td>604.0</td>\n",
       "      <td>smart</td>\n",
       "    </tr>\n",
       "    <tr>\n",
       "      <th>497</th>\n",
       "      <td>1497</td>\n",
       "      <td>0.0</td>\n",
       "      <td>0.0</td>\n",
       "      <td>0.0</td>\n",
       "      <td>0.0</td>\n",
       "      <td>0.0</td>\n",
       "      <td>0.0</td>\n",
       "      <td>0.0</td>\n",
       "      <td>0.0</td>\n",
       "      <td>0.0</td>\n",
       "      <td>550.0</td>\n",
       "      <td>550.0</td>\n",
       "      <td>685.0</td>\n",
       "      <td>smart</td>\n",
       "    </tr>\n",
       "    <tr>\n",
       "      <th>498</th>\n",
       "      <td>1498</td>\n",
       "      <td>0.0</td>\n",
       "      <td>0.0</td>\n",
       "      <td>0.0</td>\n",
       "      <td>0.0</td>\n",
       "      <td>0.0</td>\n",
       "      <td>0.0</td>\n",
       "      <td>550.0</td>\n",
       "      <td>550.0</td>\n",
       "      <td>550.0</td>\n",
       "      <td>550.0</td>\n",
       "      <td>0.0</td>\n",
       "      <td>0.0</td>\n",
       "      <td>smart</td>\n",
       "    </tr>\n",
       "    <tr>\n",
       "      <th>499</th>\n",
       "      <td>1499</td>\n",
       "      <td>0.0</td>\n",
       "      <td>0.0</td>\n",
       "      <td>0.0</td>\n",
       "      <td>0.0</td>\n",
       "      <td>0.0</td>\n",
       "      <td>0.0</td>\n",
       "      <td>0.0</td>\n",
       "      <td>0.0</td>\n",
       "      <td>550.0</td>\n",
       "      <td>550.0</td>\n",
       "      <td>886.0</td>\n",
       "      <td>550.0</td>\n",
       "      <td>smart</td>\n",
       "    </tr>\n",
       "  </tbody>\n",
       "</table>\n",
       "</div>"
      ],
      "text/plain": [
       "     user_id      1      2      3      4      5      6      7       8       9  \\\n",
       "495     1495    0.0    0.0    0.0    0.0    0.0    0.0    0.0  1950.0  1950.0   \n",
       "496     1496  550.0  832.0  721.0  613.0  550.0  715.0  796.0   631.0   550.0   \n",
       "497     1497    0.0    0.0    0.0    0.0    0.0    0.0    0.0     0.0     0.0   \n",
       "498     1498    0.0    0.0    0.0    0.0    0.0    0.0  550.0   550.0   550.0   \n",
       "499     1499    0.0    0.0    0.0    0.0    0.0    0.0    0.0     0.0   550.0   \n",
       "\n",
       "         10      11      12 tariff  \n",
       "495  1950.0  1950.0  1950.0  ultra  \n",
       "496   550.0  1036.0   604.0  smart  \n",
       "497   550.0   550.0   685.0  smart  \n",
       "498   550.0     0.0     0.0  smart  \n",
       "499   550.0   886.0   550.0  smart  "
      ]
     },
     "execution_count": 24,
     "metadata": {},
     "output_type": "execute_result"
    }
   ],
   "source": [
    "calls_data = calls_data.drop(columns = ['messages_included', 'gb_per_month_included', 'minutes_included', 'rub_monthly_fee',\n",
    "                             'rub_per_gb', 'rub_per_message', 'rub_per_minute', 'reg_date', 'churn_date'], axis=1)\n",
    "calls_data.tail(5)"
   ]
  },
  {
   "cell_type": "code",
   "execution_count": 25,
   "id": "fd4d87ba",
   "metadata": {},
   "outputs": [
    {
     "data": {
      "text/html": [
       "<div>\n",
       "<style scoped>\n",
       "    .dataframe tbody tr th:only-of-type {\n",
       "        vertical-align: middle;\n",
       "    }\n",
       "\n",
       "    .dataframe tbody tr th {\n",
       "        vertical-align: top;\n",
       "    }\n",
       "\n",
       "    .dataframe thead th {\n",
       "        text-align: right;\n",
       "    }\n",
       "</style>\n",
       "<table border=\"1\" class=\"dataframe\">\n",
       "  <thead>\n",
       "    <tr style=\"text-align: right;\">\n",
       "      <th></th>\n",
       "      <th>user_id</th>\n",
       "      <th>1</th>\n",
       "      <th>2</th>\n",
       "      <th>3</th>\n",
       "      <th>4</th>\n",
       "      <th>5</th>\n",
       "      <th>6</th>\n",
       "      <th>7</th>\n",
       "      <th>8</th>\n",
       "      <th>9</th>\n",
       "      <th>...</th>\n",
       "      <th>tariff</th>\n",
       "      <th>reg_date</th>\n",
       "      <th>churn_date</th>\n",
       "      <th>messages_included</th>\n",
       "      <th>gb_per_month_included</th>\n",
       "      <th>minutes_included</th>\n",
       "      <th>rub_monthly_fee</th>\n",
       "      <th>rub_per_gb</th>\n",
       "      <th>rub_per_message</th>\n",
       "      <th>rub_per_minute</th>\n",
       "    </tr>\n",
       "  </thead>\n",
       "  <tbody>\n",
       "    <tr>\n",
       "      <th>497</th>\n",
       "      <td>1497</td>\n",
       "      <td>0.0</td>\n",
       "      <td>0.0</td>\n",
       "      <td>0.0</td>\n",
       "      <td>0.0</td>\n",
       "      <td>0.0</td>\n",
       "      <td>0.0</td>\n",
       "      <td>0.0</td>\n",
       "      <td>0.0</td>\n",
       "      <td>0.0</td>\n",
       "      <td>...</td>\n",
       "      <td>smart</td>\n",
       "      <td>10</td>\n",
       "      <td>12</td>\n",
       "      <td>50</td>\n",
       "      <td>15.0</td>\n",
       "      <td>500</td>\n",
       "      <td>550</td>\n",
       "      <td>200</td>\n",
       "      <td>3</td>\n",
       "      <td>3</td>\n",
       "    </tr>\n",
       "    <tr>\n",
       "      <th>498</th>\n",
       "      <td>1498</td>\n",
       "      <td>0.0</td>\n",
       "      <td>0.0</td>\n",
       "      <td>0.0</td>\n",
       "      <td>0.0</td>\n",
       "      <td>0.0</td>\n",
       "      <td>0.0</td>\n",
       "      <td>20.0</td>\n",
       "      <td>62.0</td>\n",
       "      <td>44.0</td>\n",
       "      <td>...</td>\n",
       "      <td>smart</td>\n",
       "      <td>7</td>\n",
       "      <td>10</td>\n",
       "      <td>50</td>\n",
       "      <td>15.0</td>\n",
       "      <td>500</td>\n",
       "      <td>550</td>\n",
       "      <td>200</td>\n",
       "      <td>3</td>\n",
       "      <td>3</td>\n",
       "    </tr>\n",
       "    <tr>\n",
       "      <th>499</th>\n",
       "      <td>1499</td>\n",
       "      <td>0.0</td>\n",
       "      <td>0.0</td>\n",
       "      <td>0.0</td>\n",
       "      <td>0.0</td>\n",
       "      <td>0.0</td>\n",
       "      <td>0.0</td>\n",
       "      <td>0.0</td>\n",
       "      <td>0.0</td>\n",
       "      <td>11.0</td>\n",
       "      <td>...</td>\n",
       "      <td>smart</td>\n",
       "      <td>9</td>\n",
       "      <td>12</td>\n",
       "      <td>50</td>\n",
       "      <td>15.0</td>\n",
       "      <td>500</td>\n",
       "      <td>550</td>\n",
       "      <td>200</td>\n",
       "      <td>3</td>\n",
       "      <td>3</td>\n",
       "    </tr>\n",
       "  </tbody>\n",
       "</table>\n",
       "<p>3 rows × 23 columns</p>\n",
       "</div>"
      ],
      "text/plain": [
       "     user_id    1    2    3    4    5    6     7     8     9  ...  tariff  \\\n",
       "497     1497  0.0  0.0  0.0  0.0  0.0  0.0   0.0   0.0   0.0  ...   smart   \n",
       "498     1498  0.0  0.0  0.0  0.0  0.0  0.0  20.0  62.0  44.0  ...   smart   \n",
       "499     1499  0.0  0.0  0.0  0.0  0.0  0.0   0.0   0.0  11.0  ...   smart   \n",
       "\n",
       "     reg_date  churn_date messages_included  gb_per_month_included  \\\n",
       "497        10          12                50                   15.0   \n",
       "498         7          10                50                   15.0   \n",
       "499         9          12                50                   15.0   \n",
       "\n",
       "     minutes_included  rub_monthly_fee  rub_per_gb  rub_per_message  \\\n",
       "497               500              550         200                3   \n",
       "498               500              550         200                3   \n",
       "499               500              550         200                3   \n",
       "\n",
       "     rub_per_minute  \n",
       "497               3  \n",
       "498               3  \n",
       "499               3  \n",
       "\n",
       "[3 rows x 23 columns]"
      ]
     },
     "execution_count": 25,
     "metadata": {},
     "output_type": "execute_result"
    }
   ],
   "source": [
    "messages_data = messages_pivot.merge(users_tariffs_dict, on='user_id', how='right').fillna(0)\n",
    "messages_data.tail(3)"
   ]
  },
  {
   "cell_type": "code",
   "execution_count": 26,
   "id": "0fcf4ed5",
   "metadata": {},
   "outputs": [
    {
     "data": {
      "text/html": [
       "<div>\n",
       "<style scoped>\n",
       "    .dataframe tbody tr th:only-of-type {\n",
       "        vertical-align: middle;\n",
       "    }\n",
       "\n",
       "    .dataframe tbody tr th {\n",
       "        vertical-align: top;\n",
       "    }\n",
       "\n",
       "    .dataframe thead th {\n",
       "        text-align: right;\n",
       "    }\n",
       "</style>\n",
       "<table border=\"1\" class=\"dataframe\">\n",
       "  <thead>\n",
       "    <tr style=\"text-align: right;\">\n",
       "      <th></th>\n",
       "      <th>user_id</th>\n",
       "      <th>1</th>\n",
       "      <th>2</th>\n",
       "      <th>3</th>\n",
       "      <th>4</th>\n",
       "      <th>5</th>\n",
       "      <th>6</th>\n",
       "      <th>7</th>\n",
       "      <th>8</th>\n",
       "      <th>9</th>\n",
       "      <th>10</th>\n",
       "      <th>11</th>\n",
       "      <th>12</th>\n",
       "      <th>tariff</th>\n",
       "    </tr>\n",
       "  </thead>\n",
       "  <tbody>\n",
       "    <tr>\n",
       "      <th>495</th>\n",
       "      <td>1495</td>\n",
       "      <td>0.0</td>\n",
       "      <td>0.0</td>\n",
       "      <td>0.0</td>\n",
       "      <td>0.0</td>\n",
       "      <td>0.0</td>\n",
       "      <td>0.0</td>\n",
       "      <td>0.0</td>\n",
       "      <td>0.0</td>\n",
       "      <td>0.0</td>\n",
       "      <td>0.0</td>\n",
       "      <td>0.0</td>\n",
       "      <td>0.0</td>\n",
       "      <td>ultra</td>\n",
       "    </tr>\n",
       "    <tr>\n",
       "      <th>496</th>\n",
       "      <td>1496</td>\n",
       "      <td>0.0</td>\n",
       "      <td>0.0</td>\n",
       "      <td>0.0</td>\n",
       "      <td>0.0</td>\n",
       "      <td>0.0</td>\n",
       "      <td>0.0</td>\n",
       "      <td>0.0</td>\n",
       "      <td>0.0</td>\n",
       "      <td>0.0</td>\n",
       "      <td>0.0</td>\n",
       "      <td>0.0</td>\n",
       "      <td>3.0</td>\n",
       "      <td>smart</td>\n",
       "    </tr>\n",
       "    <tr>\n",
       "      <th>497</th>\n",
       "      <td>1497</td>\n",
       "      <td>0.0</td>\n",
       "      <td>0.0</td>\n",
       "      <td>0.0</td>\n",
       "      <td>0.0</td>\n",
       "      <td>0.0</td>\n",
       "      <td>0.0</td>\n",
       "      <td>0.0</td>\n",
       "      <td>0.0</td>\n",
       "      <td>0.0</td>\n",
       "      <td>0.0</td>\n",
       "      <td>0.0</td>\n",
       "      <td>0.0</td>\n",
       "      <td>smart</td>\n",
       "    </tr>\n",
       "    <tr>\n",
       "      <th>498</th>\n",
       "      <td>1498</td>\n",
       "      <td>0.0</td>\n",
       "      <td>0.0</td>\n",
       "      <td>0.0</td>\n",
       "      <td>0.0</td>\n",
       "      <td>0.0</td>\n",
       "      <td>0.0</td>\n",
       "      <td>0.0</td>\n",
       "      <td>36.0</td>\n",
       "      <td>0.0</td>\n",
       "      <td>0.0</td>\n",
       "      <td>0.0</td>\n",
       "      <td>0.0</td>\n",
       "      <td>smart</td>\n",
       "    </tr>\n",
       "    <tr>\n",
       "      <th>499</th>\n",
       "      <td>1499</td>\n",
       "      <td>0.0</td>\n",
       "      <td>0.0</td>\n",
       "      <td>0.0</td>\n",
       "      <td>0.0</td>\n",
       "      <td>0.0</td>\n",
       "      <td>0.0</td>\n",
       "      <td>0.0</td>\n",
       "      <td>0.0</td>\n",
       "      <td>0.0</td>\n",
       "      <td>0.0</td>\n",
       "      <td>27.0</td>\n",
       "      <td>48.0</td>\n",
       "      <td>smart</td>\n",
       "    </tr>\n",
       "  </tbody>\n",
       "</table>\n",
       "</div>"
      ],
      "text/plain": [
       "     user_id    1    2    3    4    5    6    7     8    9   10    11    12  \\\n",
       "495     1495  0.0  0.0  0.0  0.0  0.0  0.0  0.0   0.0  0.0  0.0   0.0   0.0   \n",
       "496     1496  0.0  0.0  0.0  0.0  0.0  0.0  0.0   0.0  0.0  0.0   0.0   3.0   \n",
       "497     1497  0.0  0.0  0.0  0.0  0.0  0.0  0.0   0.0  0.0  0.0   0.0   0.0   \n",
       "498     1498  0.0  0.0  0.0  0.0  0.0  0.0  0.0  36.0  0.0  0.0   0.0   0.0   \n",
       "499     1499  0.0  0.0  0.0  0.0  0.0  0.0  0.0   0.0  0.0  0.0  27.0  48.0   \n",
       "\n",
       "    tariff  \n",
       "495  ultra  \n",
       "496  smart  \n",
       "497  smart  \n",
       "498  smart  \n",
       "499  smart  "
      ]
     },
     "execution_count": 26,
     "metadata": {},
     "output_type": "execute_result"
    }
   ],
   "source": [
    "for i in range(1, 13):\n",
    "    messages_data[i] -= messages_data['messages_included']\n",
    "    messages_data.loc[messages_data[i] < 0, i] = 0\n",
    "    messages_data[i] *= messages_data['rub_per_message'] \n",
    "\n",
    "messages_data = messages_data.drop(columns = ['messages_included', 'gb_per_month_included', 'minutes_included', 'rub_monthly_fee',\n",
    "                             'rub_per_gb', 'rub_per_message', 'rub_per_minute','reg_date', 'churn_date'], axis=1)\n",
    "messages_data.tail(5)"
   ]
  },
  {
   "cell_type": "code",
   "execution_count": 27,
   "id": "da6def62",
   "metadata": {},
   "outputs": [
    {
     "data": {
      "text/plain": [
       "72.0"
      ]
     },
     "execution_count": 27,
     "metadata": {},
     "output_type": "execute_result"
    }
   ],
   "source": [
    "messages_data[1].sum()    # проверка: общая сумма за СМС"
   ]
  },
  {
   "cell_type": "code",
   "execution_count": 28,
   "id": "fba2cb75",
   "metadata": {},
   "outputs": [
    {
     "data": {
      "text/html": [
       "<div>\n",
       "<style scoped>\n",
       "    .dataframe tbody tr th:only-of-type {\n",
       "        vertical-align: middle;\n",
       "    }\n",
       "\n",
       "    .dataframe tbody tr th {\n",
       "        vertical-align: top;\n",
       "    }\n",
       "\n",
       "    .dataframe thead th {\n",
       "        text-align: right;\n",
       "    }\n",
       "</style>\n",
       "<table border=\"1\" class=\"dataframe\">\n",
       "  <thead>\n",
       "    <tr style=\"text-align: right;\">\n",
       "      <th></th>\n",
       "      <th>user_id</th>\n",
       "      <th>1</th>\n",
       "      <th>2</th>\n",
       "      <th>3</th>\n",
       "      <th>4</th>\n",
       "      <th>5</th>\n",
       "      <th>6</th>\n",
       "      <th>7</th>\n",
       "      <th>8</th>\n",
       "      <th>9</th>\n",
       "      <th>...</th>\n",
       "      <th>tariff</th>\n",
       "      <th>reg_date</th>\n",
       "      <th>churn_date</th>\n",
       "      <th>messages_included</th>\n",
       "      <th>gb_per_month_included</th>\n",
       "      <th>minutes_included</th>\n",
       "      <th>rub_monthly_fee</th>\n",
       "      <th>rub_per_gb</th>\n",
       "      <th>rub_per_message</th>\n",
       "      <th>rub_per_minute</th>\n",
       "    </tr>\n",
       "  </thead>\n",
       "  <tbody>\n",
       "    <tr>\n",
       "      <th>495</th>\n",
       "      <td>1495</td>\n",
       "      <td>0.0</td>\n",
       "      <td>0.0</td>\n",
       "      <td>0.0</td>\n",
       "      <td>0.0</td>\n",
       "      <td>0.0</td>\n",
       "      <td>0.0</td>\n",
       "      <td>0.0</td>\n",
       "      <td>3.0</td>\n",
       "      <td>33.0</td>\n",
       "      <td>...</td>\n",
       "      <td>ultra</td>\n",
       "      <td>8</td>\n",
       "      <td>12</td>\n",
       "      <td>1000</td>\n",
       "      <td>30.0</td>\n",
       "      <td>3000</td>\n",
       "      <td>1950</td>\n",
       "      <td>150</td>\n",
       "      <td>1</td>\n",
       "      <td>1</td>\n",
       "    </tr>\n",
       "    <tr>\n",
       "      <th>496</th>\n",
       "      <td>1496</td>\n",
       "      <td>4.0</td>\n",
       "      <td>28.0</td>\n",
       "      <td>25.0</td>\n",
       "      <td>21.0</td>\n",
       "      <td>24.0</td>\n",
       "      <td>20.0</td>\n",
       "      <td>24.0</td>\n",
       "      <td>23.0</td>\n",
       "      <td>27.0</td>\n",
       "      <td>...</td>\n",
       "      <td>smart</td>\n",
       "      <td>1</td>\n",
       "      <td>12</td>\n",
       "      <td>50</td>\n",
       "      <td>15.0</td>\n",
       "      <td>500</td>\n",
       "      <td>550</td>\n",
       "      <td>200</td>\n",
       "      <td>3</td>\n",
       "      <td>3</td>\n",
       "    </tr>\n",
       "    <tr>\n",
       "      <th>497</th>\n",
       "      <td>1497</td>\n",
       "      <td>0.0</td>\n",
       "      <td>0.0</td>\n",
       "      <td>0.0</td>\n",
       "      <td>0.0</td>\n",
       "      <td>0.0</td>\n",
       "      <td>0.0</td>\n",
       "      <td>0.0</td>\n",
       "      <td>0.0</td>\n",
       "      <td>0.0</td>\n",
       "      <td>...</td>\n",
       "      <td>smart</td>\n",
       "      <td>10</td>\n",
       "      <td>12</td>\n",
       "      <td>50</td>\n",
       "      <td>15.0</td>\n",
       "      <td>500</td>\n",
       "      <td>550</td>\n",
       "      <td>200</td>\n",
       "      <td>3</td>\n",
       "      <td>3</td>\n",
       "    </tr>\n",
       "    <tr>\n",
       "      <th>498</th>\n",
       "      <td>1498</td>\n",
       "      <td>0.0</td>\n",
       "      <td>0.0</td>\n",
       "      <td>0.0</td>\n",
       "      <td>0.0</td>\n",
       "      <td>0.0</td>\n",
       "      <td>0.0</td>\n",
       "      <td>8.0</td>\n",
       "      <td>24.0</td>\n",
       "      <td>22.0</td>\n",
       "      <td>...</td>\n",
       "      <td>smart</td>\n",
       "      <td>7</td>\n",
       "      <td>10</td>\n",
       "      <td>50</td>\n",
       "      <td>15.0</td>\n",
       "      <td>500</td>\n",
       "      <td>550</td>\n",
       "      <td>200</td>\n",
       "      <td>3</td>\n",
       "      <td>3</td>\n",
       "    </tr>\n",
       "    <tr>\n",
       "      <th>499</th>\n",
       "      <td>1499</td>\n",
       "      <td>0.0</td>\n",
       "      <td>0.0</td>\n",
       "      <td>0.0</td>\n",
       "      <td>0.0</td>\n",
       "      <td>0.0</td>\n",
       "      <td>0.0</td>\n",
       "      <td>0.0</td>\n",
       "      <td>0.0</td>\n",
       "      <td>2.0</td>\n",
       "      <td>...</td>\n",
       "      <td>smart</td>\n",
       "      <td>9</td>\n",
       "      <td>12</td>\n",
       "      <td>50</td>\n",
       "      <td>15.0</td>\n",
       "      <td>500</td>\n",
       "      <td>550</td>\n",
       "      <td>200</td>\n",
       "      <td>3</td>\n",
       "      <td>3</td>\n",
       "    </tr>\n",
       "  </tbody>\n",
       "</table>\n",
       "<p>5 rows × 23 columns</p>\n",
       "</div>"
      ],
      "text/plain": [
       "     user_id    1     2     3     4     5     6     7     8     9  ...  \\\n",
       "495     1495  0.0   0.0   0.0   0.0   0.0   0.0   0.0   3.0  33.0  ...   \n",
       "496     1496  4.0  28.0  25.0  21.0  24.0  20.0  24.0  23.0  27.0  ...   \n",
       "497     1497  0.0   0.0   0.0   0.0   0.0   0.0   0.0   0.0   0.0  ...   \n",
       "498     1498  0.0   0.0   0.0   0.0   0.0   0.0   8.0  24.0  22.0  ...   \n",
       "499     1499  0.0   0.0   0.0   0.0   0.0   0.0   0.0   0.0   2.0  ...   \n",
       "\n",
       "     tariff  reg_date  churn_date messages_included  gb_per_month_included  \\\n",
       "495   ultra         8          12              1000                   30.0   \n",
       "496   smart         1          12                50                   15.0   \n",
       "497   smart        10          12                50                   15.0   \n",
       "498   smart         7          10                50                   15.0   \n",
       "499   smart         9          12                50                   15.0   \n",
       "\n",
       "     minutes_included  rub_monthly_fee  rub_per_gb  rub_per_message  \\\n",
       "495              3000             1950         150                1   \n",
       "496               500              550         200                3   \n",
       "497               500              550         200                3   \n",
       "498               500              550         200                3   \n",
       "499               500              550         200                3   \n",
       "\n",
       "     rub_per_minute  \n",
       "495               1  \n",
       "496               3  \n",
       "497               3  \n",
       "498               3  \n",
       "499               3  \n",
       "\n",
       "[5 rows x 23 columns]"
      ]
     },
     "execution_count": 28,
     "metadata": {},
     "output_type": "execute_result"
    }
   ],
   "source": [
    "internet_data = internet_pivot.merge(users_tariffs_dict, on='user_id', how='right').fillna(0)\n",
    "internet_data.tail(5)"
   ]
  },
  {
   "cell_type": "code",
   "execution_count": 29,
   "id": "c42397eb",
   "metadata": {},
   "outputs": [
    {
     "data": {
      "text/html": [
       "<div>\n",
       "<style scoped>\n",
       "    .dataframe tbody tr th:only-of-type {\n",
       "        vertical-align: middle;\n",
       "    }\n",
       "\n",
       "    .dataframe tbody tr th {\n",
       "        vertical-align: top;\n",
       "    }\n",
       "\n",
       "    .dataframe thead th {\n",
       "        text-align: right;\n",
       "    }\n",
       "</style>\n",
       "<table border=\"1\" class=\"dataframe\">\n",
       "  <thead>\n",
       "    <tr style=\"text-align: right;\">\n",
       "      <th></th>\n",
       "      <th>user_id</th>\n",
       "      <th>1</th>\n",
       "      <th>2</th>\n",
       "      <th>3</th>\n",
       "      <th>4</th>\n",
       "      <th>5</th>\n",
       "      <th>6</th>\n",
       "      <th>7</th>\n",
       "      <th>8</th>\n",
       "      <th>9</th>\n",
       "      <th>10</th>\n",
       "      <th>11</th>\n",
       "      <th>12</th>\n",
       "      <th>tariff</th>\n",
       "    </tr>\n",
       "  </thead>\n",
       "  <tbody>\n",
       "    <tr>\n",
       "      <th>495</th>\n",
       "      <td>1495</td>\n",
       "      <td>0.0</td>\n",
       "      <td>0.0</td>\n",
       "      <td>0.0</td>\n",
       "      <td>0.0</td>\n",
       "      <td>0.0</td>\n",
       "      <td>0.0</td>\n",
       "      <td>0.0</td>\n",
       "      <td>0.0</td>\n",
       "      <td>450.0</td>\n",
       "      <td>0.0</td>\n",
       "      <td>1350.0</td>\n",
       "      <td>0.0</td>\n",
       "      <td>ultra</td>\n",
       "    </tr>\n",
       "    <tr>\n",
       "      <th>496</th>\n",
       "      <td>1496</td>\n",
       "      <td>0.0</td>\n",
       "      <td>2600.0</td>\n",
       "      <td>2000.0</td>\n",
       "      <td>1200.0</td>\n",
       "      <td>1800.0</td>\n",
       "      <td>1000.0</td>\n",
       "      <td>1800.0</td>\n",
       "      <td>1600.0</td>\n",
       "      <td>2400.0</td>\n",
       "      <td>2600.0</td>\n",
       "      <td>2000.0</td>\n",
       "      <td>1200.0</td>\n",
       "      <td>smart</td>\n",
       "    </tr>\n",
       "    <tr>\n",
       "      <th>497</th>\n",
       "      <td>1497</td>\n",
       "      <td>0.0</td>\n",
       "      <td>0.0</td>\n",
       "      <td>0.0</td>\n",
       "      <td>0.0</td>\n",
       "      <td>0.0</td>\n",
       "      <td>0.0</td>\n",
       "      <td>0.0</td>\n",
       "      <td>0.0</td>\n",
       "      <td>0.0</td>\n",
       "      <td>0.0</td>\n",
       "      <td>0.0</td>\n",
       "      <td>1000.0</td>\n",
       "      <td>smart</td>\n",
       "    </tr>\n",
       "    <tr>\n",
       "      <th>498</th>\n",
       "      <td>1498</td>\n",
       "      <td>0.0</td>\n",
       "      <td>0.0</td>\n",
       "      <td>0.0</td>\n",
       "      <td>0.0</td>\n",
       "      <td>0.0</td>\n",
       "      <td>0.0</td>\n",
       "      <td>0.0</td>\n",
       "      <td>1800.0</td>\n",
       "      <td>1400.0</td>\n",
       "      <td>1200.0</td>\n",
       "      <td>0.0</td>\n",
       "      <td>0.0</td>\n",
       "      <td>smart</td>\n",
       "    </tr>\n",
       "    <tr>\n",
       "      <th>499</th>\n",
       "      <td>1499</td>\n",
       "      <td>0.0</td>\n",
       "      <td>0.0</td>\n",
       "      <td>0.0</td>\n",
       "      <td>0.0</td>\n",
       "      <td>0.0</td>\n",
       "      <td>0.0</td>\n",
       "      <td>0.0</td>\n",
       "      <td>0.0</td>\n",
       "      <td>0.0</td>\n",
       "      <td>600.0</td>\n",
       "      <td>600.0</td>\n",
       "      <td>0.0</td>\n",
       "      <td>smart</td>\n",
       "    </tr>\n",
       "  </tbody>\n",
       "</table>\n",
       "</div>"
      ],
      "text/plain": [
       "     user_id    1       2       3       4       5       6       7       8  \\\n",
       "495     1495  0.0     0.0     0.0     0.0     0.0     0.0     0.0     0.0   \n",
       "496     1496  0.0  2600.0  2000.0  1200.0  1800.0  1000.0  1800.0  1600.0   \n",
       "497     1497  0.0     0.0     0.0     0.0     0.0     0.0     0.0     0.0   \n",
       "498     1498  0.0     0.0     0.0     0.0     0.0     0.0     0.0  1800.0   \n",
       "499     1499  0.0     0.0     0.0     0.0     0.0     0.0     0.0     0.0   \n",
       "\n",
       "          9      10      11      12 tariff  \n",
       "495   450.0     0.0  1350.0     0.0  ultra  \n",
       "496  2400.0  2600.0  2000.0  1200.0  smart  \n",
       "497     0.0     0.0     0.0  1000.0  smart  \n",
       "498  1400.0  1200.0     0.0     0.0  smart  \n",
       "499     0.0   600.0   600.0     0.0  smart  "
      ]
     },
     "execution_count": 29,
     "metadata": {},
     "output_type": "execute_result"
    }
   ],
   "source": [
    "for i in range(1, 13):\n",
    "    internet_data[i] -= internet_data['gb_per_month_included']\n",
    "    internet_data.loc[internet_data[i] < 0, i] = 0\n",
    "    internet_data[i] *= internet_data['rub_per_gb']\n",
    "\n",
    "internet_data= internet_data.drop(columns = ['messages_included', 'gb_per_month_included', 'minutes_included', 'rub_monthly_fee',\n",
    "                             'rub_per_gb', 'rub_per_message', 'rub_per_minute','reg_date', 'churn_date'], axis=1)\n",
    "internet_data.tail(5)"
   ]
  },
  {
   "cell_type": "code",
   "execution_count": 30,
   "id": "fb907696",
   "metadata": {},
   "outputs": [
    {
     "data": {
      "text/plain": [
       "5600.0"
      ]
     },
     "execution_count": 30,
     "metadata": {},
     "output_type": "execute_result"
    }
   ],
   "source": [
    "internet_data[1].sum()    # проверка: общая сумма за интернет-трафик"
   ]
  },
  {
   "cell_type": "markdown",
   "id": "bf293a09",
   "metadata": {},
   "source": [
    "Теперь у нас есть три таблицы с платными услугами:\n",
    " - calls_data\n",
    " - messages_data\n",
    " - internet_data\n",
    " \n",
    "Осталось объединить их в одну и сгруппировать данные по id пользователя и тарифу."
   ]
  },
  {
   "cell_type": "code",
   "execution_count": 31,
   "id": "479ad941",
   "metadata": {},
   "outputs": [
    {
     "data": {
      "text/html": [
       "<div>\n",
       "<style scoped>\n",
       "    .dataframe tbody tr th:only-of-type {\n",
       "        vertical-align: middle;\n",
       "    }\n",
       "\n",
       "    .dataframe tbody tr th {\n",
       "        vertical-align: top;\n",
       "    }\n",
       "\n",
       "    .dataframe thead th {\n",
       "        text-align: right;\n",
       "    }\n",
       "</style>\n",
       "<table border=\"1\" class=\"dataframe\">\n",
       "  <thead>\n",
       "    <tr style=\"text-align: right;\">\n",
       "      <th></th>\n",
       "      <th>tariff</th>\n",
       "      <th>user_id</th>\n",
       "      <th>1</th>\n",
       "      <th>2</th>\n",
       "      <th>3</th>\n",
       "      <th>4</th>\n",
       "      <th>5</th>\n",
       "      <th>6</th>\n",
       "      <th>7</th>\n",
       "      <th>8</th>\n",
       "      <th>9</th>\n",
       "      <th>10</th>\n",
       "      <th>11</th>\n",
       "      <th>12</th>\n",
       "    </tr>\n",
       "  </thead>\n",
       "  <tbody>\n",
       "    <tr>\n",
       "      <th>495</th>\n",
       "      <td>ultra</td>\n",
       "      <td>1476</td>\n",
       "      <td>0.0</td>\n",
       "      <td>0.0</td>\n",
       "      <td>0.0</td>\n",
       "      <td>1950.0</td>\n",
       "      <td>1950.0</td>\n",
       "      <td>1950.0</td>\n",
       "      <td>1950.0</td>\n",
       "      <td>1950.0</td>\n",
       "      <td>1950.0</td>\n",
       "      <td>1950.0</td>\n",
       "      <td>1950.0</td>\n",
       "      <td>1950.0</td>\n",
       "    </tr>\n",
       "    <tr>\n",
       "      <th>496</th>\n",
       "      <td>ultra</td>\n",
       "      <td>1485</td>\n",
       "      <td>0.0</td>\n",
       "      <td>0.0</td>\n",
       "      <td>0.0</td>\n",
       "      <td>0.0</td>\n",
       "      <td>0.0</td>\n",
       "      <td>0.0</td>\n",
       "      <td>0.0</td>\n",
       "      <td>0.0</td>\n",
       "      <td>0.0</td>\n",
       "      <td>0.0</td>\n",
       "      <td>0.0</td>\n",
       "      <td>1950.0</td>\n",
       "    </tr>\n",
       "    <tr>\n",
       "      <th>497</th>\n",
       "      <td>ultra</td>\n",
       "      <td>1491</td>\n",
       "      <td>0.0</td>\n",
       "      <td>0.0</td>\n",
       "      <td>0.0</td>\n",
       "      <td>1950.0</td>\n",
       "      <td>1950.0</td>\n",
       "      <td>1950.0</td>\n",
       "      <td>1950.0</td>\n",
       "      <td>1950.0</td>\n",
       "      <td>1950.0</td>\n",
       "      <td>1950.0</td>\n",
       "      <td>1950.0</td>\n",
       "      <td>1950.0</td>\n",
       "    </tr>\n",
       "    <tr>\n",
       "      <th>498</th>\n",
       "      <td>ultra</td>\n",
       "      <td>1493</td>\n",
       "      <td>0.0</td>\n",
       "      <td>0.0</td>\n",
       "      <td>0.0</td>\n",
       "      <td>0.0</td>\n",
       "      <td>0.0</td>\n",
       "      <td>0.0</td>\n",
       "      <td>0.0</td>\n",
       "      <td>0.0</td>\n",
       "      <td>0.0</td>\n",
       "      <td>0.0</td>\n",
       "      <td>1950.0</td>\n",
       "      <td>3750.0</td>\n",
       "    </tr>\n",
       "    <tr>\n",
       "      <th>499</th>\n",
       "      <td>ultra</td>\n",
       "      <td>1495</td>\n",
       "      <td>0.0</td>\n",
       "      <td>0.0</td>\n",
       "      <td>0.0</td>\n",
       "      <td>0.0</td>\n",
       "      <td>0.0</td>\n",
       "      <td>0.0</td>\n",
       "      <td>0.0</td>\n",
       "      <td>1950.0</td>\n",
       "      <td>2400.0</td>\n",
       "      <td>1950.0</td>\n",
       "      <td>3300.0</td>\n",
       "      <td>1950.0</td>\n",
       "    </tr>\n",
       "  </tbody>\n",
       "</table>\n",
       "</div>"
      ],
      "text/plain": [
       "    tariff  user_id    1    2    3       4       5       6       7       8  \\\n",
       "495  ultra     1476  0.0  0.0  0.0  1950.0  1950.0  1950.0  1950.0  1950.0   \n",
       "496  ultra     1485  0.0  0.0  0.0     0.0     0.0     0.0     0.0     0.0   \n",
       "497  ultra     1491  0.0  0.0  0.0  1950.0  1950.0  1950.0  1950.0  1950.0   \n",
       "498  ultra     1493  0.0  0.0  0.0     0.0     0.0     0.0     0.0     0.0   \n",
       "499  ultra     1495  0.0  0.0  0.0     0.0     0.0     0.0     0.0  1950.0   \n",
       "\n",
       "          9      10      11      12  \n",
       "495  1950.0  1950.0  1950.0  1950.0  \n",
       "496     0.0     0.0     0.0  1950.0  \n",
       "497  1950.0  1950.0  1950.0  1950.0  \n",
       "498     0.0     0.0  1950.0  3750.0  \n",
       "499  2400.0  1950.0  3300.0  1950.0  "
      ]
     },
     "execution_count": 31,
     "metadata": {},
     "output_type": "execute_result"
    }
   ],
   "source": [
    "df_money = pd.concat([calls_data, messages_data, internet_data], join='outer').reset_index(drop=True)\n",
    "\n",
    "df_money = df_money.groupby(['tariff','user_id'], as_index=False).sum()\n",
    "\n",
    "df_money.tail(5)"
   ]
  },
  {
   "cell_type": "code",
   "execution_count": 32,
   "id": "c7ff48f9",
   "metadata": {},
   "outputs": [
    {
     "data": {
      "text/plain": [
       "42075.0"
      ]
     },
     "execution_count": 32,
     "metadata": {},
     "output_type": "execute_result"
    }
   ],
   "source": [
    "df_money[1].sum()    # проверка: общая сумма столбца совпадает с суммой проверок выше"
   ]
  },
  {
   "cell_type": "code",
   "execution_count": 33,
   "id": "9b8b3197",
   "metadata": {},
   "outputs": [
    {
     "data": {
      "text/plain": [
       "500"
      ]
     },
     "execution_count": 33,
     "metadata": {},
     "output_type": "execute_result"
    }
   ],
   "source": [
    "df_money[1].count()    # проверка: итоговое кол-во пользователей совпадает"
   ]
  },
  {
   "cell_type": "markdown",
   "id": "3ac73061",
   "metadata": {},
   "source": [
    "Так же, объединяем таблицы по звонкам, СМС и интернет-трафиком с таблицей `user_dict` и выделим в отдельные таблицы уже в разрезе тарифов."
   ]
  },
  {
   "cell_type": "code",
   "execution_count": 34,
   "id": "1b41239a",
   "metadata": {},
   "outputs": [],
   "source": [
    "df_calls = calls_pivot.merge(users_dict, on='user_id', how='right').fillna(0)    # звонки в минутах\n",
    "\n",
    "df_calls_count = calls_count_pivot.merge(users_dict, on='user_id', how='right').fillna(0)    # кол-во звонков\n",
    "\n",
    "df_messages = messages_pivot.merge(users_dict, on='user_id', how='right').fillna(0)    # кол-во СМС\n",
    "\n",
    "df_internet = internet_pivot.merge(users_dict, on='user_id', how='right').fillna(0)    # интернет-трафик"
   ]
  },
  {
   "cell_type": "code",
   "execution_count": 35,
   "id": "d564c953",
   "metadata": {},
   "outputs": [],
   "source": [
    "# функция для разделения датафрейма на два по тарифу \n",
    "\n",
    "df_money_ultra = df_money[df_money['tariff'] == 'ultra']    # потрачено рублей\n",
    "df_money_smart = df_money[df_money['tariff'] == 'smart']\n",
    "\n",
    "df_calls_ultra = df_calls[df_calls['tariff'] == 'ultra']    # звонки в минутах\n",
    "df_calls_smart = df_calls[df_calls['tariff'] == 'smart']\n",
    "\n",
    "df_calls_count_ultra = df_calls_count[df_calls_count['tariff'] == 'ultra']    # кол-во звонков\n",
    "df_calls_count_smart = df_calls_count[df_calls_count['tariff'] == 'smart']\n",
    "\n",
    "df_messages_ultra = df_messages[df_messages['tariff'] == 'ultra']    # кол-во СМС\n",
    "df_messages_smart = df_messages[df_messages['tariff'] == 'smart']\n",
    "\n",
    "df_internet_ultra = df_internet[df_internet['tariff'] == 'ultra']    # интернет-трафик\n",
    "df_internet_smart = df_internet[df_internet['tariff'] == 'smart']\n"
   ]
  },
  {
   "cell_type": "markdown",
   "id": "d5c1b4d1",
   "metadata": {},
   "source": [
    "## Анализ данных"
   ]
  },
  {
   "cell_type": "markdown",
   "id": "418e6a38",
   "metadata": {},
   "source": [
    "Опишите поведение клиентов оператора, исходя из выборки. Сколько минут разговора, сколько сообщений и какой объём интернет-трафика требуется пользователям каждого тарифа в месяц? Посчитайте среднее количество, дисперсию и стандартное отклонение. Постройте гистограммы. Опишите распределения.\n"
   ]
  },
  {
   "cell_type": "code",
   "execution_count": 36,
   "id": "f57c50c7",
   "metadata": {},
   "outputs": [],
   "source": [
    "def analytics_bar(data1, data2, title):    # функция построения графика для математического среднего \n",
    "    index = [1,2,3,4,5,6,7,8,9,10,11,12]\n",
    "    data1 = data1[index].apply(np.mean)\n",
    "    data2 = data2[index].apply(np.mean)\n",
    "    smart = data1.values\n",
    "    ultra = data2.values\n",
    "    print(smart)\n",
    "    print(ultra)\n",
    "    df = pd.DataFrame({'smart': smart,\n",
    "                   'ultra': ultra},\n",
    "                 index = index)\n",
    "    ax = df.plot.bar(rot=0)\n",
    "    plt.grid(True) # сетка\n",
    "    plt.title(title, loc = 'left')\n",
    "    plt.legend(bbox_to_anchor = (1,1)) # положение легенды\n",
    "    plt.show()\n",
    "\n",
    "def analytics_hist(data1, data2, title):    # функция построения гистограммы матматического среднего\n",
    "    index = [1,2,3,4,5,6,7,8,9,10,11,12]\n",
    "    data1 = data1[index].apply(np.mean)\n",
    "    data2 = data2[index].apply(np.mean)\n",
    "    smart = data1.values\n",
    "    ultra = data2.values\n",
    "    print(smart)\n",
    "    print(ultra)\n",
    "    df = pd.DataFrame({'smart': smart,\n",
    "                   'ultra': ultra},\n",
    "                 index = index)\n",
    "    df.plot(kind='hist', alpha=0.5, bins=10)\n",
    "    plt.grid(True) # сетка\n",
    "    plt.title(title, loc = 'left')\n",
    "    plt.legend(bbox_to_anchor = (1,1)) # положение легенды\n",
    "    plt.show()\n",
    "\n",
    "def analytics_hist_add(data1, data2, func, title):    # функция построения гистограммы ст. отклонения и дисперсии\n",
    "    index = [1,2,3,4,5,6,7,8,9,10,11,12]\n",
    "    data1 = func(data1[index], ddof=1)\n",
    "    data2 = func(data2[index], ddof=1)\n",
    "    smart = data1.values\n",
    "    ultra = data2.values\n",
    "    print(smart)\n",
    "    print(ultra)\n",
    "    df = pd.DataFrame({'smart': smart,\n",
    "                   'ultra': ultra},\n",
    "                 index = index)\n",
    "    df.plot(kind='hist', alpha=0.5, bins=10)\n",
    "    plt.grid(True) # сетка\n",
    "    plt.title(title, loc = 'left')\n",
    "    plt.legend(bbox_to_anchor = (1,1)) # положение легенды\n",
    "    plt.show()"
   ]
  },
  {
   "cell_type": "markdown",
   "id": "b67cadb4",
   "metadata": {},
   "source": [
    "### * звонки"
   ]
  },
  {
   "cell_type": "code",
   "execution_count": 37,
   "id": "76253073",
   "metadata": {},
   "outputs": [
    {
     "name": "stdout",
     "output_type": "stream",
     "text": [
      "[ 19.74643875  49.35612536  85.56695157 117.14814815 155.60683761\n",
      " 184.85754986 233.84330484 282.17948718 317.49002849 356.93447293\n",
      " 391.86324786 459.47293447]\n",
      "[ 25.8590604   47.8590604  121.59060403 169.06711409 229.47651007\n",
      " 270.43624161 333.33557047 366.79865772 416.34899329 460.69798658\n",
      " 486.87919463 553.02013423]\n"
     ]
    },
    {
     "data": {
      "image/png": "[encoded data removed]",
      "text/plain": [
       "<Figure size 640x480 with 1 Axes>"
      ]
     },
     "metadata": {},
     "output_type": "display_data"
    }
   ],
   "source": [
    "analytics_bar(df_calls_smart, df_calls_ultra, 'Длительность разговора по месяцам, среднее арифметическое')"
   ]
  },
  {
   "cell_type": "code",
   "execution_count": 38,
   "id": "df32f80f",
   "metadata": {},
   "outputs": [
    {
     "name": "stdout",
     "output_type": "stream",
     "text": [
      "[ 2.68091168  6.64102564 11.91737892 16.37321937 22.19088319 25.95441595\n",
      " 32.48433048 39.48717949 44.10826211 50.22507123 55.37037037 63.83475783]\n",
      "[ 3.59060403  6.69127517 16.80536913 23.65771812 32.60402685 37.62416107\n",
      " 46.28187919 51.19463087 57.57718121 63.87248322 67.55704698 77.72483221]\n"
     ]
    },
    {
     "data": {
      "image/png": "[encoded data removed]",
      "text/plain": [
       "<Figure size 640x480 with 1 Axes>"
      ]
     },
     "metadata": {},
     "output_type": "display_data"
    }
   ],
   "source": [
    "analytics_bar(df_calls_count_smart, df_calls_count_ultra, 'Количество звонков по месяцам, среднее арифметическое')"
   ]
  },
  {
   "cell_type": "markdown",
   "id": "2b0ea31e",
   "metadata": {},
   "source": [
    "Мы видим уверенный рост как самого количества звонков, так и их продолжительности от месяца к месяцу. Скорее всего, это связано с ростом абонентской базы.\n",
    "\n",
    "Средний пользователь тарифа \"Ультра\" звонят чаще и говорит дольше (за исключением февраля)."
   ]
  },
  {
   "cell_type": "code",
   "execution_count": 39,
   "id": "438de76d",
   "metadata": {},
   "outputs": [
    {
     "name": "stdout",
     "output_type": "stream",
     "text": [
      "[ 19.74643875  49.35612536  85.56695157 117.14814815 155.60683761\n",
      " 184.85754986 233.84330484 282.17948718 317.49002849 356.93447293\n",
      " 391.86324786 459.47293447]\n",
      "[ 25.8590604   47.8590604  121.59060403 169.06711409 229.47651007\n",
      " 270.43624161 333.33557047 366.79865772 416.34899329 460.69798658\n",
      " 486.87919463 553.02013423]\n"
     ]
    },
    {
     "data": {
      "image/png": "[encoded data removed]",
      "text/plain": [
       "<Figure size 640x480 with 1 Axes>"
      ]
     },
     "metadata": {},
     "output_type": "display_data"
    }
   ],
   "source": [
    "analytics_hist(df_calls_smart, df_calls_ultra, 'Распределение длительности разговора, среднее арифметическое')"
   ]
  },
  {
   "cell_type": "markdown",
   "id": "a18f44d6",
   "metadata": {},
   "source": [
    "У пользователей тарифа \"Смарт\" есть несколько пиков, пользователи тарифа \"Ультра\" говорят или мало или много."
   ]
  },
  {
   "cell_type": "code",
   "execution_count": 40,
   "id": "a3146fe6",
   "metadata": {},
   "outputs": [
    {
     "name": "stdout",
     "output_type": "stream",
     "text": [
      "[ 76.73748261 135.17136726 184.72730618 200.99428774 223.816224\n",
      " 231.07037195 243.62532347 250.3571032  245.35061626 233.23688444\n",
      " 213.31005894 216.57817785]\n",
      "[120.02342227 160.22931288 268.60455243 274.45616163 319.8217321\n",
      " 329.10466835 358.6860332  351.1772283  364.72872048 364.59399308\n",
      " 336.89381824 362.63365606]\n"
     ]
    },
    {
     "data": {
      "image/png": "[encoded data removed]",
      "text/plain": [
       "<Figure size 640x480 with 1 Axes>"
      ]
     },
     "metadata": {},
     "output_type": "display_data"
    }
   ],
   "source": [
    "analytics_hist_add(df_calls_smart, df_calls_ultra, np.std, 'Распределение длительности разговора, стандартное отклонение')"
   ]
  },
  {
   "cell_type": "markdown",
   "id": "94164e2b",
   "metadata": {},
   "source": [
    "Стандартное отклонение у пользователей \"Ультры\" больше."
   ]
  },
  {
   "cell_type": "code",
   "execution_count": 41,
   "id": "20049063",
   "metadata": {},
   "outputs": [
    {
     "name": "stdout",
     "output_type": "stream",
     "text": [
      "[ 5888.64123728 18271.29852666 34124.17764754 40398.7037037\n",
      " 50093.70212454 53393.51679284 59353.29823362 62678.67912088\n",
      " 60196.92490028 54399.44426536 45501.18124542 46906.10712251]\n",
      "[ 14405.62189371  25673.43270452  72148.40558679  75326.18465445\n",
      " 102285.94032287 108309.88273173 128655.67041538 123325.44567386\n",
      " 133027.0395429  132928.77979322 113497.44476691 131503.16851079]\n"
     ]
    },
    {
     "data": {
      "image/png": "[encoded data removed]",
      "text/plain": [
       "<Figure size 640x480 with 1 Axes>"
      ]
     },
     "metadata": {},
     "output_type": "display_data"
    }
   ],
   "source": [
    "analytics_hist_add(df_calls_smart, df_calls_ultra, np.var, 'Распределение длительности разговора, дисперсия')"
   ]
  },
  {
   "cell_type": "markdown",
   "id": "1fbd9f25",
   "metadata": {},
   "source": [
    "### * СМС"
   ]
  },
  {
   "cell_type": "code",
   "execution_count": 42,
   "id": "8ff0956b",
   "metadata": {},
   "outputs": [
    {
     "name": "stdout",
     "output_type": "stream",
     "text": [
      "[ 1.76638177  3.98005698  6.98860399  9.80911681 13.56695157 15.60683761\n",
      " 19.32763533 22.52136752 24.91737892 28.28205128 30.67806268 34.55840456]\n",
      "[ 2.04026846  3.53691275  8.02013423 11.65100671 17.02013423 23.52348993\n",
      " 30.44295302 34.7852349  40.3557047  48.23489933 50.17449664 56.54362416]\n"
     ]
    },
    {
     "data": {
      "image/png": "[encoded data removed]",
      "text/plain": [
       "<Figure size 640x480 with 1 Axes>"
      ]
     },
     "metadata": {},
     "output_type": "display_data"
    }
   ],
   "source": [
    "analytics_bar(df_messages_smart, df_messages_ultra, 'Количество СМС по месяцам, среднее арифметическое')"
   ]
  },
  {
   "cell_type": "markdown",
   "id": "1f7b3ca3",
   "metadata": {},
   "source": [
    "С количеством СМС все повторяется: уверенный рост от месяца к месяцу, пользователи \"Ультры\" опережают пользователей \"Смарта\", но только не в феврале."
   ]
  },
  {
   "cell_type": "code",
   "execution_count": 43,
   "id": "cf7d7ad3",
   "metadata": {},
   "outputs": [
    {
     "name": "stdout",
     "output_type": "stream",
     "text": [
      "[ 1.76638177  3.98005698  6.98860399  9.80911681 13.56695157 15.60683761\n",
      " 19.32763533 22.52136752 24.91737892 28.28205128 30.67806268 34.55840456]\n",
      "[ 2.04026846  3.53691275  8.02013423 11.65100671 17.02013423 23.52348993\n",
      " 30.44295302 34.7852349  40.3557047  48.23489933 50.17449664 56.54362416]\n"
     ]
    },
    {
     "data": {
      "image/png": "[encoded data removed]",
      "text/plain": [
       "<Figure size 640x480 with 1 Axes>"
      ]
     },
     "metadata": {},
     "output_type": "display_data"
    }
   ],
   "source": [
    "analytics_hist(df_messages_smart, df_messages_ultra, 'Распределение кол-ва СМС, среднее арифметическое')"
   ]
  },
  {
   "cell_type": "markdown",
   "id": "669892a0",
   "metadata": {},
   "source": [
    "В среднем, пользователи обоих тарифов пишут менее 10 СМС в месяц. При этом, пользователи \"Смарта\" придерживаются месячного лимита, в то время как пользователи \"Ультры\" даже не приближаются к нему (имея возможность отправлять по 1000 СМС бесплатно на ежемесячной основе, в самый насыщенный месяц используют всего 1/20 своих возможностей)."
   ]
  },
  {
   "cell_type": "code",
   "execution_count": 44,
   "id": "6c151cfa",
   "metadata": {},
   "outputs": [
    {
     "name": "stdout",
     "output_type": "stream",
     "text": [
      "[ 7.34240975 12.54191378 18.17438971 19.921719   23.81837086 25.57865983\n",
      " 27.14128758 28.48716953 28.3369826  28.9607161  28.80766868 30.77840396]\n",
      "[10.77213572 13.30389269 24.84777161 27.33202413 32.88523652 39.30676028\n",
      " 45.1346907  45.09547885 46.29285069 52.13902793 50.09608761 52.27170223]\n"
     ]
    },
    {
     "data": {
      "image/png": "[encoded data removed]",
      "text/plain": [
       "<Figure size 640x480 with 1 Axes>"
      ]
     },
     "metadata": {},
     "output_type": "display_data"
    }
   ],
   "source": [
    "analytics_hist_add(df_messages_smart, df_messages_ultra, np.std, 'Распределение кол-ва СМС, стандартное отклонение')"
   ]
  },
  {
   "cell_type": "code",
   "execution_count": 45,
   "id": "b6c48d00",
   "metadata": {},
   "outputs": [
    {
     "name": "stdout",
     "output_type": "stream",
     "text": [
      "[ 53.91098087 157.29960114 330.30844119 396.87488807 567.31479039\n",
      " 654.26783883 736.64949125 811.51882784 802.98458282 838.72307692\n",
      " 829.88177452 947.31015059]\n",
      "[ 116.03890804  176.99356067  617.41175404  747.0395429  1081.43878106\n",
      " 1545.02140395 2037.14030473 2033.60221295 2143.02802467 2718.47823327\n",
      " 2509.61799383 2732.33085434]\n"
     ]
    },
    {
     "data": {
      "image/png": "[encoded data removed]",
      "text/plain": [
       "<Figure size 640x480 with 1 Axes>"
      ]
     },
     "metadata": {},
     "output_type": "display_data"
    }
   ],
   "source": [
    "analytics_hist_add(df_messages_smart, df_messages_ultra, np.var, 'Распределение кол-ва СМС, дисперсия')"
   ]
  },
  {
   "cell_type": "markdown",
   "id": "84bc961b",
   "metadata": {},
   "source": [
    "### * интернет-трафик"
   ]
  },
  {
   "cell_type": "code",
   "execution_count": 46,
   "id": "c9f4a2e0",
   "metadata": {},
   "outputs": [
    {
     "name": "stdout",
     "output_type": "stream",
     "text": [
      "[ 0.84615385  1.95726496  3.34188034  4.34757835  6.39031339  7.45299145\n",
      "  9.09116809 11.20512821 12.14245014 14.13960114 15.3048433  17.47578348]\n",
      "[ 0.79865772  1.93288591  4.38255034  6.26174497  8.7114094  10.67785235\n",
      " 12.52348993 14.0738255  14.85234899 16.56375839 17.81208054 20.28187919]\n"
     ]
    },
    {
     "data": {
      "image/png": "[encoded data removed]",
      "text/plain": [
       "<Figure size 640x480 with 1 Axes>"
      ]
     },
     "metadata": {},
     "output_type": "display_data"
    }
   ],
   "source": [
    "analytics_bar(df_internet_smart, df_internet_ultra, 'Использование интернет-трафика по месяцам, среднее арифметическое')"
   ]
  },
  {
   "cell_type": "markdown",
   "id": "f5b5e677",
   "metadata": {},
   "source": [
    "Тенденция роста и соотношения сохраняются. В ноябре и декабре пользователи тарифа \"Смарт\" превышали своей ежемесячный лимит в размере 15 Гб."
   ]
  },
  {
   "cell_type": "code",
   "execution_count": 47,
   "id": "e0a6fb46",
   "metadata": {},
   "outputs": [
    {
     "name": "stdout",
     "output_type": "stream",
     "text": [
      "[ 0.84615385  1.95726496  3.34188034  4.34757835  6.39031339  7.45299145\n",
      "  9.09116809 11.20512821 12.14245014 14.13960114 15.3048433  17.47578348]\n",
      "[ 0.79865772  1.93288591  4.38255034  6.26174497  8.7114094  10.67785235\n",
      " 12.52348993 14.0738255  14.85234899 16.56375839 17.81208054 20.28187919]\n"
     ]
    },
    {
     "data": {
      "image/png": "[encoded data removed]",
      "text/plain": [
       "<Figure size 640x480 with 1 Axes>"
      ]
     },
     "metadata": {},
     "output_type": "display_data"
    }
   ],
   "source": [
    "analytics_hist(df_internet_smart, df_internet_ultra, 'Распределение потребления интернет-трафика, среднее арифметическое')"
   ]
  },
  {
   "cell_type": "markdown",
   "id": "00fcf8be",
   "metadata": {},
   "source": [
    "Похоже, что больше 20Гб требуется считанным  единицам. У пользователей \"Ультры\" не получается пока даже близко приблизится к лимитам тарифа."
   ]
  },
  {
   "cell_type": "markdown",
   "id": "171c6fd0",
   "metadata": {},
   "source": [
    "### * стоимость услуг"
   ]
  },
  {
   "cell_type": "code",
   "execution_count": 48,
   "id": "62e7fcbc",
   "metadata": {},
   "outputs": [
    {
     "name": "stdout",
     "output_type": "stream",
     "text": [
      "[  69.87179487  136.75498575  255.48717949  307.31054131  481.05128205\n",
      "  562.56125356  700.89458689  884.15954416  925.88603989 1143.21082621\n",
      " 1209.12535613 1517.13675214]\n",
      "[ 117.7852349   318.12080537  500.33557047  738.9261745   926.17449664\n",
      " 1149.66442953 1293.62416107 1495.97315436 1562.41610738 1705.36912752\n",
      " 1881.54362416 2008.38926174]\n"
     ]
    },
    {
     "data": {
      "image/png": "[encoded data removed]",
      "text/plain": [
       "<Figure size 640x480 with 1 Axes>"
      ]
     },
     "metadata": {},
     "output_type": "display_data"
    }
   ],
   "source": [
    "analytics_bar(df_money_smart, df_money_ultra, 'Сумма платежей по месяцам, среднее арифметическое')"
   ]
  },
  {
   "cell_type": "markdown",
   "id": "4f704216",
   "metadata": {},
   "source": [
    "Пользователем \"Смарта\" начинает не хватать включенных в пакет услуг. Им приходится пользоваться платными, и с каждым месяцем все больше. \n",
    "\n",
    "Странно, но пользователям \"Ультры\" так же пришлось доплачивать  в конце года, хотя и не так много. Это говорит о том, что есть ну очень активные потребители."
   ]
  },
  {
   "cell_type": "code",
   "execution_count": 49,
   "id": "28481ac1",
   "metadata": {},
   "outputs": [
    {
     "name": "stdout",
     "output_type": "stream",
     "text": [
      "[  69.87179487  136.75498575  255.48717949  307.31054131  481.05128205\n",
      "  562.56125356  700.89458689  884.15954416  925.88603989 1143.21082621\n",
      " 1209.12535613 1517.13675214]\n",
      "[ 117.7852349   318.12080537  500.33557047  738.9261745   926.17449664\n",
      " 1149.66442953 1293.62416107 1495.97315436 1562.41610738 1705.36912752\n",
      " 1881.54362416 2008.38926174]\n"
     ]
    },
    {
     "data": {
      "image/png": "[encoded data removed]",
      "text/plain": [
       "<Figure size 640x480 with 1 Axes>"
      ]
     },
     "metadata": {},
     "output_type": "display_data"
    }
   ],
   "source": [
    "analytics_hist(df_money_smart, df_money_ultra, 'Распределение суммы платежа, среднее арифметическое')"
   ]
  },
  {
   "cell_type": "markdown",
   "id": "3aa2a6ec",
   "metadata": {},
   "source": [
    "Здесь мы явно видим, сколько приходится доплачивать пользователям тарифов. Для \"Ультры\" это в пределах 50 рублей. А вот некоторые пользователи тарифа \"Смарт\" переплачивают в два, а то и в три раза."
   ]
  },
  {
   "cell_type": "code",
   "execution_count": 50,
   "id": "b693b53a",
   "metadata": {},
   "outputs": [
    {
     "name": "stdout",
     "output_type": "stream",
     "text": [
      "[ 252.58598101  377.30571511  582.01095643  549.81286986  744.79157406\n",
      "  787.96277728  824.18213157  898.10362601  835.4935572   921.2507653\n",
      "  855.72103679 1058.13275083]\n",
      "[ 466.11801898  729.22151116  879.42888109  976.49479382 1062.76958253\n",
      " 1041.94945675 1093.05684353  999.40044152  879.5135718   861.56953217\n",
      "  741.33164044  691.51231362]\n"
     ]
    },
    {
     "data": {
      "image/png": "[encoded data removed]",
      "text/plain": [
       "<Figure size 640x480 with 1 Axes>"
      ]
     },
     "metadata": {},
     "output_type": "display_data"
    }
   ],
   "source": [
    "analytics_hist_add(df_money_smart, df_money_ultra, np.std, 'Распределение суммы платежа, стандартное отклонение')"
   ]
  },
  {
   "cell_type": "markdown",
   "id": "d91e55e6",
   "metadata": {},
   "source": [
    "analytics_hist_add(df_internet_smart, df_internet_ultra, np.var, 'Распределение суммы платежа, дисперсия')"
   ]
  },
  {
   "cell_type": "markdown",
   "id": "47af0748",
   "metadata": {},
   "source": [
    "Итак, мы поняли, что не смотря на среднее количество потраченных минут, СМС и потребленного интернет-трафика (которые ниже лимитов тарифа \"Смарт\"), часть пользователей вынуждена пользоваться платными услугами; это вызывает переплату в разы, но все равно это меньше, чем цена пакета \"Ультра\".\n",
    "\n",
    "Пользователи \"Ультра\", в общем и целом, укладываются в предоплаченные услуги, а если нет, доплачиват немного, в районе 50-ти рублей."
   ]
  },
  {
   "cell_type": "markdown",
   "id": "304aedb4",
   "metadata": {},
   "source": [
    "## Проверка гипотез"
   ]
  },
  {
   "cell_type": "markdown",
   "id": "9913cf0f",
   "metadata": {},
   "source": [
    "Итак, у нас есть две таблицы `df_money_ultra` и `df_money_smart` с выручкой пользователей помесячно. Добавим стобец `total`, чтобы получить выручку за год для каждого пользователя."
   ]
  },
  {
   "cell_type": "code",
   "execution_count": 51,
   "id": "ebeba296",
   "metadata": {},
   "outputs": [
    {
     "data": {
      "text/html": [
       "<div>\n",
       "<style scoped>\n",
       "    .dataframe tbody tr th:only-of-type {\n",
       "        vertical-align: middle;\n",
       "    }\n",
       "\n",
       "    .dataframe tbody tr th {\n",
       "        vertical-align: top;\n",
       "    }\n",
       "\n",
       "    .dataframe thead th {\n",
       "        text-align: right;\n",
       "    }\n",
       "</style>\n",
       "<table border=\"1\" class=\"dataframe\">\n",
       "  <thead>\n",
       "    <tr style=\"text-align: right;\">\n",
       "      <th></th>\n",
       "      <th>tariff</th>\n",
       "      <th>user_id</th>\n",
       "      <th>1</th>\n",
       "      <th>2</th>\n",
       "      <th>3</th>\n",
       "      <th>4</th>\n",
       "      <th>5</th>\n",
       "      <th>6</th>\n",
       "      <th>7</th>\n",
       "      <th>8</th>\n",
       "      <th>9</th>\n",
       "      <th>10</th>\n",
       "      <th>11</th>\n",
       "      <th>12</th>\n",
       "      <th>total</th>\n",
       "    </tr>\n",
       "  </thead>\n",
       "  <tbody>\n",
       "    <tr>\n",
       "      <th>495</th>\n",
       "      <td>ultra</td>\n",
       "      <td>1476</td>\n",
       "      <td>0.0</td>\n",
       "      <td>0.0</td>\n",
       "      <td>0.0</td>\n",
       "      <td>1950.0</td>\n",
       "      <td>1950.0</td>\n",
       "      <td>1950.0</td>\n",
       "      <td>1950.0</td>\n",
       "      <td>1950.0</td>\n",
       "      <td>1950.0</td>\n",
       "      <td>1950.0</td>\n",
       "      <td>1950.0</td>\n",
       "      <td>1950.0</td>\n",
       "      <td>17550.0</td>\n",
       "    </tr>\n",
       "    <tr>\n",
       "      <th>496</th>\n",
       "      <td>ultra</td>\n",
       "      <td>1485</td>\n",
       "      <td>0.0</td>\n",
       "      <td>0.0</td>\n",
       "      <td>0.0</td>\n",
       "      <td>0.0</td>\n",
       "      <td>0.0</td>\n",
       "      <td>0.0</td>\n",
       "      <td>0.0</td>\n",
       "      <td>0.0</td>\n",
       "      <td>0.0</td>\n",
       "      <td>0.0</td>\n",
       "      <td>0.0</td>\n",
       "      <td>1950.0</td>\n",
       "      <td>1950.0</td>\n",
       "    </tr>\n",
       "    <tr>\n",
       "      <th>497</th>\n",
       "      <td>ultra</td>\n",
       "      <td>1491</td>\n",
       "      <td>0.0</td>\n",
       "      <td>0.0</td>\n",
       "      <td>0.0</td>\n",
       "      <td>1950.0</td>\n",
       "      <td>1950.0</td>\n",
       "      <td>1950.0</td>\n",
       "      <td>1950.0</td>\n",
       "      <td>1950.0</td>\n",
       "      <td>1950.0</td>\n",
       "      <td>1950.0</td>\n",
       "      <td>1950.0</td>\n",
       "      <td>1950.0</td>\n",
       "      <td>17550.0</td>\n",
       "    </tr>\n",
       "    <tr>\n",
       "      <th>498</th>\n",
       "      <td>ultra</td>\n",
       "      <td>1493</td>\n",
       "      <td>0.0</td>\n",
       "      <td>0.0</td>\n",
       "      <td>0.0</td>\n",
       "      <td>0.0</td>\n",
       "      <td>0.0</td>\n",
       "      <td>0.0</td>\n",
       "      <td>0.0</td>\n",
       "      <td>0.0</td>\n",
       "      <td>0.0</td>\n",
       "      <td>0.0</td>\n",
       "      <td>1950.0</td>\n",
       "      <td>3750.0</td>\n",
       "      <td>5700.0</td>\n",
       "    </tr>\n",
       "    <tr>\n",
       "      <th>499</th>\n",
       "      <td>ultra</td>\n",
       "      <td>1495</td>\n",
       "      <td>0.0</td>\n",
       "      <td>0.0</td>\n",
       "      <td>0.0</td>\n",
       "      <td>0.0</td>\n",
       "      <td>0.0</td>\n",
       "      <td>0.0</td>\n",
       "      <td>0.0</td>\n",
       "      <td>1950.0</td>\n",
       "      <td>2400.0</td>\n",
       "      <td>1950.0</td>\n",
       "      <td>3300.0</td>\n",
       "      <td>1950.0</td>\n",
       "      <td>11550.0</td>\n",
       "    </tr>\n",
       "  </tbody>\n",
       "</table>\n",
       "</div>"
      ],
      "text/plain": [
       "    tariff  user_id    1    2    3       4       5       6       7       8  \\\n",
       "495  ultra     1476  0.0  0.0  0.0  1950.0  1950.0  1950.0  1950.0  1950.0   \n",
       "496  ultra     1485  0.0  0.0  0.0     0.0     0.0     0.0     0.0     0.0   \n",
       "497  ultra     1491  0.0  0.0  0.0  1950.0  1950.0  1950.0  1950.0  1950.0   \n",
       "498  ultra     1493  0.0  0.0  0.0     0.0     0.0     0.0     0.0     0.0   \n",
       "499  ultra     1495  0.0  0.0  0.0     0.0     0.0     0.0     0.0  1950.0   \n",
       "\n",
       "          9      10      11      12    total  \n",
       "495  1950.0  1950.0  1950.0  1950.0  17550.0  \n",
       "496     0.0     0.0     0.0  1950.0   1950.0  \n",
       "497  1950.0  1950.0  1950.0  1950.0  17550.0  \n",
       "498     0.0     0.0  1950.0  3750.0   5700.0  \n",
       "499  2400.0  1950.0  3300.0  1950.0  11550.0  "
      ]
     },
     "execution_count": 51,
     "metadata": {},
     "output_type": "execute_result"
    }
   ],
   "source": [
    "df_money_ultra['total'] = df_money_ultra.iloc[:,2:14].sum(axis=1)\n",
    "df_money_ultra.tail(5)"
   ]
  },
  {
   "cell_type": "code",
   "execution_count": 52,
   "id": "173c6474",
   "metadata": {},
   "outputs": [
    {
     "data": {
      "text/html": [
       "<div>\n",
       "<style scoped>\n",
       "    .dataframe tbody tr th:only-of-type {\n",
       "        vertical-align: middle;\n",
       "    }\n",
       "\n",
       "    .dataframe tbody tr th {\n",
       "        vertical-align: top;\n",
       "    }\n",
       "\n",
       "    .dataframe thead th {\n",
       "        text-align: right;\n",
       "    }\n",
       "</style>\n",
       "<table border=\"1\" class=\"dataframe\">\n",
       "  <thead>\n",
       "    <tr style=\"text-align: right;\">\n",
       "      <th></th>\n",
       "      <th>tariff</th>\n",
       "      <th>user_id</th>\n",
       "      <th>1</th>\n",
       "      <th>2</th>\n",
       "      <th>3</th>\n",
       "      <th>4</th>\n",
       "      <th>5</th>\n",
       "      <th>6</th>\n",
       "      <th>7</th>\n",
       "      <th>8</th>\n",
       "      <th>9</th>\n",
       "      <th>10</th>\n",
       "      <th>11</th>\n",
       "      <th>12</th>\n",
       "      <th>total</th>\n",
       "    </tr>\n",
       "  </thead>\n",
       "  <tbody>\n",
       "    <tr>\n",
       "      <th>346</th>\n",
       "      <td>smart</td>\n",
       "      <td>1494</td>\n",
       "      <td>0.0</td>\n",
       "      <td>0.0</td>\n",
       "      <td>0.0</td>\n",
       "      <td>0.0</td>\n",
       "      <td>0.0</td>\n",
       "      <td>0.0</td>\n",
       "      <td>0.0</td>\n",
       "      <td>550.0</td>\n",
       "      <td>953.0</td>\n",
       "      <td>1150.0</td>\n",
       "      <td>1150.0</td>\n",
       "      <td>1150.0</td>\n",
       "      <td>4953.0</td>\n",
       "    </tr>\n",
       "    <tr>\n",
       "      <th>347</th>\n",
       "      <td>smart</td>\n",
       "      <td>1496</td>\n",
       "      <td>550.0</td>\n",
       "      <td>3432.0</td>\n",
       "      <td>2721.0</td>\n",
       "      <td>1813.0</td>\n",
       "      <td>2350.0</td>\n",
       "      <td>1715.0</td>\n",
       "      <td>2596.0</td>\n",
       "      <td>2231.0</td>\n",
       "      <td>2950.0</td>\n",
       "      <td>3150.0</td>\n",
       "      <td>3036.0</td>\n",
       "      <td>1807.0</td>\n",
       "      <td>28351.0</td>\n",
       "    </tr>\n",
       "    <tr>\n",
       "      <th>348</th>\n",
       "      <td>smart</td>\n",
       "      <td>1497</td>\n",
       "      <td>0.0</td>\n",
       "      <td>0.0</td>\n",
       "      <td>0.0</td>\n",
       "      <td>0.0</td>\n",
       "      <td>0.0</td>\n",
       "      <td>0.0</td>\n",
       "      <td>0.0</td>\n",
       "      <td>0.0</td>\n",
       "      <td>0.0</td>\n",
       "      <td>550.0</td>\n",
       "      <td>550.0</td>\n",
       "      <td>1685.0</td>\n",
       "      <td>2785.0</td>\n",
       "    </tr>\n",
       "    <tr>\n",
       "      <th>349</th>\n",
       "      <td>smart</td>\n",
       "      <td>1498</td>\n",
       "      <td>0.0</td>\n",
       "      <td>0.0</td>\n",
       "      <td>0.0</td>\n",
       "      <td>0.0</td>\n",
       "      <td>0.0</td>\n",
       "      <td>0.0</td>\n",
       "      <td>550.0</td>\n",
       "      <td>2386.0</td>\n",
       "      <td>1950.0</td>\n",
       "      <td>1750.0</td>\n",
       "      <td>0.0</td>\n",
       "      <td>0.0</td>\n",
       "      <td>6636.0</td>\n",
       "    </tr>\n",
       "    <tr>\n",
       "      <th>350</th>\n",
       "      <td>smart</td>\n",
       "      <td>1499</td>\n",
       "      <td>0.0</td>\n",
       "      <td>0.0</td>\n",
       "      <td>0.0</td>\n",
       "      <td>0.0</td>\n",
       "      <td>0.0</td>\n",
       "      <td>0.0</td>\n",
       "      <td>0.0</td>\n",
       "      <td>0.0</td>\n",
       "      <td>550.0</td>\n",
       "      <td>1150.0</td>\n",
       "      <td>1513.0</td>\n",
       "      <td>598.0</td>\n",
       "      <td>3811.0</td>\n",
       "    </tr>\n",
       "  </tbody>\n",
       "</table>\n",
       "</div>"
      ],
      "text/plain": [
       "    tariff  user_id      1       2       3       4       5       6       7  \\\n",
       "346  smart     1494    0.0     0.0     0.0     0.0     0.0     0.0     0.0   \n",
       "347  smart     1496  550.0  3432.0  2721.0  1813.0  2350.0  1715.0  2596.0   \n",
       "348  smart     1497    0.0     0.0     0.0     0.0     0.0     0.0     0.0   \n",
       "349  smart     1498    0.0     0.0     0.0     0.0     0.0     0.0   550.0   \n",
       "350  smart     1499    0.0     0.0     0.0     0.0     0.0     0.0     0.0   \n",
       "\n",
       "          8       9      10      11      12    total  \n",
       "346   550.0   953.0  1150.0  1150.0  1150.0   4953.0  \n",
       "347  2231.0  2950.0  3150.0  3036.0  1807.0  28351.0  \n",
       "348     0.0     0.0   550.0   550.0  1685.0   2785.0  \n",
       "349  2386.0  1950.0  1750.0     0.0     0.0   6636.0  \n",
       "350     0.0   550.0  1150.0  1513.0   598.0   3811.0  "
      ]
     },
     "execution_count": 52,
     "metadata": {},
     "output_type": "execute_result"
    }
   ],
   "source": [
    "df_money_smart['total'] = df_money_smart.iloc[:,2:14].sum(axis=1)\n",
    "df_money_smart.tail(5)"
   ]
  },
  {
   "cell_type": "markdown",
   "id": "4abdbcb9",
   "metadata": {},
   "source": [
    "Смотрим выбросы: строим гисторамму  и смотрим распределения."
   ]
  },
  {
   "cell_type": "code",
   "execution_count": 53,
   "id": "5c00a87a",
   "metadata": {},
   "outputs": [
    {
     "data": {
      "text/html": [
       "<div>\n",
       "<style scoped>\n",
       "    .dataframe tbody tr th:only-of-type {\n",
       "        vertical-align: middle;\n",
       "    }\n",
       "\n",
       "    .dataframe tbody tr th {\n",
       "        vertical-align: top;\n",
       "    }\n",
       "\n",
       "    .dataframe thead th {\n",
       "        text-align: right;\n",
       "    }\n",
       "</style>\n",
       "<table border=\"1\" class=\"dataframe\">\n",
       "  <thead>\n",
       "    <tr style=\"text-align: right;\">\n",
       "      <th></th>\n",
       "      <th>count</th>\n",
       "      <th>mean</th>\n",
       "      <th>std</th>\n",
       "      <th>min</th>\n",
       "      <th>25%</th>\n",
       "      <th>50%</th>\n",
       "      <th>75%</th>\n",
       "      <th>max</th>\n",
       "    </tr>\n",
       "    <tr>\n",
       "      <th>tariff</th>\n",
       "      <th></th>\n",
       "      <th></th>\n",
       "      <th></th>\n",
       "      <th></th>\n",
       "      <th></th>\n",
       "      <th></th>\n",
       "      <th></th>\n",
       "      <th></th>\n",
       "    </tr>\n",
       "  </thead>\n",
       "  <tbody>\n",
       "    <tr>\n",
       "      <th>smart</th>\n",
       "      <td>351.0</td>\n",
       "      <td>8193.0</td>\n",
       "      <td>5412.0</td>\n",
       "      <td>550.0</td>\n",
       "      <td>4188.0</td>\n",
       "      <td>7250.0</td>\n",
       "      <td>11199.0</td>\n",
       "      <td>28351.0</td>\n",
       "    </tr>\n",
       "  </tbody>\n",
       "</table>\n",
       "</div>"
      ],
      "text/plain": [
       "        count    mean     std    min     25%     50%      75%      max\n",
       "tariff                                                                \n",
       "smart   351.0  8193.0  5412.0  550.0  4188.0  7250.0  11199.0  28351.0"
      ]
     },
     "execution_count": 53,
     "metadata": {},
     "output_type": "execute_result"
    }
   ],
   "source": [
    "df_money_smart.groupby('tariff')['total'].describe().round()"
   ]
  },
  {
   "cell_type": "code",
   "execution_count": 54,
   "id": "0d6d291f",
   "metadata": {},
   "outputs": [
    {
     "data": {
      "image/png": "[encoded data removed]",
      "text/plain": [
       "<Figure size 640x480 with 1 Axes>"
      ]
     },
     "metadata": {},
     "output_type": "display_data"
    }
   ],
   "source": [
    "df_money_smart.total.hist(bins=100, range=(550,28500))\n",
    "plt.title('Распределение сумм выручки, тариф  Смарт, руб.', loc = 'left')\n",
    "plt.show()"
   ]
  },
  {
   "cell_type": "markdown",
   "id": "69aaf1e0",
   "metadata": {},
   "source": [
    "График показывает, что потребление платных услуг в тарифе \"Смарт\" - обычное явление. "
   ]
  },
  {
   "cell_type": "code",
   "execution_count": 55,
   "id": "00dc751e",
   "metadata": {},
   "outputs": [
    {
     "data": {
      "image/png": "[encoded data removed]",
      "text/plain": [
       "<Figure size 640x480 with 1 Axes>"
      ]
     },
     "metadata": {},
     "output_type": "display_data"
    }
   ],
   "source": [
    "sns.distplot(df_money_smart['total'])    # проверяем распределение на нормальность\n",
    "plt.title('Проверка нормальности распределения (выручка Смарт, руб.)', loc = 'left')\n",
    "plt.show()"
   ]
  },
  {
   "cell_type": "code",
   "execution_count": 56,
   "id": "bbf8455e",
   "metadata": {},
   "outputs": [
    {
     "data": {
      "text/html": [
       "<div>\n",
       "<style scoped>\n",
       "    .dataframe tbody tr th:only-of-type {\n",
       "        vertical-align: middle;\n",
       "    }\n",
       "\n",
       "    .dataframe tbody tr th {\n",
       "        vertical-align: top;\n",
       "    }\n",
       "\n",
       "    .dataframe thead th {\n",
       "        text-align: right;\n",
       "    }\n",
       "</style>\n",
       "<table border=\"1\" class=\"dataframe\">\n",
       "  <thead>\n",
       "    <tr style=\"text-align: right;\">\n",
       "      <th></th>\n",
       "      <th>count</th>\n",
       "      <th>mean</th>\n",
       "      <th>std</th>\n",
       "      <th>min</th>\n",
       "      <th>25%</th>\n",
       "      <th>50%</th>\n",
       "      <th>75%</th>\n",
       "      <th>max</th>\n",
       "    </tr>\n",
       "    <tr>\n",
       "      <th>tariff</th>\n",
       "      <th></th>\n",
       "      <th></th>\n",
       "      <th></th>\n",
       "      <th></th>\n",
       "      <th></th>\n",
       "      <th></th>\n",
       "      <th></th>\n",
       "      <th></th>\n",
       "    </tr>\n",
       "  </thead>\n",
       "  <tbody>\n",
       "    <tr>\n",
       "      <th>ultra</th>\n",
       "      <td>149.0</td>\n",
       "      <td>13698.0</td>\n",
       "      <td>6912.0</td>\n",
       "      <td>1950.0</td>\n",
       "      <td>7800.0</td>\n",
       "      <td>13650.0</td>\n",
       "      <td>19500.0</td>\n",
       "      <td>32400.0</td>\n",
       "    </tr>\n",
       "  </tbody>\n",
       "</table>\n",
       "</div>"
      ],
      "text/plain": [
       "        count     mean     std     min     25%      50%      75%      max\n",
       "tariff                                                                   \n",
       "ultra   149.0  13698.0  6912.0  1950.0  7800.0  13650.0  19500.0  32400.0"
      ]
     },
     "execution_count": 56,
     "metadata": {},
     "output_type": "execute_result"
    }
   ],
   "source": [
    "df_money_ultra.groupby('tariff')['total'].describe().round()"
   ]
  },
  {
   "cell_type": "code",
   "execution_count": 57,
   "id": "deec73e5",
   "metadata": {},
   "outputs": [
    {
     "data": {
      "image/png": "[encoded data removed]",
      "text/plain": [
       "<Figure size 640x480 with 1 Axes>"
      ]
     },
     "metadata": {},
     "output_type": "display_data"
    }
   ],
   "source": [
    "df_money_ultra.total.hist(bins=100, range=(1950,32500))\n",
    "plt.title('Распределение сумм выручки, тариф  Ультра, руб.', loc = 'left')\n",
    "plt.show()"
   ]
  },
  {
   "cell_type": "markdown",
   "id": "e5c95b30",
   "metadata": {},
   "source": [
    "Мы видим пики, котрые кратны размеру абон. платы, что говорит о том, что предоплаченных услуг тарифа \"Ультра\" практически всегда достаточно."
   ]
  },
  {
   "cell_type": "code",
   "execution_count": 58,
   "id": "4e6d5a33",
   "metadata": {},
   "outputs": [
    {
     "data": {
      "image/png": "[encoded data removed]",
      "text/plain": [
       "<Figure size 640x480 with 1 Axes>"
      ]
     },
     "metadata": {},
     "output_type": "display_data"
    }
   ],
   "source": [
    "sns.distplot(df_money_ultra['total'])\n",
    "plt.title('Проверка нормальности распределения (выручка Ультра, руб.)', loc = 'left')\n",
    "plt.show()"
   ]
  },
  {
   "cell_type": "code",
   "execution_count": 59,
   "id": "15ed2667",
   "metadata": {},
   "outputs": [
    {
     "data": {
      "text/plain": [
       "(143, 15)"
      ]
     },
     "execution_count": 59,
     "metadata": {},
     "output_type": "execute_result"
    }
   ],
   "source": [
    "df_money_ultra = df_money_ultra.query('total <= 24000')\n",
    "df_money_ultra.shape"
   ]
  },
  {
   "cell_type": "markdown",
   "id": "f265b017",
   "metadata": {},
   "source": [
    "### * проверка первой гипотезы"
   ]
  },
  {
   "cell_type": "markdown",
   "id": "bfa592d1",
   "metadata": {},
   "source": [
    "<p>Введем основную и альтернативные гипотезы:</p>\n",
    "\n",
    "$\\begin{equation*}\n",
    " \\begin{cases}\n",
    "   H_0 :\\text{средняя выручка пользователей тарифов «Ультра» и «Смарт» одинакова}\\\\\n",
    "   H_1 :\\text{средняя выручка пользователей тарифов «Ультра» и «Смарт» различаются}\n",
    " \\end{cases}\n",
    "\\end{equation*}$\n",
    "\n",
    "Уровень значимости: $\\alpha = 0.05$ \n",
    "\n",
    "Посчитаем p-value, используя `ttest` из библиотеки `scipy` для сравнения средних двух выборок.\n",
    "\n",
    "У нас разные по размеру выборки (пользователей тарифа \"Смарт\" в два раза больше, чем пользователей тарифа \"Ультра\").\n",
    "Для подтверждения гипотезы о равенстве среднего двух генеральных совокупностей по взятым из них выборкам иcпользуется метод `st.stats.ttest_ind`, так же мы будем использовать параметр `equal_var=False`, т.к. есть сомнения по поводу нормального распределения дисперсий (если судить по гистограмме п.4.4).\n",
    "\n",
    "Если p-value будет меньше выбранного уровня значимости $\\alpha = 0.05$, то нулевую гипотезу о равенстве средних отвергнем. В противном случае делаем вывод, что данные не позволили нам отвергнуть нулевую гипотезу."
   ]
  },
  {
   "cell_type": "code",
   "execution_count": 60,
   "id": "ec2c546d",
   "metadata": {},
   "outputs": [
    {
     "name": "stdout",
     "output_type": "stream",
     "text": [
      "p-значение:  3.497011826267894e-14\n",
      "Отвергаем нулевую гипотезу\n"
     ]
    }
   ],
   "source": [
    "alpha = .05 # критический уровень статистической значимости\n",
    "\n",
    "results = st.stats.ttest_ind(df_money_ultra['total'], df_money_smart['total'], equal_var=False)\n",
    "\n",
    "print('p-значение: ', results.pvalue)    # тест двухсторонний\n",
    "if results.pvalue < alpha:\n",
    "    print(\"Отвергаем нулевую гипотезу\")\n",
    "else:\n",
    "    print(\"Не получилось отвергнуть нулевую гипотезу\")"
   ]
  },
  {
   "cell_type": "markdown",
   "id": "559f5a2b",
   "metadata": {},
   "source": [
    "**Вывод:** \n",
    "\n",
    "p-value получилось меньше выбранного уровня 𝛼=0.05. Отвергаем нулевую гипотезу, т.к. средние выручки пользователей тарифов «Ультра» и «Смарт» различаются."
   ]
  },
  {
   "cell_type": "markdown",
   "id": "66ded753",
   "metadata": {},
   "source": [
    "_______\n",
    "Проверим еще одну теорию.\n",
    "\n",
    "<p>Введем основную и альтернативные гипотезы:</p>\n",
    "\n",
    "$\\begin{equation*}\n",
    " \\begin{cases}\n",
    "   H_0 :\\text{средняя выручка пользователей тарифов «Ультра» и «Смарт» одинакова}\\\\\n",
    "   H_1 :\\text{средняя выручка пользователей тарифа «Ультра» больше, чем средняя выручка пользователей тарифа «Смарт»}\n",
    " \\end{cases}\n",
    "\\end{equation*}$"
   ]
  },
  {
   "cell_type": "code",
   "execution_count": 61,
   "id": "0c740e7f",
   "metadata": {},
   "outputs": [
    {
     "name": "stdout",
     "output_type": "stream",
     "text": [
      "p-значение:  1.748505913133947e-14\n",
      "Отвергаем нулевую гипотезу\n"
     ]
    }
   ],
   "source": [
    "alpha = .05 # критический уровень статистической значимости\n",
    "\n",
    "results = st.stats.ttest_ind(df_money_ultra['total'], df_money_smart['total'], equal_var=False)\n",
    "\n",
    "# тест односторонний: p-value будет в два раза меньше\n",
    "print('p-значение: ', results.pvalue / 2)\n",
    "\n",
    "# тест односторонний влево:\n",
    "# отвергаем гипотезу только если выборочное среднее значимо меньше предполагаемого значения\n",
    "if (results.pvalue / 2 < alpha) and (df_money_ultra['total'].mean() > df_money_smart['total'].mean()):\n",
    "    print(\"Отвергаем нулевую гипотезу\")\n",
    "else:\n",
    "    print(\"Не получилось отвергнуть нулевую гипотезу\")"
   ]
  },
  {
   "cell_type": "markdown",
   "id": "57bb394a",
   "metadata": {},
   "source": [
    "**Вывод:** \n",
    "\n",
    "p-value получилось меньше выбранного уровня 𝛼=0.05. Отвергаем нулевую гипотезу, средняя выручка пользователей тарифа «Ультра» больше, чем средняя выручка пользователей тарифа «Смарт»."
   ]
  },
  {
   "cell_type": "markdown",
   "id": "ce34c243",
   "metadata": {},
   "source": [
    "### * проверка второй гипотезы"
   ]
  },
  {
   "cell_type": "markdown",
   "id": "c2f0f174",
   "metadata": {},
   "source": [
    "####  выручка по локациям"
   ]
  },
  {
   "cell_type": "markdown",
   "id": "81eb82b5",
   "metadata": {},
   "source": [
    "Сделаем отдельную таблицу `users_dict_city`, которая будет содержать только id пользователей и город их проживаня и объединим ее с таблицей `df_money`."
   ]
  },
  {
   "cell_type": "code",
   "execution_count": 62,
   "id": "626037a3",
   "metadata": {},
   "outputs": [
    {
     "data": {
      "text/html": [
       "<div>\n",
       "<style scoped>\n",
       "    .dataframe tbody tr th:only-of-type {\n",
       "        vertical-align: middle;\n",
       "    }\n",
       "\n",
       "    .dataframe tbody tr th {\n",
       "        vertical-align: top;\n",
       "    }\n",
       "\n",
       "    .dataframe thead th {\n",
       "        text-align: right;\n",
       "    }\n",
       "</style>\n",
       "<table border=\"1\" class=\"dataframe\">\n",
       "  <thead>\n",
       "    <tr style=\"text-align: right;\">\n",
       "      <th></th>\n",
       "      <th>tariff</th>\n",
       "      <th>user_id</th>\n",
       "      <th>1</th>\n",
       "      <th>2</th>\n",
       "      <th>3</th>\n",
       "      <th>4</th>\n",
       "      <th>5</th>\n",
       "      <th>6</th>\n",
       "      <th>7</th>\n",
       "      <th>8</th>\n",
       "      <th>9</th>\n",
       "      <th>10</th>\n",
       "      <th>11</th>\n",
       "      <th>12</th>\n",
       "      <th>city</th>\n",
       "    </tr>\n",
       "  </thead>\n",
       "  <tbody>\n",
       "    <tr>\n",
       "      <th>497</th>\n",
       "      <td>ultra</td>\n",
       "      <td>1491</td>\n",
       "      <td>0.0</td>\n",
       "      <td>0.0</td>\n",
       "      <td>0.0</td>\n",
       "      <td>1950.0</td>\n",
       "      <td>1950.0</td>\n",
       "      <td>1950.0</td>\n",
       "      <td>1950.0</td>\n",
       "      <td>1950.0</td>\n",
       "      <td>1950.0</td>\n",
       "      <td>1950.0</td>\n",
       "      <td>1950.0</td>\n",
       "      <td>1950.0</td>\n",
       "      <td>Челябинск</td>\n",
       "    </tr>\n",
       "    <tr>\n",
       "      <th>498</th>\n",
       "      <td>ultra</td>\n",
       "      <td>1493</td>\n",
       "      <td>0.0</td>\n",
       "      <td>0.0</td>\n",
       "      <td>0.0</td>\n",
       "      <td>0.0</td>\n",
       "      <td>0.0</td>\n",
       "      <td>0.0</td>\n",
       "      <td>0.0</td>\n",
       "      <td>0.0</td>\n",
       "      <td>0.0</td>\n",
       "      <td>0.0</td>\n",
       "      <td>1950.0</td>\n",
       "      <td>3750.0</td>\n",
       "      <td>Красноярск</td>\n",
       "    </tr>\n",
       "    <tr>\n",
       "      <th>499</th>\n",
       "      <td>ultra</td>\n",
       "      <td>1495</td>\n",
       "      <td>0.0</td>\n",
       "      <td>0.0</td>\n",
       "      <td>0.0</td>\n",
       "      <td>0.0</td>\n",
       "      <td>0.0</td>\n",
       "      <td>0.0</td>\n",
       "      <td>0.0</td>\n",
       "      <td>1950.0</td>\n",
       "      <td>2400.0</td>\n",
       "      <td>1950.0</td>\n",
       "      <td>3300.0</td>\n",
       "      <td>1950.0</td>\n",
       "      <td>Иркутск</td>\n",
       "    </tr>\n",
       "  </tbody>\n",
       "</table>\n",
       "</div>"
      ],
      "text/plain": [
       "    tariff  user_id    1    2    3       4       5       6       7       8  \\\n",
       "497  ultra     1491  0.0  0.0  0.0  1950.0  1950.0  1950.0  1950.0  1950.0   \n",
       "498  ultra     1493  0.0  0.0  0.0     0.0     0.0     0.0     0.0     0.0   \n",
       "499  ultra     1495  0.0  0.0  0.0     0.0     0.0     0.0     0.0  1950.0   \n",
       "\n",
       "          9      10      11      12        city  \n",
       "497  1950.0  1950.0  1950.0  1950.0   Челябинск  \n",
       "498     0.0     0.0  1950.0  3750.0  Красноярск  \n",
       "499  2400.0  1950.0  3300.0  1950.0     Иркутск  "
      ]
     },
     "execution_count": 62,
     "metadata": {},
     "output_type": "execute_result"
    }
   ],
   "source": [
    "users_dict_city = users[['user_id','city']]\n",
    "\n",
    "df_money_city = df_money.merge(users_dict_city, on='user_id', how='left')\n",
    "df_money_city.tail(3)"
   ]
  },
  {
   "cell_type": "code",
   "execution_count": 63,
   "id": "6c748445",
   "metadata": {},
   "outputs": [],
   "source": [
    "df_money_city['total'] = df_money_city.iloc[:,2:14].sum(axis=1)    # добавляем столбец total"
   ]
  },
  {
   "cell_type": "code",
   "execution_count": 64,
   "id": "d875f339",
   "metadata": {},
   "outputs": [
    {
     "data": {
      "text/html": [
       "<div>\n",
       "<style scoped>\n",
       "    .dataframe tbody tr th:only-of-type {\n",
       "        vertical-align: middle;\n",
       "    }\n",
       "\n",
       "    .dataframe tbody tr th {\n",
       "        vertical-align: top;\n",
       "    }\n",
       "\n",
       "    .dataframe thead th {\n",
       "        text-align: right;\n",
       "    }\n",
       "</style>\n",
       "<table border=\"1\" class=\"dataframe\">\n",
       "  <thead>\n",
       "    <tr style=\"text-align: right;\">\n",
       "      <th></th>\n",
       "      <th>tariff</th>\n",
       "      <th>user_id</th>\n",
       "      <th>1</th>\n",
       "      <th>2</th>\n",
       "      <th>3</th>\n",
       "      <th>4</th>\n",
       "      <th>5</th>\n",
       "      <th>6</th>\n",
       "      <th>7</th>\n",
       "      <th>8</th>\n",
       "      <th>9</th>\n",
       "      <th>10</th>\n",
       "      <th>11</th>\n",
       "      <th>12</th>\n",
       "      <th>city</th>\n",
       "      <th>total</th>\n",
       "    </tr>\n",
       "  </thead>\n",
       "  <tbody>\n",
       "    <tr>\n",
       "      <th>484</th>\n",
       "      <td>ultra</td>\n",
       "      <td>1453</td>\n",
       "      <td>1950.0</td>\n",
       "      <td>1950.0</td>\n",
       "      <td>1950.0</td>\n",
       "      <td>1950.0</td>\n",
       "      <td>1950.0</td>\n",
       "      <td>1950.0</td>\n",
       "      <td>1950.0</td>\n",
       "      <td>1950.0</td>\n",
       "      <td>1950.0</td>\n",
       "      <td>1950.0</td>\n",
       "      <td>1950.0</td>\n",
       "      <td>1950.0</td>\n",
       "      <td>Москва</td>\n",
       "      <td>23400.0</td>\n",
       "    </tr>\n",
       "    <tr>\n",
       "      <th>487</th>\n",
       "      <td>ultra</td>\n",
       "      <td>1461</td>\n",
       "      <td>0.0</td>\n",
       "      <td>0.0</td>\n",
       "      <td>0.0</td>\n",
       "      <td>0.0</td>\n",
       "      <td>0.0</td>\n",
       "      <td>0.0</td>\n",
       "      <td>0.0</td>\n",
       "      <td>0.0</td>\n",
       "      <td>0.0</td>\n",
       "      <td>0.0</td>\n",
       "      <td>1950.0</td>\n",
       "      <td>1950.0</td>\n",
       "      <td>Москва</td>\n",
       "      <td>3900.0</td>\n",
       "    </tr>\n",
       "    <tr>\n",
       "      <th>495</th>\n",
       "      <td>ultra</td>\n",
       "      <td>1476</td>\n",
       "      <td>0.0</td>\n",
       "      <td>0.0</td>\n",
       "      <td>0.0</td>\n",
       "      <td>1950.0</td>\n",
       "      <td>1950.0</td>\n",
       "      <td>1950.0</td>\n",
       "      <td>1950.0</td>\n",
       "      <td>1950.0</td>\n",
       "      <td>1950.0</td>\n",
       "      <td>1950.0</td>\n",
       "      <td>1950.0</td>\n",
       "      <td>1950.0</td>\n",
       "      <td>Москва</td>\n",
       "      <td>17550.0</td>\n",
       "    </tr>\n",
       "  </tbody>\n",
       "</table>\n",
       "</div>"
      ],
      "text/plain": [
       "    tariff  user_id       1       2       3       4       5       6       7  \\\n",
       "484  ultra     1453  1950.0  1950.0  1950.0  1950.0  1950.0  1950.0  1950.0   \n",
       "487  ultra     1461     0.0     0.0     0.0     0.0     0.0     0.0     0.0   \n",
       "495  ultra     1476     0.0     0.0     0.0  1950.0  1950.0  1950.0  1950.0   \n",
       "\n",
       "          8       9      10      11      12    city    total  \n",
       "484  1950.0  1950.0  1950.0  1950.0  1950.0  Москва  23400.0  \n",
       "487     0.0     0.0     0.0  1950.0  1950.0  Москва   3900.0  \n",
       "495  1950.0  1950.0  1950.0  1950.0  1950.0  Москва  17550.0  "
      ]
     },
     "execution_count": 64,
     "metadata": {},
     "output_type": "execute_result"
    }
   ],
   "source": [
    "df_money_moscow = df_money_city[df_money_city['city'] == 'Москва']     # выручка от пользователей Москвы\n",
    "df_money_moscow.tail(3)"
   ]
  },
  {
   "cell_type": "code",
   "execution_count": 65,
   "id": "3dc6dee0",
   "metadata": {},
   "outputs": [
    {
     "data": {
      "text/html": [
       "<div>\n",
       "<style scoped>\n",
       "    .dataframe tbody tr th:only-of-type {\n",
       "        vertical-align: middle;\n",
       "    }\n",
       "\n",
       "    .dataframe tbody tr th {\n",
       "        vertical-align: top;\n",
       "    }\n",
       "\n",
       "    .dataframe thead th {\n",
       "        text-align: right;\n",
       "    }\n",
       "</style>\n",
       "<table border=\"1\" class=\"dataframe\">\n",
       "  <thead>\n",
       "    <tr style=\"text-align: right;\">\n",
       "      <th></th>\n",
       "      <th>tariff</th>\n",
       "      <th>user_id</th>\n",
       "      <th>1</th>\n",
       "      <th>2</th>\n",
       "      <th>3</th>\n",
       "      <th>4</th>\n",
       "      <th>5</th>\n",
       "      <th>6</th>\n",
       "      <th>7</th>\n",
       "      <th>8</th>\n",
       "      <th>9</th>\n",
       "      <th>10</th>\n",
       "      <th>11</th>\n",
       "      <th>12</th>\n",
       "      <th>city</th>\n",
       "      <th>total</th>\n",
       "    </tr>\n",
       "  </thead>\n",
       "  <tbody>\n",
       "    <tr>\n",
       "      <th>497</th>\n",
       "      <td>ultra</td>\n",
       "      <td>1491</td>\n",
       "      <td>0.0</td>\n",
       "      <td>0.0</td>\n",
       "      <td>0.0</td>\n",
       "      <td>1950.0</td>\n",
       "      <td>1950.0</td>\n",
       "      <td>1950.0</td>\n",
       "      <td>1950.0</td>\n",
       "      <td>1950.0</td>\n",
       "      <td>1950.0</td>\n",
       "      <td>1950.0</td>\n",
       "      <td>1950.0</td>\n",
       "      <td>1950.0</td>\n",
       "      <td>Челябинск</td>\n",
       "      <td>17550.0</td>\n",
       "    </tr>\n",
       "    <tr>\n",
       "      <th>498</th>\n",
       "      <td>ultra</td>\n",
       "      <td>1493</td>\n",
       "      <td>0.0</td>\n",
       "      <td>0.0</td>\n",
       "      <td>0.0</td>\n",
       "      <td>0.0</td>\n",
       "      <td>0.0</td>\n",
       "      <td>0.0</td>\n",
       "      <td>0.0</td>\n",
       "      <td>0.0</td>\n",
       "      <td>0.0</td>\n",
       "      <td>0.0</td>\n",
       "      <td>1950.0</td>\n",
       "      <td>3750.0</td>\n",
       "      <td>Красноярск</td>\n",
       "      <td>5700.0</td>\n",
       "    </tr>\n",
       "    <tr>\n",
       "      <th>499</th>\n",
       "      <td>ultra</td>\n",
       "      <td>1495</td>\n",
       "      <td>0.0</td>\n",
       "      <td>0.0</td>\n",
       "      <td>0.0</td>\n",
       "      <td>0.0</td>\n",
       "      <td>0.0</td>\n",
       "      <td>0.0</td>\n",
       "      <td>0.0</td>\n",
       "      <td>1950.0</td>\n",
       "      <td>2400.0</td>\n",
       "      <td>1950.0</td>\n",
       "      <td>3300.0</td>\n",
       "      <td>1950.0</td>\n",
       "      <td>Иркутск</td>\n",
       "      <td>11550.0</td>\n",
       "    </tr>\n",
       "  </tbody>\n",
       "</table>\n",
       "</div>"
      ],
      "text/plain": [
       "    tariff  user_id    1    2    3       4       5       6       7       8  \\\n",
       "497  ultra     1491  0.0  0.0  0.0  1950.0  1950.0  1950.0  1950.0  1950.0   \n",
       "498  ultra     1493  0.0  0.0  0.0     0.0     0.0     0.0     0.0     0.0   \n",
       "499  ultra     1495  0.0  0.0  0.0     0.0     0.0     0.0     0.0  1950.0   \n",
       "\n",
       "          9      10      11      12        city    total  \n",
       "497  1950.0  1950.0  1950.0  1950.0   Челябинск  17550.0  \n",
       "498     0.0     0.0  1950.0  3750.0  Красноярск   5700.0  \n",
       "499  2400.0  1950.0  3300.0  1950.0     Иркутск  11550.0  "
      ]
     },
     "execution_count": 65,
     "metadata": {},
     "output_type": "execute_result"
    }
   ],
   "source": [
    "df_money_other = df_money_city[df_money_city['city'] != 'Москва']    # выручка от пользователей других городов\n",
    "df_money_other.tail(3)"
   ]
  },
  {
   "cell_type": "markdown",
   "id": "9376a382",
   "metadata": {},
   "source": [
    "Смотрим выбросы: строим гисторамму  и смотрим распределения."
   ]
  },
  {
   "cell_type": "code",
   "execution_count": 66,
   "id": "a400a4d3",
   "metadata": {},
   "outputs": [
    {
     "data": {
      "text/html": [
       "<div>\n",
       "<style scoped>\n",
       "    .dataframe tbody tr th:only-of-type {\n",
       "        vertical-align: middle;\n",
       "    }\n",
       "\n",
       "    .dataframe tbody tr th {\n",
       "        vertical-align: top;\n",
       "    }\n",
       "\n",
       "    .dataframe thead th {\n",
       "        text-align: right;\n",
       "    }\n",
       "</style>\n",
       "<table border=\"1\" class=\"dataframe\">\n",
       "  <thead>\n",
       "    <tr style=\"text-align: right;\">\n",
       "      <th></th>\n",
       "      <th>count</th>\n",
       "      <th>mean</th>\n",
       "      <th>std</th>\n",
       "      <th>min</th>\n",
       "      <th>25%</th>\n",
       "      <th>50%</th>\n",
       "      <th>75%</th>\n",
       "      <th>max</th>\n",
       "    </tr>\n",
       "    <tr>\n",
       "      <th>city</th>\n",
       "      <th></th>\n",
       "      <th></th>\n",
       "      <th></th>\n",
       "      <th></th>\n",
       "      <th></th>\n",
       "      <th></th>\n",
       "      <th></th>\n",
       "      <th></th>\n",
       "    </tr>\n",
       "  </thead>\n",
       "  <tbody>\n",
       "    <tr>\n",
       "      <th>Москва</th>\n",
       "      <td>99.0</td>\n",
       "      <td>9546.0</td>\n",
       "      <td>6632.0</td>\n",
       "      <td>550.0</td>\n",
       "      <td>4378.0</td>\n",
       "      <td>7800.0</td>\n",
       "      <td>13776.0</td>\n",
       "      <td>28050.0</td>\n",
       "    </tr>\n",
       "  </tbody>\n",
       "</table>\n",
       "</div>"
      ],
      "text/plain": [
       "        count    mean     std    min     25%     50%      75%      max\n",
       "city                                                                  \n",
       "Москва   99.0  9546.0  6632.0  550.0  4378.0  7800.0  13776.0  28050.0"
      ]
     },
     "execution_count": 66,
     "metadata": {},
     "output_type": "execute_result"
    }
   ],
   "source": [
    "df_money_moscow.groupby('city')['total'].describe().round()"
   ]
  },
  {
   "cell_type": "code",
   "execution_count": 67,
   "id": "cbfbd71f",
   "metadata": {},
   "outputs": [
    {
     "data": {
      "image/png": "[encoded data removed]",
      "text/plain": [
       "<Figure size 640x480 with 1 Axes>"
      ]
     },
     "metadata": {},
     "output_type": "display_data"
    }
   ],
   "source": [
    "df_money_moscow.total.hist(bins=50, range=(550,28100))\n",
    "plt.title('Распределение сумм выручки от пользователей Москвы, руб.', loc = 'left')\n",
    "plt.show()"
   ]
  },
  {
   "cell_type": "code",
   "execution_count": 68,
   "id": "bac66fe3",
   "metadata": {},
   "outputs": [
    {
     "data": {
      "image/png": "[encoded data removed]",
      "text/plain": [
       "<Figure size 640x480 with 1 Axes>"
      ]
     },
     "metadata": {},
     "output_type": "display_data"
    }
   ],
   "source": [
    "sns.distplot(df_money_moscow['total'])\n",
    "plt.title('Проверка нормальности распределения (выручка от пользователей Москвы, руб.)', loc = 'left')\n",
    "plt.show()"
   ]
  },
  {
   "cell_type": "markdown",
   "id": "a76715e2",
   "metadata": {},
   "source": [
    "Как видно на гистограммах, распределение не нормальное. Так же видим два пика (это абонентская плата по тарифом, остальное - дополнительные платные услуги. Пользователей тарифа \"Смарт\" больше."
   ]
  },
  {
   "cell_type": "code",
   "execution_count": 69,
   "id": "2b9f03f6",
   "metadata": {},
   "outputs": [
    {
     "data": {
      "text/html": [
       "<div>\n",
       "<style scoped>\n",
       "    .dataframe tbody tr th:only-of-type {\n",
       "        vertical-align: middle;\n",
       "    }\n",
       "\n",
       "    .dataframe tbody tr th {\n",
       "        vertical-align: top;\n",
       "    }\n",
       "\n",
       "    .dataframe thead th {\n",
       "        text-align: right;\n",
       "    }\n",
       "</style>\n",
       "<table border=\"1\" class=\"dataframe\">\n",
       "  <thead>\n",
       "    <tr style=\"text-align: right;\">\n",
       "      <th></th>\n",
       "      <th>user_id</th>\n",
       "      <th>1</th>\n",
       "      <th>2</th>\n",
       "      <th>3</th>\n",
       "      <th>4</th>\n",
       "      <th>5</th>\n",
       "      <th>6</th>\n",
       "      <th>7</th>\n",
       "      <th>8</th>\n",
       "      <th>9</th>\n",
       "      <th>10</th>\n",
       "      <th>11</th>\n",
       "      <th>12</th>\n",
       "      <th>total</th>\n",
       "    </tr>\n",
       "  </thead>\n",
       "  <tbody>\n",
       "    <tr>\n",
       "      <th>count</th>\n",
       "      <td>401.0</td>\n",
       "      <td>401.0</td>\n",
       "      <td>401.0</td>\n",
       "      <td>401.0</td>\n",
       "      <td>401.0</td>\n",
       "      <td>401.0</td>\n",
       "      <td>401.0</td>\n",
       "      <td>401.0</td>\n",
       "      <td>401.0</td>\n",
       "      <td>401.0</td>\n",
       "      <td>401.0</td>\n",
       "      <td>401.0</td>\n",
       "      <td>401.0</td>\n",
       "      <td>401.0</td>\n",
       "    </tr>\n",
       "    <tr>\n",
       "      <th>mean</th>\n",
       "      <td>1248.0</td>\n",
       "      <td>75.0</td>\n",
       "      <td>197.0</td>\n",
       "      <td>327.0</td>\n",
       "      <td>435.0</td>\n",
       "      <td>623.0</td>\n",
       "      <td>744.0</td>\n",
       "      <td>892.0</td>\n",
       "      <td>1082.0</td>\n",
       "      <td>1128.0</td>\n",
       "      <td>1322.0</td>\n",
       "      <td>1400.0</td>\n",
       "      <td>1680.0</td>\n",
       "      <td>9905.0</td>\n",
       "    </tr>\n",
       "    <tr>\n",
       "      <th>std</th>\n",
       "      <td>146.0</td>\n",
       "      <td>296.0</td>\n",
       "      <td>522.0</td>\n",
       "      <td>686.0</td>\n",
       "      <td>718.0</td>\n",
       "      <td>874.0</td>\n",
       "      <td>916.0</td>\n",
       "      <td>967.0</td>\n",
       "      <td>980.0</td>\n",
       "      <td>889.0</td>\n",
       "      <td>943.0</td>\n",
       "      <td>891.0</td>\n",
       "      <td>1001.0</td>\n",
       "      <td>6359.0</td>\n",
       "    </tr>\n",
       "    <tr>\n",
       "      <th>min</th>\n",
       "      <td>1000.0</td>\n",
       "      <td>0.0</td>\n",
       "      <td>0.0</td>\n",
       "      <td>0.0</td>\n",
       "      <td>0.0</td>\n",
       "      <td>0.0</td>\n",
       "      <td>0.0</td>\n",
       "      <td>0.0</td>\n",
       "      <td>0.0</td>\n",
       "      <td>0.0</td>\n",
       "      <td>0.0</td>\n",
       "      <td>0.0</td>\n",
       "      <td>0.0</td>\n",
       "      <td>550.0</td>\n",
       "    </tr>\n",
       "    <tr>\n",
       "      <th>25%</th>\n",
       "      <td>1122.0</td>\n",
       "      <td>0.0</td>\n",
       "      <td>0.0</td>\n",
       "      <td>0.0</td>\n",
       "      <td>0.0</td>\n",
       "      <td>0.0</td>\n",
       "      <td>0.0</td>\n",
       "      <td>0.0</td>\n",
       "      <td>0.0</td>\n",
       "      <td>550.0</td>\n",
       "      <td>550.0</td>\n",
       "      <td>598.0</td>\n",
       "      <td>950.0</td>\n",
       "      <td>4947.0</td>\n",
       "    </tr>\n",
       "    <tr>\n",
       "      <th>50%</th>\n",
       "      <td>1243.0</td>\n",
       "      <td>0.0</td>\n",
       "      <td>0.0</td>\n",
       "      <td>0.0</td>\n",
       "      <td>0.0</td>\n",
       "      <td>0.0</td>\n",
       "      <td>550.0</td>\n",
       "      <td>550.0</td>\n",
       "      <td>950.0</td>\n",
       "      <td>950.0</td>\n",
       "      <td>1350.0</td>\n",
       "      <td>1411.0</td>\n",
       "      <td>1798.0</td>\n",
       "      <td>8839.0</td>\n",
       "    </tr>\n",
       "    <tr>\n",
       "      <th>75%</th>\n",
       "      <td>1375.0</td>\n",
       "      <td>0.0</td>\n",
       "      <td>0.0</td>\n",
       "      <td>0.0</td>\n",
       "      <td>550.0</td>\n",
       "      <td>1150.0</td>\n",
       "      <td>1624.0</td>\n",
       "      <td>1950.0</td>\n",
       "      <td>1950.0</td>\n",
       "      <td>1950.0</td>\n",
       "      <td>1950.0</td>\n",
       "      <td>1950.0</td>\n",
       "      <td>1950.0</td>\n",
       "      <td>14134.0</td>\n",
       "    </tr>\n",
       "    <tr>\n",
       "      <th>max</th>\n",
       "      <td>1499.0</td>\n",
       "      <td>2350.0</td>\n",
       "      <td>3432.0</td>\n",
       "      <td>2721.0</td>\n",
       "      <td>3000.0</td>\n",
       "      <td>3900.0</td>\n",
       "      <td>4473.0</td>\n",
       "      <td>4200.0</td>\n",
       "      <td>4650.0</td>\n",
       "      <td>3759.0</td>\n",
       "      <td>4800.0</td>\n",
       "      <td>5680.0</td>\n",
       "      <td>6770.0</td>\n",
       "      <td>32400.0</td>\n",
       "    </tr>\n",
       "  </tbody>\n",
       "</table>\n",
       "</div>"
      ],
      "text/plain": [
       "       user_id       1       2       3       4       5       6       7  \\\n",
       "count    401.0   401.0   401.0   401.0   401.0   401.0   401.0   401.0   \n",
       "mean    1248.0    75.0   197.0   327.0   435.0   623.0   744.0   892.0   \n",
       "std      146.0   296.0   522.0   686.0   718.0   874.0   916.0   967.0   \n",
       "min     1000.0     0.0     0.0     0.0     0.0     0.0     0.0     0.0   \n",
       "25%     1122.0     0.0     0.0     0.0     0.0     0.0     0.0     0.0   \n",
       "50%     1243.0     0.0     0.0     0.0     0.0     0.0   550.0   550.0   \n",
       "75%     1375.0     0.0     0.0     0.0   550.0  1150.0  1624.0  1950.0   \n",
       "max     1499.0  2350.0  3432.0  2721.0  3000.0  3900.0  4473.0  4200.0   \n",
       "\n",
       "            8       9      10      11      12    total  \n",
       "count   401.0   401.0   401.0   401.0   401.0    401.0  \n",
       "mean   1082.0  1128.0  1322.0  1400.0  1680.0   9905.0  \n",
       "std     980.0   889.0   943.0   891.0  1001.0   6359.0  \n",
       "min       0.0     0.0     0.0     0.0     0.0    550.0  \n",
       "25%       0.0   550.0   550.0   598.0   950.0   4947.0  \n",
       "50%     950.0   950.0  1350.0  1411.0  1798.0   8839.0  \n",
       "75%    1950.0  1950.0  1950.0  1950.0  1950.0  14134.0  \n",
       "max    4650.0  3759.0  4800.0  5680.0  6770.0  32400.0  "
      ]
     },
     "execution_count": 69,
     "metadata": {},
     "output_type": "execute_result"
    }
   ],
   "source": [
    "df_money_other.describe().round()"
   ]
  },
  {
   "cell_type": "code",
   "execution_count": 70,
   "id": "693f4ea5",
   "metadata": {},
   "outputs": [
    {
     "data": {
      "image/png": "[encoded data removed]",
      "text/plain": [
       "<Figure size 640x480 with 1 Axes>"
      ]
     },
     "metadata": {},
     "output_type": "display_data"
    }
   ],
   "source": [
    "df_money_other.total.hist(bins=50, range=(550,32500))\n",
    "plt.title('Распределение сумм выручки от пользователей других городов, руб.', loc = 'left')\n",
    "plt.show()"
   ]
  },
  {
   "cell_type": "code",
   "execution_count": 71,
   "id": "30d383ce",
   "metadata": {},
   "outputs": [
    {
     "data": {
      "image/png": "[encoded data removed]",
      "text/plain": [
       "<Figure size 640x480 with 1 Axes>"
      ]
     },
     "metadata": {},
     "output_type": "display_data"
    }
   ],
   "source": [
    "sns.distplot(df_money_other['total'])\n",
    "plt.title('Проверка нормальности распределения (выручка от пользователей других городов, руб.)', loc = 'left')\n",
    "plt.show()"
   ]
  },
  {
   "cell_type": "markdown",
   "id": "90c92f6c",
   "metadata": {},
   "source": [
    "Здесь картина такая же, но видно, что дополнительных платных услуг  пользователи других городов потребляют больше, чем москвичи."
   ]
  },
  {
   "cell_type": "markdown",
   "id": "afd71fd9",
   "metadata": {},
   "source": [
    "<p>Введем основную и альтернативные гипотезы:</p>\n",
    "\n",
    "$\\begin{equation*}\n",
    " \\begin{cases}\n",
    "   H_0 :\\text{средняя выручка пользователей из Москвы и регионов одинакова}\\\\\n",
    "   H_1 :\\text{средняя выручка пользователей из Москвы отличается от выручки пользователей из других регионов}\n",
    " \\end{cases}\n",
    "\\end{equation*}$\n",
    "\n",
    "Уровень значимости: $\\alpha = 0.05$ \n",
    "\n",
    "Посчитаем p-value, используя `ttest` из библиотеки `scipy` для сравнения средних двух выборок.\n",
    "\n",
    "У нас разные по размеру выборки (пользователей других городов в четыре раза больше, чем пользователей Москвы).\n",
    "Для подтверждения гипотезы о равенстве среднего двух генеральных совокупностей по взятым из них выборкам иcпользуется метод `st.stats.ttest_ind`, так же мы будем использовать параметр `equal_var=False`, т.к. есть сомнения по поводу нормального распределения дисперсий.\n",
    "\n",
    "Если p-value будет меньше выбранного уровня значимости $\\alpha = 0.05$, то нулевую гипотезу о равенстве средних отвергнем. В противном случае делаем вывод, что данные не позволили нам отвергнуть нулевую гипотезу."
   ]
  },
  {
   "cell_type": "code",
   "execution_count": 72,
   "id": "fbc89906",
   "metadata": {},
   "outputs": [
    {
     "name": "stdout",
     "output_type": "stream",
     "text": [
      "p-значение:  0.6273901360626399\n",
      "Не получилось отвергнуть нулевую гипотезу\n"
     ]
    }
   ],
   "source": [
    "alpha = .05   # критический уровень статистической значимости    \n",
    "results = st.stats.ttest_ind(df_money_moscow['total'], df_money_other['total'], equal_var=False)\n",
    "\n",
    "print('p-значение: ', results.pvalue)    # тест двухсторонний\n",
    "\n",
    "if results.pvalue < alpha:\n",
    "    print(\"Отвергаем нулевую гипотезу\")\n",
    "else:\n",
    "    print(\"Не получилось отвергнуть нулевую гипотезу\")"
   ]
  },
  {
   "cell_type": "markdown",
   "id": "2e5e61e1",
   "metadata": {},
   "source": [
    "**Вывод:** \n",
    "\n",
    "p-value получилось больше выбранного уровня 𝛼=0.05. Отвергнуть нулевую гипотезу не получилось, средняя выручка пользователей из Москвы и регионов одинакова."
   ]
  },
  {
   "cell_type": "markdown",
   "id": "91046b3e",
   "metadata": {},
   "source": [
    "## Вывод"
   ]
  },
  {
   "cell_type": "markdown",
   "id": "21a4824f",
   "metadata": {},
   "source": [
    "Исследование проводилось на выборке из пятисот пользователей тарифов \"Ультра\" и \"Смарт\" как Москвы, так и других городов.\n",
    "\n",
    "При этом, пользователей из Москвы было меньше, а среди выбранного пользователями тарифа преобладал \"Смарт\".\n",
    "\n",
    "Было выявлено, что в среднем, пользователи тарифов укладываются в лимиты. Но в частных случаях, есть потребность в использовании дополнительных платных услуг; для Ультры переплаты составляют 50-100 рублей в месяц, в то время как некоторые пользователи тарифа \"Смарт\" могут тратить по 2-3 эквивалента абонентской платы в месяц.\n",
    "\n",
    "В ходе анализа нужно было подтвердить следующие гипотезы:\n",
    "\n",
    "- средняя выручка пользователей тарифов «Ультра» и «Смарт» различаются;\n",
    "- средняя выручка пользователей из Москвы отличается от выручки пользователей из других регионов.\n",
    "\n",
    "В первом случае мы опровергли нулевую гипотезу о равенстве средней выручки тарифов и не смогли опровергнуть гипотезу о том, что средняя выручка тарифа \"Ультра\" больше, чем средняя выручка тарифа \"Смарт\".\n",
    "\n",
    "Во втором случае нулевая гипотеза о равенстве средней выручке пользователей из Москвы и пользователей из других городов отвергнута не была. \n"
   ]
  }
 ],
 "metadata": {
  "ExecuteTimeLog": [
   {
    "duration": 1118,
    "start_time": "2022-03-26T19:43:23.585Z"
   },
   {
    "duration": 358,
    "start_time": "2022-03-26T19:43:24.705Z"
   },
   {
    "duration": 17,
    "start_time": "2022-03-26T19:43:25.065Z"
   },
   {
    "duration": 3,
    "start_time": "2022-03-26T19:43:25.084Z"
   },
   {
    "duration": 36,
    "start_time": "2022-03-26T19:43:25.088Z"
   },
   {
    "duration": 27,
    "start_time": "2022-03-26T19:43:25.126Z"
   },
   {
    "duration": 50,
    "start_time": "2022-03-26T19:43:25.154Z"
   },
   {
    "duration": 20,
    "start_time": "2022-03-26T19:43:25.205Z"
   },
   {
    "duration": 13,
    "start_time": "2022-03-26T19:43:25.227Z"
   },
   {
    "duration": 3,
    "start_time": "2022-03-26T19:43:25.242Z"
   },
   {
    "duration": 89,
    "start_time": "2022-03-26T19:43:25.246Z"
   },
   {
    "duration": 53,
    "start_time": "2022-03-26T19:43:25.337Z"
   },
   {
    "duration": 4,
    "start_time": "2022-03-26T19:43:25.392Z"
   },
   {
    "duration": 38,
    "start_time": "2022-03-26T19:43:25.397Z"
   },
   {
    "duration": 29,
    "start_time": "2022-03-26T19:43:25.437Z"
   },
   {
    "duration": 31,
    "start_time": "2022-03-26T19:43:25.480Z"
   },
   {
    "duration": 40,
    "start_time": "2022-03-26T19:43:25.512Z"
   },
   {
    "duration": 5,
    "start_time": "2022-03-26T19:43:25.554Z"
   },
   {
    "duration": 24,
    "start_time": "2022-03-26T19:43:25.560Z"
   },
   {
    "duration": 14,
    "start_time": "2022-03-26T19:43:25.585Z"
   },
   {
    "duration": 24,
    "start_time": "2022-03-26T19:43:25.600Z"
   },
   {
    "duration": 820,
    "start_time": "2022-03-26T19:43:25.625Z"
   },
   {
    "duration": 4,
    "start_time": "2022-03-26T19:43:26.447Z"
   },
   {
    "duration": 15,
    "start_time": "2022-03-26T19:43:26.452Z"
   },
   {
    "duration": 19,
    "start_time": "2022-03-26T19:43:26.481Z"
   },
   {
    "duration": 29,
    "start_time": "2022-03-26T19:43:26.501Z"
   },
   {
    "duration": 4,
    "start_time": "2022-03-26T19:43:26.531Z"
   },
   {
    "duration": 44,
    "start_time": "2022-03-26T19:43:26.539Z"
   },
   {
    "duration": 29,
    "start_time": "2022-03-26T19:43:26.584Z"
   },
   {
    "duration": 7,
    "start_time": "2022-03-26T19:43:26.614Z"
   },
   {
    "duration": 21,
    "start_time": "2022-03-26T19:43:26.623Z"
   },
   {
    "duration": 4,
    "start_time": "2022-03-26T19:43:26.645Z"
   },
   {
    "duration": 31,
    "start_time": "2022-03-26T19:43:26.650Z"
   },
   {
    "duration": 15,
    "start_time": "2022-03-26T19:43:26.682Z"
   },
   {
    "duration": 9,
    "start_time": "2022-03-26T19:43:26.699Z"
   },
   {
    "duration": 13,
    "start_time": "2022-03-26T19:43:26.709Z"
   },
   {
    "duration": 188,
    "start_time": "2022-03-26T19:43:26.724Z"
   },
   {
    "duration": 190,
    "start_time": "2022-03-26T19:43:26.914Z"
   },
   {
    "duration": 178,
    "start_time": "2022-03-26T19:43:27.106Z"
   },
   {
    "duration": 168,
    "start_time": "2022-03-26T19:43:27.286Z"
   },
   {
    "duration": 162,
    "start_time": "2022-03-26T19:43:27.455Z"
   },
   {
    "duration": 176,
    "start_time": "2022-03-26T19:43:27.619Z"
   },
   {
    "duration": 163,
    "start_time": "2022-03-26T19:43:27.797Z"
   },
   {
    "duration": 157,
    "start_time": "2022-03-26T19:43:27.962Z"
   },
   {
    "duration": 251,
    "start_time": "2022-03-26T19:43:28.120Z"
   },
   {
    "duration": 186,
    "start_time": "2022-03-26T19:43:28.374Z"
   },
   {
    "duration": 188,
    "start_time": "2022-03-26T19:43:28.562Z"
   },
   {
    "duration": 193,
    "start_time": "2022-03-26T19:43:28.753Z"
   },
   {
    "duration": 173,
    "start_time": "2022-03-26T19:43:28.947Z"
   },
   {
    "duration": 154,
    "start_time": "2022-03-26T19:43:29.121Z"
   },
   {
    "duration": 165,
    "start_time": "2022-03-26T19:43:29.277Z"
   },
   {
    "duration": 16,
    "start_time": "2022-03-26T19:43:29.444Z"
   },
   {
    "duration": 27,
    "start_time": "2022-03-26T19:43:29.461Z"
   },
   {
    "duration": 14,
    "start_time": "2022-03-26T19:43:29.490Z"
   },
   {
    "duration": 195,
    "start_time": "2022-03-26T19:43:29.505Z"
   },
   {
    "duration": 155,
    "start_time": "2022-03-26T19:43:29.702Z"
   },
   {
    "duration": 15,
    "start_time": "2022-03-26T19:43:29.858Z"
   },
   {
    "duration": 283,
    "start_time": "2022-03-26T19:43:29.881Z"
   },
   {
    "duration": 136,
    "start_time": "2022-03-26T19:43:30.165Z"
   },
   {
    "duration": 8,
    "start_time": "2022-03-26T19:43:30.302Z"
   },
   {
    "duration": 16,
    "start_time": "2022-03-26T19:43:30.311Z"
   },
   {
    "duration": 12,
    "start_time": "2022-03-26T19:43:30.329Z"
   },
   {
    "duration": 22,
    "start_time": "2022-03-26T19:43:30.343Z"
   },
   {
    "duration": 18,
    "start_time": "2022-03-26T19:43:30.367Z"
   },
   {
    "duration": 16,
    "start_time": "2022-03-26T19:43:30.387Z"
   },
   {
    "duration": 14,
    "start_time": "2022-03-26T19:43:30.405Z"
   },
   {
    "duration": 18,
    "start_time": "2022-03-26T19:43:30.421Z"
   },
   {
    "duration": 171,
    "start_time": "2022-03-26T19:43:30.441Z"
   },
   {
    "duration": 131,
    "start_time": "2022-03-26T19:43:30.614Z"
   },
   {
    "duration": 51,
    "start_time": "2022-03-26T19:43:30.747Z"
   },
   {
    "duration": 157,
    "start_time": "2022-03-26T19:43:30.800Z"
   },
   {
    "duration": 149,
    "start_time": "2022-03-26T19:43:30.958Z"
   },
   {
    "duration": 5,
    "start_time": "2022-03-26T19:43:31.108Z"
   },
   {
    "duration": 12,
    "start_time": "2022-03-26T19:45:44.366Z"
   }
  ],
  "kernelspec": {
   "display_name": "Python 3 (ipykernel)",
   "language": "python",
   "name": "python3"
  },
  "language_info": {
   "codemirror_mode": {
    "name": "ipython",
    "version": 3
   },
   "file_extension": ".py",
   "mimetype": "text/x-python",
   "name": "python",
   "nbconvert_exporter": "python",
   "pygments_lexer": "ipython3",
   "version": "3.9.18"
  },
  "toc": {
   "base_numbering": 1,
   "nav_menu": {},
   "number_sections": true,
   "sideBar": true,
   "skip_h1_title": true,
   "title_cell": "Table of Contents",
   "title_sidebar": "Contents",
   "toc_cell": false,
   "toc_position": {
    "height": "calc(100% - 180px)",
    "left": "10px",
    "top": "150px",
    "width": "307.2px"
   },
   "toc_section_display": true,
   "toc_window_display": true
  }
 },
 "nbformat": 4,
 "nbformat_minor": 5
}
